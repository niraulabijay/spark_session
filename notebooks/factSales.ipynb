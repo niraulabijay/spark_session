{
 "cells": [
  {
   "cell_type": "code",
   "execution_count": 118,
   "id": "a0e0a30f-9459-47a8-9572-2b8f5821bdd3",
   "metadata": {},
   "outputs": [],
   "source": [
    "from pyspark.sql import SparkSession\n",
    "from pyspark.sql.functions import (col, monotonically_increasing_id, when, broadcast)\n",
    "from notebookUtils import readCsvAsDataframe\n",
    "from nb import check_fact_dim_join"
   ]
  },
  {
   "cell_type": "code",
   "execution_count": 109,
   "id": "0bedb349-9f4f-4934-a37f-3edf5035e58f",
   "metadata": {},
   "outputs": [],
   "source": [
    "spark = SparkSession.builder.appName(\"factsales2\").getOrCreate()"
   ]
  },
  {
   "cell_type": "code",
   "execution_count": 110,
   "id": "691364be-289c-48eb-ba63-01e978b58b61",
   "metadata": {},
   "outputs": [],
   "source": [
    "fact_sales = readCsvAsDataframe(spark,\"fact_sales_data_v2.csv\")"
   ]
  },
  {
   "cell_type": "code",
   "execution_count": 111,
   "id": "3b8a6aaf-76c1-4c11-9294-85fbe9816598",
   "metadata": {},
   "outputs": [
    {
     "data": {
      "text/plain": [
       "DataFrame[ProductCategory: string, ProductName: string, Brand: string, StoreRegion: string, StoreName: string, StoreType: string, SalesRep: string, Department: string, EmployeeRole: string, UnitsSold: double, UnitPrice: double, Discount: double, SaleDate: date]"
      ]
     },
     "metadata": {},
     "output_type": "display_data"
    }
   ],
   "source": [
    "display(fact_sales)"
   ]
  },
  {
   "cell_type": "code",
   "execution_count": 112,
   "id": "6863e64e-bad7-42fc-9d1a-145f59e847c9",
   "metadata": {},
   "outputs": [],
   "source": [
    "fact_sales2 = fact_sales.fillna({\n",
    "    \"UnitsSold\": 0,\n",
    "    \"UnitPrice\": 0,\n",
    "    \"ProductName\":\"N/A\",\n",
    "    \"Discount\":0\n",
    "})"
   ]
  },
  {
   "cell_type": "code",
   "execution_count": 113,
   "id": "d2c27c63-1727-4ec1-8dad-686e4de0cf05",
   "metadata": {},
   "outputs": [
    {
     "name": "stdout",
     "output_type": "stream",
     "text": [
      "+---------------+-----------+------+-----------+---------+---------+--------------+-----------+---------------+---------+---------+--------+----------+\n",
      "|ProductCategory|ProductName| Brand|StoreRegion|StoreName|StoreType|      SalesRep| Department|   EmployeeRole|UnitsSold|UnitPrice|Discount|  SaleDate|\n",
      "+---------------+-----------+------+-----------+---------+---------+--------------+-----------+---------------+---------+---------+--------+----------+\n",
      "|      Furniture|    T-shirt|BrandB|       East|   StoreX|Franchise|   Martha Long|Electronics|        Cashier|     12.0|     -1.0|     5.0|2022-12-14|\n",
      "|       Clothing|     Tablet|BrandC|       East|   StoreZ|Franchise|   Martha Long|       Home|Sales Associate|      0.0|   272.49|     0.0|2023-02-24|\n",
      "|       Clothing|     Tablet|BrandA|      South|   StoreX|   Retail| Emily Vazquez|    Apparel|        Cashier|      0.0|   484.75|    15.0|2025-03-24|\n",
      "|    Electronics| Smartphone|BrandB|       West|   StoreY|   Outlet|Charles Fields|    Apparel|        Cashier|      0.0|   205.74|    10.0|2023-09-30|\n",
      "|      Furniture|    T-shirt|BrandC|       East|   StoreZ|   Outlet|Wendy Castillo|       Home|        Manager|     46.0|    20.25|     5.0|2022-10-14|\n",
      "|      Furniture|    T-shirt|BrandC|      South|   StoreY|   Retail|Wendy Castillo|       Home|        Manager|      0.0|   361.06|    10.0|2024-02-23|\n",
      "|       Clothing|    T-shirt|BrandC|      South|   StoreY|   Outlet|   John Harris|       Home|        Cashier|     37.0|   492.65|     5.0|2024-05-06|\n",
      "|    Electronics| Smartphone|BrandC|      South|   StoreX|   Outlet|Charles Fields|       Home|Sales Associate|     37.0|   293.87|    15.0|2023-04-04|\n",
      "|       Clothing|      Jeans|BrandA|      South|   StoreY|   Retail|Wendy Castillo|Electronics|        Manager|     23.0|   189.47|    15.0|2022-12-26|\n",
      "|      Furniture|    T-shirt|BrandB|       East|   StoreZ|Franchise|Charles Fields|    Apparel|        Manager|     25.0|   359.08|    10.0|2022-10-28|\n",
      "|       Clothing|       Desk|BrandC|      South|   StoreZ|   Retail|Wendy Castillo|       Home|        Manager|      0.0|   438.28|     0.0|2025-05-12|\n",
      "|       Clothing|       Desk|BrandB|      North|   StoreZ|   Retail|   Kelly Moore|    Apparel|Sales Associate|      0.0|     -1.0|     0.0|2024-11-14|\n",
      "|    Electronics|     Tablet|BrandB|      North|   StoreX|   Outlet|    Kara Lewis|Electronics|        Manager|      0.0|   490.01|     0.0|2025-05-20|\n",
      "|      Furniture|     Tablet|BrandC|       East|   StoreX|   Retail| Emily Vazquez|    Apparel|        Manager|     15.0|   139.58|     5.0|2023-11-09|\n",
      "|    Electronics|      Chair|BrandA|       West|   StoreY|Franchise|  James Austin|Electronics|        Cashier|      0.0|    67.66|    15.0|2025-03-27|\n",
      "|    Electronics|       Desk|BrandA|       East|   StoreX|Franchise| Emily Vazquez|       Home|        Manager|     19.0|    330.2|    10.0|2022-12-16|\n",
      "|      Furniture|    T-shirt|BrandC|       West|   StoreY|Franchise|   Martha Long|       Home|        Cashier|      7.0|   290.63|    15.0|2022-07-28|\n",
      "|    Electronics|       Desk|BrandC|      North|   StoreY|   Outlet|Charles Fields|       Home|        Cashier|      7.0|   349.27|    10.0|2022-07-04|\n",
      "|      Furniture|      Jeans|BrandC|       East|   StoreZ|Franchise|Wendy Castillo|       Home|        Manager|      0.0|   267.61|     0.0|2022-11-27|\n",
      "|    Electronics|      Jeans|BrandB|       East|   StoreZ|   Outlet|  James Austin|       Home|        Manager|     41.0|    52.57|     0.0|2025-03-16|\n",
      "|       Clothing|        N/A|BrandB|       East|   StoreZ|Franchise|      Kyle Lin|Electronics|        Manager|      0.0|    85.99|     0.0|2024-03-05|\n",
      "|    Electronics|    T-shirt|BrandA|      South|   StoreX|   Retail|   Kelly Moore|    Apparel|Sales Associate|      0.0|     -1.0|     5.0|2025-04-06|\n",
      "|      Furniture|        N/A|BrandA|      South|   StoreZ|   Retail|   Billy Perez|    Apparel|Sales Associate|     22.0|   444.29|     0.0|2024-03-05|\n",
      "|       Clothing|       Desk|BrandB|      North|   StoreX|Franchise|   John Harris|    Apparel|        Manager|     41.0|   283.25|     0.0|2023-02-06|\n",
      "|      Furniture|        N/A|BrandA|      North|   StoreZ|Franchise|Charles Fields|       Home|        Cashier|     16.0|   238.49|     0.0|2024-08-27|\n",
      "|       Clothing|      Jeans|BrandC|      North|   StoreY|   Retail|      Kyle Lin|Electronics|Sales Associate|      0.0|   414.77|     0.0|2023-01-18|\n",
      "|      Furniture| Smartphone|BrandC|       West|   StoreX|   Retail|      Kyle Lin|       Home|        Cashier|      0.0|    21.38|     5.0|2022-10-11|\n",
      "|      Furniture|       Desk|BrandB|       West|   StoreX|   Outlet|   John Harris|Electronics|        Manager|      0.0|   279.35|     0.0|2023-10-11|\n",
      "|      Furniture|     Tablet|BrandA|      South|   StoreY|   Retail|   Billy Perez|Electronics|        Cashier|     37.0|    415.6|    15.0|2022-08-23|\n",
      "|      Furniture|       Desk|BrandA|      South|   StoreZ|Franchise| Emily Vazquez|Electronics|Sales Associate|      0.0|   359.04|     0.0|2024-01-20|\n",
      "+---------------+-----------+------+-----------+---------+---------+--------------+-----------+---------------+---------+---------+--------+----------+\n",
      "\n"
     ]
    }
   ],
   "source": [
    "fact_sales2.show(30)"
   ]
  },
  {
   "cell_type": "code",
   "execution_count": 114,
   "id": "ce74574b-1c01-4d74-b2d4-6acefd4f63d5",
   "metadata": {},
   "outputs": [],
   "source": [
    "fact_sales3 = fact_sales2.withColumn(\n",
    "    \"UnitPrice\",\n",
    "    when(col(\"UnitPrice\") < 0, 0).otherwise(col(\"UnitPrice\"))\n",
    ")"
   ]
  },
  {
   "cell_type": "code",
   "execution_count": 115,
   "id": "f69e63b3-acca-44ef-9eb1-db405ba38c42",
   "metadata": {},
   "outputs": [],
   "source": [
    "dim_product = spark.read.parquet(\"spark-warehouse/dim_product\");"
   ]
  },
  {
   "cell_type": "code",
   "execution_count": 119,
   "id": "cab97a54-25e9-4fc1-9862-5a037ee90fa2",
   "metadata": {},
   "outputs": [],
   "source": [
    "fact_sales4 = fact_sales3.join(\n",
    "    broadcast(dim_product),\n",
    "    (fact_sales3.ProductName == dim_product.Title) & (fact_sales3.ProductCategory == dim_product.Category) & (fact_sales3.Brand == dim_product.Brand),\n",
    "    \"left\"\n",
    ").select(\n",
    "    fact_sales3[\"*\"],\n",
    "    dim_product[\"ProductKey\"]\n",
    ")"
   ]
  },
  {
   "cell_type": "code",
   "execution_count": 121,
   "id": "61a0b99d-57ff-4236-a2d8-7b8d5c4b9993",
   "metadata": {},
   "outputs": [
    {
     "name": "stdout",
     "output_type": "stream",
     "text": [
      "== Physical Plan ==\n",
      "AdaptiveSparkPlan isFinalPlan=false\n",
      "+- Project [ProductCategory#2672, ProductName#2711, Brand#2674, StoreRegion#2675, StoreName#2676, StoreType#2677, SalesRep#2678, Department#2679, EmployeeRole#2680, UnitsSold#2712, UnitPrice#2795, Discount#2714, SaleDate#2684, ProductKey#2812L]\n",
      "   +- BroadcastHashJoin [ProductName#2711, ProductCategory#2672, Brand#2674], [Title#2809, Category#2810, Brand#2811], LeftOuter, BuildRight, false\n",
      "      :- Project [ProductCategory#2672, ProductName#2711, Brand#2674, StoreRegion#2675, StoreName#2676, StoreType#2677, SalesRep#2678, Department#2679, EmployeeRole#2680, UnitsSold#2712, CASE WHEN (UnitPrice#2713 < 0.0) THEN 0.0 ELSE UnitPrice#2713 END AS UnitPrice#2795, Discount#2714, SaleDate#2684]\n",
      "      :  +- Project [ProductCategory#2672, coalesce(ProductName#2673, N/A) AS ProductName#2711, Brand#2674, StoreRegion#2675, StoreName#2676, StoreType#2677, SalesRep#2678, Department#2679, EmployeeRole#2680, coalesce(nanvl(UnitsSold#2681, null), 0.0) AS UnitsSold#2712, coalesce(nanvl(UnitPrice#2682, null), 0.0) AS UnitPrice#2713, coalesce(nanvl(Discount#2683, null), 0.0) AS Discount#2714, SaleDate#2684]\n",
      "      :     +- FileScan csv [ProductCategory#2672,ProductName#2673,Brand#2674,StoreRegion#2675,StoreName#2676,StoreType#2677,SalesRep#2678,Department#2679,EmployeeRole#2680,UnitsSold#2681,UnitPrice#2682,Discount#2683,SaleDate#2684] Batched: false, DataFilters: [], Format: CSV, Location: InMemoryFileIndex(1 paths)[file:/home/jovyan/work/fact_sales_data_v2.csv], PartitionFilters: [], PushedFilters: [], ReadSchema: struct<ProductCategory:string,ProductName:string,Brand:string,StoreRegion:string,StoreName:string...\n",
      "      +- BroadcastExchange HashedRelationBroadcastMode(List(input[0, string, false], input[1, string, false], input[2, string, false]),false), [plan_id=6196]\n",
      "         +- Filter ((isnotnull(Title#2809) AND isnotnull(Category#2810)) AND isnotnull(Brand#2811))\n",
      "            +- FileScan parquet [Title#2809,Category#2810,Brand#2811,ProductKey#2812L] Batched: true, DataFilters: [isnotnull(Title#2809), isnotnull(Category#2810), isnotnull(Brand#2811)], Format: Parquet, Location: InMemoryFileIndex(1 paths)[file:/home/jovyan/work/spark-warehouse/dim_product], PartitionFilters: [], PushedFilters: [IsNotNull(Title), IsNotNull(Category), IsNotNull(Brand)], ReadSchema: struct<Title:string,Category:string,Brand:string,ProductKey:bigint>\n",
      "\n",
      "\n"
     ]
    }
   ],
   "source": [
    "# see Broadcast join in query plan\n",
    "fact_sales4.explain()"
   ]
  },
  {
   "cell_type": "code",
   "execution_count": 122,
   "id": "885625f2-eb30-4b96-ab7c-cd7d529c258f",
   "metadata": {},
   "outputs": [],
   "source": [
    "dim_store = spark.read.parquet(\"spark-warehouse/dim_store\");"
   ]
  },
  {
   "cell_type": "code",
   "execution_count": 123,
   "id": "552b3237-a483-471c-b807-2b604f93679d",
   "metadata": {},
   "outputs": [],
   "source": [
    "fact_sales5 = fact_sales4.join(\n",
    "    dim_store,\n",
    "    (fact_sales4.StoreRegion == dim_store.Region) & (fact_sales4.StoreName == dim_store.Name) & (fact_sales4.StoreType == dim_store.Type),\n",
    "    \"left\"\n",
    ").select(\n",
    "    fact_sales4[\"*\"],\n",
    "    dim_store[\"StoreKey\"]\n",
    ")"
   ]
  },
  {
   "cell_type": "code",
   "execution_count": 124,
   "id": "bc82a7e3-c9c1-421f-9c79-2084bb59c108",
   "metadata": {},
   "outputs": [
    {
     "name": "stdout",
     "output_type": "stream",
     "text": [
      "== Physical Plan ==\n",
      "AdaptiveSparkPlan isFinalPlan=false\n",
      "+- Project [ProductCategory#2672, ProductName#2711, Brand#2674, StoreRegion#2675, StoreName#2676, StoreType#2677, SalesRep#2678, Department#2679, EmployeeRole#2680, UnitsSold#2712, UnitPrice#2795, Discount#2714, SaleDate#2684, ProductKey#2812L, StoreKey#2869L]\n",
      "   +- BroadcastHashJoin [StoreRegion#2675, StoreName#2676, StoreType#2677], [Region#2866, Name#2867, Type#2868], LeftOuter, BuildRight, false\n",
      "      :- Project [ProductCategory#2672, ProductName#2711, Brand#2674, StoreRegion#2675, StoreName#2676, StoreType#2677, SalesRep#2678, Department#2679, EmployeeRole#2680, UnitsSold#2712, UnitPrice#2795, Discount#2714, SaleDate#2684, ProductKey#2812L]\n",
      "      :  +- BroadcastHashJoin [ProductName#2711, ProductCategory#2672, Brand#2674], [Title#2809, Category#2810, Brand#2811], LeftOuter, BuildRight, false\n",
      "      :     :- Project [ProductCategory#2672, ProductName#2711, Brand#2674, StoreRegion#2675, StoreName#2676, StoreType#2677, SalesRep#2678, Department#2679, EmployeeRole#2680, UnitsSold#2712, CASE WHEN (UnitPrice#2713 < 0.0) THEN 0.0 ELSE UnitPrice#2713 END AS UnitPrice#2795, Discount#2714, SaleDate#2684]\n",
      "      :     :  +- Project [ProductCategory#2672, coalesce(ProductName#2673, N/A) AS ProductName#2711, Brand#2674, StoreRegion#2675, StoreName#2676, StoreType#2677, SalesRep#2678, Department#2679, EmployeeRole#2680, coalesce(nanvl(UnitsSold#2681, null), 0.0) AS UnitsSold#2712, coalesce(nanvl(UnitPrice#2682, null), 0.0) AS UnitPrice#2713, coalesce(nanvl(Discount#2683, null), 0.0) AS Discount#2714, SaleDate#2684]\n",
      "      :     :     +- FileScan csv [ProductCategory#2672,ProductName#2673,Brand#2674,StoreRegion#2675,StoreName#2676,StoreType#2677,SalesRep#2678,Department#2679,EmployeeRole#2680,UnitsSold#2681,UnitPrice#2682,Discount#2683,SaleDate#2684] Batched: false, DataFilters: [], Format: CSV, Location: InMemoryFileIndex(1 paths)[file:/home/jovyan/work/fact_sales_data_v2.csv], PartitionFilters: [], PushedFilters: [], ReadSchema: struct<ProductCategory:string,ProductName:string,Brand:string,StoreRegion:string,StoreName:string...\n",
      "      :     +- BroadcastExchange HashedRelationBroadcastMode(List(input[0, string, false], input[1, string, false], input[2, string, false]),false), [plan_id=6245]\n",
      "      :        +- Filter ((isnotnull(Title#2809) AND isnotnull(Category#2810)) AND isnotnull(Brand#2811))\n",
      "      :           +- FileScan parquet [Title#2809,Category#2810,Brand#2811,ProductKey#2812L] Batched: true, DataFilters: [isnotnull(Title#2809), isnotnull(Category#2810), isnotnull(Brand#2811)], Format: Parquet, Location: InMemoryFileIndex(1 paths)[file:/home/jovyan/work/spark-warehouse/dim_product], PartitionFilters: [], PushedFilters: [IsNotNull(Title), IsNotNull(Category), IsNotNull(Brand)], ReadSchema: struct<Title:string,Category:string,Brand:string,ProductKey:bigint>\n",
      "      +- BroadcastExchange HashedRelationBroadcastMode(List(input[0, string, false], input[1, string, false], input[2, string, false]),false), [plan_id=6249]\n",
      "         +- Filter ((isnotnull(Region#2866) AND isnotnull(Name#2867)) AND isnotnull(Type#2868))\n",
      "            +- FileScan parquet [Region#2866,Name#2867,Type#2868,StoreKey#2869L] Batched: true, DataFilters: [isnotnull(Region#2866), isnotnull(Name#2867), isnotnull(Type#2868)], Format: Parquet, Location: InMemoryFileIndex(1 paths)[file:/home/jovyan/work/spark-warehouse/dim_store], PartitionFilters: [], PushedFilters: [IsNotNull(Region), IsNotNull(Name), IsNotNull(Type)], ReadSchema: struct<Region:string,Name:string,Type:string,StoreKey:bigint>\n",
      "\n",
      "\n"
     ]
    }
   ],
   "source": [
    "fact_sales5.explain()"
   ]
  },
  {
   "cell_type": "code",
   "execution_count": 39,
   "id": "a0eb162c-6fc7-4058-8981-656afc44b3dd",
   "metadata": {},
   "outputs": [],
   "source": [
    "dim_employee = spark.read.parquet(\"spark-warehouse/dim_employee\");"
   ]
  },
  {
   "cell_type": "code",
   "execution_count": 49,
   "id": "9b9d1b3c-f958-43b6-b2e0-3d660957dcc5",
   "metadata": {},
   "outputs": [],
   "source": [
    "f_sales = fact_sales5.join(\n",
    "    dim_employee,\n",
    "    (fact_sales5.SalesRep == dim_employee.SalesRep) & (fact_sales5.Department == dim_employee.Department) & (fact_sales5.EmployeeRole == dim_employee.EmployeeRole),\n",
    "    \"left\"\n",
    ").select(\n",
    "    fact_sales5[\"*\"],\n",
    "    dim_employee[\"EmployeeKey\"]\n",
    ")"
   ]
  },
  {
   "cell_type": "code",
   "execution_count": 50,
   "id": "b891f91f-cffa-4716-9387-d3c758ec40a9",
   "metadata": {},
   "outputs": [
    {
     "name": "stdout",
     "output_type": "stream",
     "text": [
      "+---------------+-----------+------+-----------+---------+---------+--------------+-----------+---------------+---------+---------+--------+----------+----------+--------+-----------+\n",
      "|ProductCategory|ProductName| Brand|StoreRegion|StoreName|StoreType|      SalesRep| Department|   EmployeeRole|UnitsSold|UnitPrice|Discount|  SaleDate|ProductKey|StoreKey|EmployeeKey|\n",
      "+---------------+-----------+------+-----------+---------+---------+--------------+-----------+---------------+---------+---------+--------+----------+----------+--------+-----------+\n",
      "|      Furniture|    T-shirt|BrandB|       East|   StoreX|Franchise|   Martha Long|Electronics|        Cashier|     12.0|      0.0|     5.0|2022-12-14|        12|       7|         21|\n",
      "|       Clothing|     Tablet|BrandC|       East|   StoreZ|Franchise|   Martha Long|       Home|Sales Associate|      0.0|   272.49|     0.0|2023-02-24|         0|       9|         11|\n",
      "|       Clothing|     Tablet|BrandA|      South|   StoreX|   Retail| Emily Vazquez|    Apparel|        Cashier|      0.0|   484.75|    15.0|2025-03-24|         7|      18|         14|\n",
      "|    Electronics| Smartphone|BrandB|       West|   StoreY|   Outlet|Charles Fields|    Apparel|        Cashier|      0.0|   205.74|    10.0|2023-09-30|         1|      12|         13|\n",
      "|      Furniture|    T-shirt|BrandC|       East|   StoreZ|   Outlet|Wendy Castillo|       Home|        Manager|     46.0|    20.25|     5.0|2022-10-14|        15|      19|          2|\n",
      "|      Furniture|    T-shirt|BrandC|      South|   StoreY|   Retail|Wendy Castillo|       Home|        Manager|      0.0|   361.06|    10.0|2024-02-23|        15|       1|          2|\n",
      "|       Clothing|    T-shirt|BrandC|      South|   StoreY|   Outlet|   John Harris|       Home|        Cashier|     37.0|   492.65|     5.0|2024-05-06|        14|      15|          9|\n",
      "|    Electronics| Smartphone|BrandC|      South|   StoreX|   Outlet|Charles Fields|       Home|Sales Associate|     37.0|   293.87|    15.0|2023-04-04|        22|       8|         22|\n",
      "|       Clothing|      Jeans|BrandA|      South|   StoreY|   Retail|Wendy Castillo|Electronics|        Manager|     23.0|   189.47|    15.0|2022-12-26|        21|       1|          3|\n",
      "|      Furniture|    T-shirt|BrandB|       East|   StoreZ|Franchise|Charles Fields|    Apparel|        Manager|     25.0|   359.08|    10.0|2022-10-28|        12|       9|          1|\n",
      "|       Clothing|       Desk|BrandC|      South|   StoreZ|   Retail|Wendy Castillo|       Home|        Manager|      0.0|   438.28|     0.0|2025-05-12|        10|       6|          2|\n",
      "|       Clothing|       Desk|BrandB|      North|   StoreZ|   Retail|   Kelly Moore|    Apparel|Sales Associate|      0.0|      0.0|     0.0|2024-11-14|         4|       4|         17|\n",
      "|    Electronics|     Tablet|BrandB|      North|   StoreX|   Outlet|    Kara Lewis|Electronics|        Manager|      0.0|   490.01|     0.0|2025-05-20|         8|       3|         16|\n",
      "|      Furniture|     Tablet|BrandC|       East|   StoreX|   Retail| Emily Vazquez|    Apparel|        Manager|     15.0|   139.58|     5.0|2023-11-09|        11|       2|         19|\n",
      "|    Electronics|      Chair|BrandA|       West|   StoreY|Franchise|  James Austin|Electronics|        Cashier|      0.0|    67.66|    15.0|2025-03-27|        17|      16|         23|\n",
      "|    Electronics|       Desk|BrandA|       East|   StoreX|Franchise| Emily Vazquez|       Home|        Manager|     19.0|    330.2|    10.0|2022-12-16|        20|       7|         12|\n",
      "|      Furniture|    T-shirt|BrandC|       West|   StoreY|Franchise|   Martha Long|       Home|        Cashier|      7.0|   290.63|    15.0|2022-07-28|        15|      16|         15|\n",
      "|    Electronics|       Desk|BrandC|      North|   StoreY|   Outlet|Charles Fields|       Home|        Cashier|      7.0|   349.27|    10.0|2022-07-04|        18|       0|          4|\n",
      "|      Furniture|      Jeans|BrandC|       East|   StoreZ|Franchise|Wendy Castillo|       Home|        Manager|      0.0|   267.61|     0.0|2022-11-27|        16|       9|          2|\n",
      "|    Electronics|      Jeans|BrandB|       East|   StoreZ|   Outlet|  James Austin|       Home|        Manager|     41.0|    52.57|     0.0|2025-03-16|        13|      19|         18|\n",
      "|       Clothing|        N/A|BrandB|       East|   StoreZ|Franchise|      Kyle Lin|Electronics|        Manager|      0.0|    85.99|     0.0|2024-03-05|      NULL|       9|         20|\n",
      "|    Electronics|    T-shirt|BrandA|      South|   StoreX|   Retail|   Kelly Moore|    Apparel|Sales Associate|      0.0|      0.0|     5.0|2025-04-06|        19|      18|         17|\n",
      "|      Furniture|        N/A|BrandA|      South|   StoreZ|   Retail|   Billy Perez|    Apparel|Sales Associate|     22.0|   444.29|     0.0|2024-03-05|      NULL|       6|         24|\n",
      "|       Clothing|       Desk|BrandB|      North|   StoreX|Franchise|   John Harris|    Apparel|        Manager|     41.0|   283.25|     0.0|2023-02-06|         4|      13|          7|\n",
      "|      Furniture|        N/A|BrandA|      North|   StoreZ|Franchise|Charles Fields|       Home|        Cashier|     16.0|   238.49|     0.0|2024-08-27|      NULL|      17|          4|\n",
      "|       Clothing|      Jeans|BrandC|      North|   StoreY|   Retail|      Kyle Lin|Electronics|Sales Associate|      0.0|   414.77|     0.0|2023-01-18|         9|      11|          0|\n",
      "|      Furniture| Smartphone|BrandC|       West|   StoreX|   Retail|      Kyle Lin|       Home|        Cashier|      0.0|    21.38|     5.0|2022-10-11|         3|      10|          5|\n",
      "|      Furniture|       Desk|BrandB|       West|   StoreX|   Outlet|   John Harris|Electronics|        Manager|      0.0|   279.35|     0.0|2023-10-11|         5|      14|          6|\n",
      "|      Furniture|     Tablet|BrandA|      South|   StoreY|   Retail|   Billy Perez|Electronics|        Cashier|     37.0|    415.6|    15.0|2022-08-23|         2|       1|          8|\n",
      "|      Furniture|       Desk|BrandA|      South|   StoreZ|Franchise| Emily Vazquez|Electronics|Sales Associate|      0.0|   359.04|     0.0|2024-01-20|         6|       5|         10|\n",
      "+---------------+-----------+------+-----------+---------+---------+--------------+-----------+---------------+---------+---------+--------+----------+----------+--------+-----------+\n",
      "\n"
     ]
    }
   ],
   "source": [
    "f_sales.show(30)"
   ]
  },
  {
   "cell_type": "code",
   "execution_count": 51,
   "id": "801a58c7-ad51-47c4-bfc8-0693b6551609",
   "metadata": {},
   "outputs": [],
   "source": [
    "f_sales_clean = f_sales.fillna({\n",
    "    \"ProductKey\":-1,\n",
    "    \"EmployeeKey\":-1,\n",
    "    \"StoreKey\":-1\n",
    "})"
   ]
  },
  {
   "cell_type": "code",
   "execution_count": 52,
   "id": "4fe59988-63b8-46b4-8be0-e2884a0cfd9d",
   "metadata": {},
   "outputs": [],
   "source": [
    "f_sales2 = f_sales_clean.withColumn(\"NetRevenue\", col('UnitsSold') * col('UnitPrice') * (1 - col('Discount')/100))"
   ]
  },
  {
   "cell_type": "code",
   "execution_count": 58,
   "id": "640361bb-8f92-4e70-9ec8-1ce8d6144828",
   "metadata": {},
   "outputs": [],
   "source": [
    "f_sales_final = f_sales2.drop(col('ProductName'),col('ProductCategory'), col('Brand'),col('StoreRegion'),col('StoreType'), col('StoreName'),col('EmployeeRole'),col('SalesRep'),col('Department'))"
   ]
  },
  {
   "cell_type": "code",
   "execution_count": 60,
   "id": "7208b9c6-53e1-4061-8024-448cbd9654cf",
   "metadata": {},
   "outputs": [],
   "source": [
    "f_sales_final.write.format(\"parquet\").mode(\"overwrite\").saveAsTable(name=\"fact_sales\")"
   ]
  },
  {
   "cell_type": "markdown",
   "id": "ce2e8380-934f-4b37-b8ec-da6814b0db5e",
   "metadata": {},
   "source": [
    "### Testing : Check all IDs in FACT join with DIM or not"
   ]
  },
  {
   "cell_type": "code",
   "execution_count": 61,
   "id": "07bddd0c-6e59-4e3c-9558-229f8f4ba472",
   "metadata": {},
   "outputs": [],
   "source": [
    "df_sales_get = spark.read.parquet(\"spark-warehouse/fact_sales\")"
   ]
  },
  {
   "cell_type": "code",
   "execution_count": 72,
   "id": "7c3c8959-1258-4ef8-8039-adb54daf0643",
   "metadata": {},
   "outputs": [],
   "source": [
    "dim_product = spark.read.parquet(\"spark-warehouse/dim_product\")"
   ]
  },
  {
   "cell_type": "code",
   "execution_count": 75,
   "id": "877cc8fc-1bab-46cf-bf8d-000a9fec6158",
   "metadata": {},
   "outputs": [
    {
     "name": "stdout",
     "output_type": "stream",
     "text": [
      "Validation Passed: All ProductKey values match.\n"
     ]
    }
   ],
   "source": [
    "is_valid, unmatched_df = check_fact_dim_join(df_sales_get, dim_product, \"ProductKey\")\n",
    "if is_valid:\n",
    "    print(\"All ProductKey values match.\")\n",
    "else:\n",
    "    print(\"ome ProductKey values not found.\")\n",
    "    unmatched_df.show()"
   ]
  },
  {
   "cell_type": "code",
   "execution_count": 76,
   "id": "2ec2d433-5fb3-4aaf-bd6e-717d4154d733",
   "metadata": {},
   "outputs": [],
   "source": [
    "dim_store = spark.read.parquet(\"spark-warehouse/dim_store\")"
   ]
  },
  {
   "cell_type": "code",
   "execution_count": 91,
   "id": "1df302ad-5601-492a-a2ac-6812ee247455",
   "metadata": {},
   "outputs": [
    {
     "name": "stdout",
     "output_type": "stream",
     "text": [
      "All StoreKey values match.\n"
     ]
    }
   ],
   "source": [
    "is_valid, unmatched_df = check_fact_dim_join(df_sales_get, dim_store, \"StoreKey\")\n",
    "if is_valid:\n",
    "    print(\"All StoreKey values match.\")\n",
    "else:\n",
    "    print(\"Some StoreKey values not found.\")\n",
    "    unmatched_df.show()"
   ]
  },
  {
   "cell_type": "code",
   "execution_count": null,
   "id": "44a770ba-a901-466c-8dc3-e2e653f6cadd",
   "metadata": {},
   "outputs": [],
   "source": []
  },
  {
   "cell_type": "code",
   "execution_count": 79,
   "id": "58c6c059-d896-48c6-8d58-a71258ad1aac",
   "metadata": {},
   "outputs": [],
   "source": [
    "dim_employee = spark.read.parquet(\"spark-warehouse/dim_employee\")"
   ]
  },
  {
   "cell_type": "code",
   "execution_count": 90,
   "id": "07f679d5-ed54-41de-ac53-09a003305ba3",
   "metadata": {},
   "outputs": [
    {
     "name": "stdout",
     "output_type": "stream",
     "text": [
      "All EmployeeKey values match.\n"
     ]
    }
   ],
   "source": [
    "is_valid, unmatched_df = check_fact_dim_join(df_sales_get, dim_employee, \"EmployeeKey\")\n",
    "if is_valid:\n",
    "    print(\"All EmployeeKey values match.\")\n",
    "else:\n",
    "    print(\"Some EmployeeKey values not found.\")\n",
    "    unmatched_df.show()"
   ]
  },
  {
   "cell_type": "markdown",
   "id": "c77d28c9-08f5-497f-8a69-8429ab23655e",
   "metadata": {},
   "source": [
    "#### Manually adding fail case scenario"
   ]
  },
  {
   "cell_type": "code",
   "execution_count": 106,
   "id": "36df389e-1e8e-4e96-a4ff-2a93692ad032",
   "metadata": {},
   "outputs": [],
   "source": [
    "df_sales_invalid = spark.createDataFrame([\n",
    "    (10, 10, 10, \"2020-10-20\", 99, 99, 99, 9999)\n",
    "],[\"UnitsSold\",\"UnitPrice\",\"Discount\", \"SaleDate\", \"ProductKey\",\"StoreKey\",\"EmployeeKey\",\"NetRevenue\"])\n",
    "df_sales_inv = df_sales_get.unionAll(df_sales_invalid)"
   ]
  },
  {
   "cell_type": "code",
   "execution_count": 105,
   "id": "6b1df170-c276-48ac-a8d7-14f1e3f439dd",
   "metadata": {},
   "outputs": [
    {
     "name": "stdout",
     "output_type": "stream",
     "text": [
      "Some EmployeeKey values not found.\n",
      "+-----------+\n",
      "|EmployeeKey|\n",
      "+-----------+\n",
      "|         99|\n",
      "+-----------+\n",
      "\n"
     ]
    }
   ],
   "source": [
    "is_valid, unmatched_df = check_fact_dim_join(df_sales_inv, dim_employee, \"EmployeeKey\")\n",
    "if is_valid:\n",
    "    print(\"All EmployeeKey values match.\")\n",
    "else:\n",
    "    print(\"Some EmployeeKey values not found.\")\n",
    "    unmatched_df.show()"
   ]
  },
  {
   "cell_type": "code",
   "execution_count": null,
   "id": "851ffd3b-ce99-48c4-9cfe-46c5b103f260",
   "metadata": {},
   "outputs": [],
   "source": []
  }
 ],
 "metadata": {
  "kernelspec": {
   "display_name": "Python 3 (ipykernel)",
   "language": "python",
   "name": "python3"
  },
  "language_info": {
   "codemirror_mode": {
    "name": "ipython",
    "version": 3
   },
   "file_extension": ".py",
   "mimetype": "text/x-python",
   "name": "python",
   "nbconvert_exporter": "python",
   "pygments_lexer": "ipython3",
   "version": "3.11.6"
  }
 },
 "nbformat": 4,
 "nbformat_minor": 5
}
