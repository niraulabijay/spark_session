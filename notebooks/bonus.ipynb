{
 "cells": [
  {
   "cell_type": "markdown",
   "id": "c45fe273-78e2-41c3-8bcc-69e20cb16b3a",
   "metadata": {},
   "source": [
    "### Agreegate"
   ]
  },
  {
   "cell_type": "code",
   "execution_count": 10,
   "id": "4ede7eaa-73f6-4551-957b-465aa98664ac",
   "metadata": {},
   "outputs": [],
   "source": [
    "from pyspark.sql import SparkSession\n",
    "from pyspark.sql.functions import (col, sum as sparkSum)"
   ]
  },
  {
   "cell_type": "code",
   "execution_count": 4,
   "id": "61204675-256e-46a9-8a1d-e7c0d7d7ddce",
   "metadata": {},
   "outputs": [],
   "source": [
    "spark = SparkSession.builder.appName(\"factsales2\").getOrCreate()"
   ]
  },
  {
   "cell_type": "code",
   "execution_count": 5,
   "id": "dbb6884b-df5e-40b8-b98b-375d2a3a3f5e",
   "metadata": {},
   "outputs": [],
   "source": [
    "fact_sales = spark.read.parquet(\"spark-warehouse/fact_sales\")"
   ]
  },
  {
   "cell_type": "code",
   "execution_count": 6,
   "id": "066fe232-a660-4043-ba74-a2b7021a01d5",
   "metadata": {},
   "outputs": [],
   "source": [
    "dim_store = spark.read.parquet(\"spark-warehouse/dim_store\")"
   ]
  },
  {
   "cell_type": "code",
   "execution_count": 12,
   "id": "d4a5620b-b3e8-42c3-aa8f-9d2a664b2d8d",
   "metadata": {},
   "outputs": [],
   "source": [
    "fact_sales2 = fact_sales.join(\n",
    "    dim_store,\n",
    "    fact_sales.StoreKey == dim_store.StoreKey,\n",
    "    \"inner\"\n",
    ")"
   ]
  },
  {
   "cell_type": "code",
   "execution_count": 13,
   "id": "9f4bb33b-f568-4dd3-823b-00aef90e9cbc",
   "metadata": {},
   "outputs": [
    {
     "name": "stdout",
     "output_type": "stream",
     "text": [
      "+---------+---------+--------+----------+----------+--------+-----------+----------+------+------+---------+--------+\n",
      "|UnitsSold|UnitPrice|Discount|  SaleDate|ProductKey|StoreKey|EmployeeKey|NetRevenue|Region|  Name|     Type|StoreKey|\n",
      "+---------+---------+--------+----------+----------+--------+-----------+----------+------+------+---------+--------+\n",
      "|     12.0|      0.0|     5.0|2022-12-14|        12|       7|         21|       0.0|  East|StoreX|Franchise|       7|\n",
      "|      0.0|   272.49|     0.0|2023-02-24|         0|       9|         11|       0.0|  East|StoreZ|Franchise|       9|\n",
      "|      0.0|   484.75|    15.0|2025-03-24|         7|      18|         14|       0.0| South|StoreX|   Retail|      18|\n",
      "|      0.0|   205.74|    10.0|2023-09-30|         1|      12|         13|       0.0|  West|StoreY|   Outlet|      12|\n",
      "|     46.0|    20.25|     5.0|2022-10-14|        15|      19|          2|   884.925|  East|StoreZ|   Outlet|      19|\n",
      "|      0.0|   361.06|    10.0|2024-02-23|        15|       1|          2|       0.0| South|StoreY|   Retail|       1|\n",
      "|     37.0|   492.65|     5.0|2024-05-06|        14|      15|          9|17316.6475| South|StoreY|   Outlet|      15|\n",
      "|     37.0|   293.87|    15.0|2023-04-04|        22|       8|         22| 9242.2115| South|StoreX|   Outlet|       8|\n",
      "|     23.0|   189.47|    15.0|2022-12-26|        21|       1|          3| 3704.1385| South|StoreY|   Retail|       1|\n",
      "|     25.0|   359.08|    10.0|2022-10-28|        12|       9|          1|    8079.3|  East|StoreZ|Franchise|       9|\n",
      "|      0.0|   438.28|     0.0|2025-05-12|        10|       6|          2|       0.0| South|StoreZ|   Retail|       6|\n",
      "|      0.0|      0.0|     0.0|2024-11-14|         4|       4|         17|       0.0| North|StoreZ|   Retail|       4|\n",
      "|      0.0|   490.01|     0.0|2025-05-20|         8|       3|         16|       0.0| North|StoreX|   Outlet|       3|\n",
      "|     15.0|   139.58|     5.0|2023-11-09|        11|       2|         19|  1989.015|  East|StoreX|   Retail|       2|\n",
      "|      0.0|    67.66|    15.0|2025-03-27|        17|      16|         23|       0.0|  West|StoreY|Franchise|      16|\n",
      "|     19.0|    330.2|    10.0|2022-12-16|        20|       7|         12|   5646.42|  East|StoreX|Franchise|       7|\n",
      "|      7.0|   290.63|    15.0|2022-07-28|        15|      16|         15| 1729.2485|  West|StoreY|Franchise|      16|\n",
      "|      7.0|   349.27|    10.0|2022-07-04|        18|       0|          4|  2200.401| North|StoreY|   Outlet|       0|\n",
      "|      0.0|   267.61|     0.0|2022-11-27|        16|       9|          2|       0.0|  East|StoreZ|Franchise|       9|\n",
      "|     41.0|    52.57|     0.0|2025-03-16|        13|      19|         18|   2155.37|  East|StoreZ|   Outlet|      19|\n",
      "+---------+---------+--------+----------+----------+--------+-----------+----------+------+------+---------+--------+\n",
      "only showing top 20 rows\n",
      "\n"
     ]
    }
   ],
   "source": [
    "fact_sales2.show()"
   ]
  },
  {
   "cell_type": "code",
   "execution_count": 21,
   "id": "f67e7148-e847-43b6-934e-e39e1ba17354",
   "metadata": {},
   "outputs": [],
   "source": [
    "total_revenue_by_store_region = fact_sales2.groupBy(\"Region\") \\\n",
    "    .agg(sparkSum(col(\"UnitsSold\")).alias(\"TotalUnitSold\"), sparkSum(col(\"NetRevenue\")).alias(\"TotalRevenue\")) \\\n",
    "    .select([col(\"Region\").alias(\"StoreRegion\"),\"TotalUnitSold\", \"TotalRevenue\"])"
   ]
  },
  {
   "cell_type": "code",
   "execution_count": 22,
   "id": "fc7fde04-90c3-43dd-8b96-635bf8496176",
   "metadata": {},
   "outputs": [
    {
     "name": "stdout",
     "output_type": "stream",
     "text": [
      "+-----------+-------------+------------------+\n",
      "|StoreRegion|TotalUnitSold|      TotalRevenue|\n",
      "+-----------+-------------+------------------+\n",
      "|      South|        156.0|53107.997500000005|\n",
      "|       East|        158.0|          18755.03|\n",
      "|       West|          7.0|         1729.2485|\n",
      "|      North|         64.0|         17629.491|\n",
      "+-----------+-------------+------------------+\n",
      "\n"
     ]
    }
   ],
   "source": [
    "total_revenue_by_store_region.show()"
   ]
  },
  {
   "cell_type": "code",
   "execution_count": 20,
   "id": "66c5e0d2-492d-4aab-8f89-76301a899858",
   "metadata": {},
   "outputs": [],
   "source": [
    "dim_employee = spark.read.parquet(\"spark-warehouse/dim_employee\")"
   ]
  },
  {
   "cell_type": "code",
   "execution_count": 24,
   "id": "2331f901-ca52-4103-b42e-46a79d478c69",
   "metadata": {},
   "outputs": [],
   "source": [
    "total_revenue_by_employee = fact_sales2.join(\n",
    "    dim_employee,\n",
    "    fact_sales.EmployeeKey == dim_employee.EmployeeKey,\n",
    "    \"inner\"\n",
    ").groupBy(\"SalesRep\") \\\n",
    "    .agg(sparkSum(col(\"UnitsSold\")).alias(\"TotalUnitSold\"), sparkSum(col(\"NetRevenue\")).alias(\"TotalRevenue\")) \\\n",
    "    .select([\"SalesRep\", \"TotalUnitSold\", \"TotalRevenue\"])"
   ]
  },
  {
   "cell_type": "code",
   "execution_count": 25,
   "id": "df62a690-1ded-4401-bb27-67e14e1d1ce9",
   "metadata": {},
   "outputs": [
    {
     "name": "stdout",
     "output_type": "stream",
     "text": [
      "+--------------+-------------+------------+\n",
      "|      SalesRep|TotalUnitSold|TotalRevenue|\n",
      "+--------------+-------------+------------+\n",
      "|Wendy Castillo|         69.0|   4589.0635|\n",
      "|  James Austin|         41.0|     2155.37|\n",
      "|   John Harris|         78.0|  28929.8975|\n",
      "|      Kyle Lin|          0.0|         0.0|\n",
      "|    Kara Lewis|          0.0|         0.0|\n",
      "| Emily Vazquez|         34.0|    7635.435|\n",
      "|   Billy Perez|         59.0|     22845.0|\n",
      "|   Kelly Moore|          0.0|         0.0|\n",
      "|Charles Fields|         85.0|  23337.7525|\n",
      "|   Martha Long|         19.0|   1729.2485|\n",
      "+--------------+-------------+------------+\n",
      "\n"
     ]
    }
   ],
   "source": [
    "total_revenue_by_employee.show()"
   ]
  },
  {
   "cell_type": "code",
   "execution_count": null,
   "id": "df3b9835-afac-47b8-a337-d20a95824bb8",
   "metadata": {},
   "outputs": [],
   "source": []
  }
 ],
 "metadata": {
  "kernelspec": {
   "display_name": "Python 3 (ipykernel)",
   "language": "python",
   "name": "python3"
  },
  "language_info": {
   "codemirror_mode": {
    "name": "ipython",
    "version": 3
   },
   "file_extension": ".py",
   "mimetype": "text/x-python",
   "name": "python",
   "nbconvert_exporter": "python",
   "pygments_lexer": "ipython3",
   "version": "3.11.6"
  }
 },
 "nbformat": 4,
 "nbformat_minor": 5
}
