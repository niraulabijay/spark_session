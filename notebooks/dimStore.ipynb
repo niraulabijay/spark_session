{
 "cells": [
  {
   "cell_type": "code",
   "execution_count": 8,
   "id": "f369c425-71d9-4cc1-938d-01fc5120110b",
   "metadata": {},
   "outputs": [],
   "source": [
    "from pyspark.sql import SparkSession\n",
    "from pyspark.sql.functions import (col, monotonically_increasing_id)\n",
    "from notebookUtils import readCsvAsDataframe"
   ]
  },
  {
   "cell_type": "code",
   "execution_count": 9,
   "id": "f48d7ec0-aa63-4f8b-a983-66f0c6dc85bf",
   "metadata": {},
   "outputs": [],
   "source": [
    "spark = SparkSession.builder.appName(\"factsales2\").getOrCreate()"
   ]
  },
  {
   "cell_type": "code",
   "execution_count": 10,
   "id": "a8cf1392-21d2-48c2-b06e-876d39af25f1",
   "metadata": {},
   "outputs": [],
   "source": [
    "fact_sales = readCsvAsDataframe(spark,\"fact_sales_data_v2.csv\")"
   ]
  },
  {
   "cell_type": "markdown",
   "id": "37edf4d5-4972-40d7-b142-43b9a82362f4",
   "metadata": {},
   "source": [
    "### Create Store Region Dimension"
   ]
  },
  {
   "cell_type": "code",
   "execution_count": 14,
   "id": "f16cf192-e4fa-4d2f-bf06-63c47be45d13",
   "metadata": {},
   "outputs": [],
   "source": [
    "df_store = fact_sales.select([\n",
    "    col('StoreRegion').alias('Region'),\n",
    "    col('StoreName').alias('Name'),\n",
    "    col('StoreType').alias('Type')\n",
    "]).distinct()"
   ]
  },
  {
   "cell_type": "code",
   "execution_count": 24,
   "id": "1d7dd586-8584-434c-a95b-1297779ad0d8",
   "metadata": {},
   "outputs": [],
   "source": [
    "df_store2 = df_store.withColumn(\"StoreKey\",monotonically_increasing_id())"
   ]
  },
  {
   "cell_type": "code",
   "execution_count": 25,
   "id": "b7b29af1-0dd0-42a5-a5c0-594637d40495",
   "metadata": {},
   "outputs": [],
   "source": [
    "df_store_na = spark.createDataFrame([\n",
    "    (\"N/A\",\"N/A\",\"N/A\",-1)\n",
    "],[\"Region\",\"Name\",\"Type\", \"StoreKey\"])"
   ]
  },
  {
   "cell_type": "code",
   "execution_count": 26,
   "id": "51356dcf-01ab-4c8d-b182-8dea0a939565",
   "metadata": {},
   "outputs": [],
   "source": [
    "dim_store = df_store2.unionAll(df_store_na)"
   ]
  },
  {
   "cell_type": "code",
   "execution_count": 27,
   "id": "6f5fc039-ae0b-4095-9348-f4c312e8211a",
   "metadata": {},
   "outputs": [],
   "source": [
    "dim_store.write.format(\"parquet\").mode(\"overwrite\").saveAsTable(name=\"dim_store\")"
   ]
  },
  {
   "cell_type": "code",
   "execution_count": 28,
   "id": "2624b654-788f-47c0-ae34-bbb3c00e3607",
   "metadata": {},
   "outputs": [],
   "source": [
    "df_dim_store = spark.read.parquet(\"spark-warehouse/dim_store\")"
   ]
  },
  {
   "cell_type": "code",
   "execution_count": 31,
   "id": "d9607c97-c8b0-49ea-8786-384b70a9d2d5",
   "metadata": {},
   "outputs": [
    {
     "data": {
      "text/plain": [
       "[Row(Region='North', Name='StoreY', Type='Outlet', StoreKey=0),\n",
       " Row(Region='South', Name='StoreY', Type='Retail', StoreKey=1),\n",
       " Row(Region='East', Name='StoreX', Type='Retail', StoreKey=2),\n",
       " Row(Region='North', Name='StoreX', Type='Outlet', StoreKey=3),\n",
       " Row(Region='North', Name='StoreZ', Type='Retail', StoreKey=4),\n",
       " Row(Region='South', Name='StoreZ', Type='Franchise', StoreKey=5),\n",
       " Row(Region='South', Name='StoreZ', Type='Retail', StoreKey=6),\n",
       " Row(Region='East', Name='StoreX', Type='Franchise', StoreKey=7),\n",
       " Row(Region='South', Name='StoreX', Type='Outlet', StoreKey=8),\n",
       " Row(Region='East', Name='StoreZ', Type='Franchise', StoreKey=9),\n",
       " Row(Region='West', Name='StoreX', Type='Retail', StoreKey=10),\n",
       " Row(Region='North', Name='StoreY', Type='Retail', StoreKey=11),\n",
       " Row(Region='West', Name='StoreY', Type='Outlet', StoreKey=12),\n",
       " Row(Region='North', Name='StoreX', Type='Franchise', StoreKey=13),\n",
       " Row(Region='West', Name='StoreX', Type='Outlet', StoreKey=14),\n",
       " Row(Region='South', Name='StoreY', Type='Outlet', StoreKey=15),\n",
       " Row(Region='West', Name='StoreY', Type='Franchise', StoreKey=16),\n",
       " Row(Region='North', Name='StoreZ', Type='Franchise', StoreKey=17),\n",
       " Row(Region='South', Name='StoreX', Type='Retail', StoreKey=18),\n",
       " Row(Region='East', Name='StoreZ', Type='Outlet', StoreKey=19),\n",
       " Row(Region='N/A', Name='N/A', Type='N/A', StoreKey=-1)]"
      ]
     },
     "execution_count": 31,
     "metadata": {},
     "output_type": "execute_result"
    }
   ],
   "source": [
    "df_dim_store.show(30)"
   ]
  },
  {
   "cell_type": "code",
   "execution_count": null,
   "id": "e3f0793e-5384-4b82-abd6-d7cd95ae6ab8",
   "metadata": {},
   "outputs": [],
   "source": []
  }
 ],
 "metadata": {
  "kernelspec": {
   "display_name": "Python 3 (ipykernel)",
   "language": "python",
   "name": "python3"
  },
  "language_info": {
   "codemirror_mode": {
    "name": "ipython",
    "version": 3
   },
   "file_extension": ".py",
   "mimetype": "text/x-python",
   "name": "python",
   "nbconvert_exporter": "python",
   "pygments_lexer": "ipython3",
   "version": "3.11.6"
  }
 },
 "nbformat": 4,
 "nbformat_minor": 5
}
