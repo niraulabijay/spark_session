{
 "cells": [
  {
   "cell_type": "code",
   "execution_count": 30,
   "id": "08844c72-6c88-464c-b1e1-e2a6ea46298b",
   "metadata": {},
   "outputs": [],
   "source": [
    "from pyspark.sql import SparkSession\n",
    "from pyspark.sql.functions import (col, when)\n",
    "from notebookUtils import readCsvAsDataframe"
   ]
  },
  {
   "cell_type": "code",
   "execution_count": 3,
   "id": "2e3183df-d6a5-47b6-8a0b-f4f43f2ab320",
   "metadata": {},
   "outputs": [],
   "source": [
    "spark = SparkSession.builder.appName(\"factsales2\").getOrCreate()"
   ]
  },
  {
   "cell_type": "code",
   "execution_count": 11,
   "id": "74bfcd72-53bd-4378-aeda-c2cdb0678826",
   "metadata": {},
   "outputs": [],
   "source": [
    "fact_sales_original = readCsvAsDataframe(spark,\"fact_sales_data_v2.csv\")"
   ]
  },
  {
   "cell_type": "code",
   "execution_count": 12,
   "id": "52277633-6de0-46c4-8386-fa65625ad45a",
   "metadata": {},
   "outputs": [],
   "source": [
    "fact_sales_transformed = spark.read.parquet(\"spark-warehouse/fact_sales\")"
   ]
  },
  {
   "cell_type": "code",
   "execution_count": 13,
   "id": "bc1768f6-a9e3-4d76-af1c-cfd29b5721b7",
   "metadata": {},
   "outputs": [
    {
     "name": "stdout",
     "output_type": "stream",
     "text": [
      "Data not lost in transformation\n"
     ]
    }
   ],
   "source": [
    "# test if data was lost or not\n",
    "if fact_sales_transformed.count() == fact_sales_original.count():\n",
    "    print(\"Data not lost in transformation\")\n",
    "else:\n",
    "    print(\"Some data lost in transformation\")"
   ]
  },
  {
   "cell_type": "code",
   "execution_count": 20,
   "id": "1ba9458c-2713-48a1-9e90-b94387788989",
   "metadata": {},
   "outputs": [],
   "source": [
    "# test for invalid unit price in fact\n",
    "fact_sales_invalid_unit_price = fact_sales_transformed.filter((col(\"UnitPrice\") < 0) | (col(\"UnitPrice\").isNull())).count()\n",
    "if fact_sales_invalid_unit_price > 0:\n",
    "    print(\"Some Rows have invalid unit price\")"
   ]
  },
  {
   "cell_type": "code",
   "execution_count": 24,
   "id": "9127ca17-618d-4bba-9583-77ad267185e0",
   "metadata": {},
   "outputs": [],
   "source": [
    "# check for null values in transformed dataframe\n",
    "nullDf = df = fact_sales_transformed.filter(\n",
    "    (fact_sales_transformed[\"ProductKey\"].isNull()) | \n",
    "    (fact_sales_transformed[\"StoreKey\"].isNull()) | \n",
    "    (fact_sales_transformed[\"EmployeeKey\"].isNull())  \n",
    ")\n",
    "if nullDf.count() > 0:\n",
    "    print(\"Dimesions not properly configured in transformed fact table\")"
   ]
  },
  {
   "cell_type": "code",
   "execution_count": 31,
   "id": "7b62cadd-b7fb-432f-9b90-33483f6b662f",
   "metadata": {},
   "outputs": [
    {
     "name": "stdout",
     "output_type": "stream",
     "text": [
      "Validation Passed: Columns match after transformations.\n"
     ]
    }
   ],
   "source": [
    "# check for fact columns matched in transformed dataframe\n",
    "original_facts = fact_sales_original.fillna(0) \\\n",
    "    .withColumn(\n",
    "        \"UnitPrice\",\n",
    "        when(col(\"UnitPrice\") < 0, 0).otherwise(col(\"UnitPrice\"))\n",
    "    ) \\\n",
    "    .select(\"UnitsSold\", \"UnitPrice\", \"Discount\", \"SaleDate\").orderBy(\"SaleDate\")\n",
    "transformed_facts = fact_sales_transformed.select(\"UnitsSold\", \"UnitPrice\", \"Discount\", \"SaleDate\").orderBy(\"SaleDate\")\n",
    "\n",
    "differences = original_facts.exceptAll(transformed_facts)\n",
    "diff_count = differences.count()\n",
    "if diff_count > 0:\n",
    "    print(\"Error: All Column Values dont match\")\n",
    "    differences.show()\n",
    "else:\n",
    "    print(\"Columns match after transformations.\")"
   ]
  },
  {
   "cell_type": "code",
   "execution_count": null,
   "id": "b079ff1b-2cac-4e21-a478-4f21f7a06ff2",
   "metadata": {},
   "outputs": [],
   "source": []
  }
 ],
 "metadata": {
  "kernelspec": {
   "display_name": "Python 3 (ipykernel)",
   "language": "python",
   "name": "python3"
  },
  "language_info": {
   "codemirror_mode": {
    "name": "ipython",
    "version": 3
   },
   "file_extension": ".py",
   "mimetype": "text/x-python",
   "name": "python",
   "nbconvert_exporter": "python",
   "pygments_lexer": "ipython3",
   "version": "3.11.6"
  }
 },
 "nbformat": 4,
 "nbformat_minor": 5
}
