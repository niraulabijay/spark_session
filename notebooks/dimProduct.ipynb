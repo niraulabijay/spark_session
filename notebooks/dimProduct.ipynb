{
 "cells": [
  {
   "cell_type": "code",
   "execution_count": 17,
   "id": "f369c425-71d9-4cc1-938d-01fc5120110b",
   "metadata": {},
   "outputs": [],
   "source": [
    "from pyspark.sql import SparkSession\n",
    "from pyspark.sql.functions import (col, monotonically_increasing_id)\n",
    "from notebookUtils import readCsvAsDataframe"
   ]
  },
  {
   "cell_type": "code",
   "execution_count": 18,
   "id": "f48d7ec0-aa63-4f8b-a983-66f0c6dc85bf",
   "metadata": {},
   "outputs": [],
   "source": [
    "spark = SparkSession.builder.appName(\"factsales2\").getOrCreate()"
   ]
  },
  {
   "cell_type": "code",
   "execution_count": 19,
   "id": "a8cf1392-21d2-48c2-b06e-876d39af25f1",
   "metadata": {},
   "outputs": [],
   "source": [
    "fact_sales = readCsvAsDataframe(spark,\"fact_sales_data_v2.csv\")"
   ]
  },
  {
   "cell_type": "markdown",
   "id": "37edf4d5-4972-40d7-b142-43b9a82362f4",
   "metadata": {},
   "source": [
    "### Create Product Dimension"
   ]
  },
  {
   "cell_type": "code",
   "execution_count": 20,
   "id": "f16cf192-e4fa-4d2f-bf06-63c47be45d13",
   "metadata": {},
   "outputs": [],
   "source": [
    "df_product = fact_sales.select([\n",
    "    col('ProductName').alias('Title'),\n",
    "    col('ProductCategory').alias('Category'),\n",
    "    col('Brand')\n",
    "]).distinct()"
   ]
  },
  {
   "cell_type": "code",
   "execution_count": 21,
   "id": "c275d74b-c336-4037-8311-e6e7998ab222",
   "metadata": {},
   "outputs": [],
   "source": [
    "df_product_clean = df_product.dropna()"
   ]
  },
  {
   "cell_type": "code",
   "execution_count": 23,
   "id": "1d7dd586-8584-434c-a95b-1297779ad0d8",
   "metadata": {},
   "outputs": [],
   "source": [
    "df_product2 = df_product_clean.withColumn(\"ProductKey\",monotonically_increasing_id())"
   ]
  },
  {
   "cell_type": "code",
   "execution_count": 24,
   "id": "b7b29af1-0dd0-42a5-a5c0-594637d40495",
   "metadata": {},
   "outputs": [],
   "source": [
    "df_product_na = spark.createDataFrame([\n",
    "    (\"N/A\",\"N/A\",\"N/A\",-1)\n",
    "],[\"Name\", \"Category\",\"Brand\",\"ProductKey\"])"
   ]
  },
  {
   "cell_type": "code",
   "execution_count": 25,
   "id": "51356dcf-01ab-4c8d-b182-8dea0a939565",
   "metadata": {},
   "outputs": [],
   "source": [
    "dim_product = df_product2.unionAll(df_product_na)"
   ]
  },
  {
   "cell_type": "code",
   "execution_count": 26,
   "id": "6f5fc039-ae0b-4095-9348-f4c312e8211a",
   "metadata": {},
   "outputs": [],
   "source": [
    "dim_product.write.format(\"parquet\").mode(\"overwrite\").saveAsTable(name=\"dim_product\")"
   ]
  },
  {
   "cell_type": "code",
   "execution_count": 27,
   "id": "2624b654-788f-47c0-ae34-bbb3c00e3607",
   "metadata": {},
   "outputs": [],
   "source": [
    "df_dim_product = spark.read.parquet(\"spark-warehouse/dim_product\")"
   ]
  },
  {
   "cell_type": "code",
   "execution_count": 28,
   "id": "02eeff20-c1a9-426a-8a9f-2369f72dcd5a",
   "metadata": {},
   "outputs": [
    {
     "data": {
      "text/plain": [
       "[Row(Title='Tablet', Category='Clothing', Brand='BrandC', ProductKey=0),\n",
       " Row(Title='Smartphone', Category='Electronics', Brand='BrandB', ProductKey=1),\n",
       " Row(Title='Tablet', Category='Furniture', Brand='BrandA', ProductKey=2),\n",
       " Row(Title='Smartphone', Category='Furniture', Brand='BrandC', ProductKey=3),\n",
       " Row(Title='Desk', Category='Clothing', Brand='BrandB', ProductKey=4),\n",
       " Row(Title='Desk', Category='Furniture', Brand='BrandB', ProductKey=5),\n",
       " Row(Title='Desk', Category='Furniture', Brand='BrandA', ProductKey=6),\n",
       " Row(Title='Tablet', Category='Clothing', Brand='BrandA', ProductKey=7),\n",
       " Row(Title='Tablet', Category='Electronics', Brand='BrandB', ProductKey=8),\n",
       " Row(Title='Jeans', Category='Clothing', Brand='BrandC', ProductKey=9),\n",
       " Row(Title='Desk', Category='Clothing', Brand='BrandC', ProductKey=10),\n",
       " Row(Title='Tablet', Category='Furniture', Brand='BrandC', ProductKey=11),\n",
       " Row(Title='T-shirt', Category='Furniture', Brand='BrandB', ProductKey=12),\n",
       " Row(Title='Jeans', Category='Electronics', Brand='BrandB', ProductKey=13),\n",
       " Row(Title='T-shirt', Category='Clothing', Brand='BrandC', ProductKey=14),\n",
       " Row(Title='T-shirt', Category='Furniture', Brand='BrandC', ProductKey=15),\n",
       " Row(Title='Jeans', Category='Furniture', Brand='BrandC', ProductKey=16),\n",
       " Row(Title='Chair', Category='Electronics', Brand='BrandA', ProductKey=17),\n",
       " Row(Title='Desk', Category='Electronics', Brand='BrandC', ProductKey=18),\n",
       " Row(Title='T-shirt', Category='Electronics', Brand='BrandA', ProductKey=19),\n",
       " Row(Title='Desk', Category='Electronics', Brand='BrandA', ProductKey=20),\n",
       " Row(Title='Jeans', Category='Clothing', Brand='BrandA', ProductKey=21),\n",
       " Row(Title='Smartphone', Category='Electronics', Brand='BrandC', ProductKey=22),\n",
       " Row(Title='N/A', Category='N/A', Brand='N/A', ProductKey=-1)]"
      ]
     },
     "execution_count": 28,
     "metadata": {},
     "output_type": "execute_result"
    }
   ],
   "source": [
    "df_dim_product.show(30)"
   ]
  },
  {
   "cell_type": "code",
   "execution_count": null,
   "id": "17dce94e-fbef-44c0-904a-0000994e0dec",
   "metadata": {},
   "outputs": [],
   "source": []
  }
 ],
 "metadata": {
  "kernelspec": {
   "display_name": "Python 3 (ipykernel)",
   "language": "python",
   "name": "python3"
  },
  "language_info": {
   "codemirror_mode": {
    "name": "ipython",
    "version": 3
   },
   "file_extension": ".py",
   "mimetype": "text/x-python",
   "name": "python",
   "nbconvert_exporter": "python",
   "pygments_lexer": "ipython3",
   "version": "3.11.6"
  }
 },
 "nbformat": 4,
 "nbformat_minor": 5
}
