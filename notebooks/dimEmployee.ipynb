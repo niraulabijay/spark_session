{
 "cells": [
  {
   "cell_type": "code",
   "execution_count": 2,
   "id": "21812f1a-26ae-46f9-ac75-bd93e86a5804",
   "metadata": {},
   "outputs": [],
   "source": [
    "from pyspark.sql import SparkSession\n",
    "from pyspark.sql.functions import (col, monotonically_increasing_id)\n",
    "from notebookUtils import readCsvAsDataframe"
   ]
  },
  {
   "cell_type": "code",
   "execution_count": 3,
   "id": "16d903de-2ac6-455b-8c96-bc72639e71fb",
   "metadata": {},
   "outputs": [],
   "source": [
    "spark = SparkSession.builder.appName(\"factsales2\").getOrCreate()"
   ]
  },
  {
   "cell_type": "code",
   "execution_count": 4,
   "id": "37e273fe-b6e6-4143-8d92-164212b2e12d",
   "metadata": {},
   "outputs": [],
   "source": [
    "fact_sales = readCsvAsDataframe(spark,\"fact_sales_data_v2.csv\")"
   ]
  },
  {
   "cell_type": "code",
   "execution_count": 16,
   "id": "6d002aaa-c173-41e8-adbf-027b3115d77c",
   "metadata": {},
   "outputs": [
    {
     "data": {
      "text/plain": [
       "DataFrame[ProductCategory: string, ProductName: string, Brand: string, StoreRegion: string, StoreName: string, StoreType: string, SalesRep: string, Department: string, EmployeeRole: string, UnitsSold: double, UnitPrice: double, Discount: double, SaleDate: date]"
      ]
     },
     "metadata": {},
     "output_type": "display_data"
    }
   ],
   "source": [
    "display(fact_sales)"
   ]
  },
  {
   "cell_type": "markdown",
   "id": "b3f804db-d05d-4a05-ba36-926359252c5d",
   "metadata": {},
   "source": [
    "### Create Employee Dimension"
   ]
  },
  {
   "cell_type": "code",
   "execution_count": 10,
   "id": "0230ce4a-0ef4-415b-b2c6-d2594950dcce",
   "metadata": {},
   "outputs": [],
   "source": [
    "df_employee = fact_sales.select([\n",
    "    col('SalesRep'),\n",
    "    col('Department'),\n",
    "    col('EmployeeRole')\n",
    "]).distinct()"
   ]
  },
  {
   "cell_type": "code",
   "execution_count": 11,
   "id": "0a9d6972-a9ea-4954-9e70-631f171f7c85",
   "metadata": {},
   "outputs": [],
   "source": [
    "df_employee2 = df_employee.withColumn(\"EmployeeKey\",monotonically_increasing_id())"
   ]
  },
  {
   "cell_type": "code",
   "execution_count": 12,
   "id": "6b1ee9cc-abb5-48d6-81d0-13326097abf3",
   "metadata": {},
   "outputs": [],
   "source": [
    "df_employee_na = spark.createDataFrame([\n",
    "    (\"N/A\",\"N/A\",\"N/A\",-1)\n",
    "],[\"SalesRep\", \"Department\",\"EmployeeRole\",\"EmployeeKey\"])"
   ]
  },
  {
   "cell_type": "code",
   "execution_count": 14,
   "id": "0cc295a3-18e5-425e-99c8-241b6a314291",
   "metadata": {},
   "outputs": [],
   "source": [
    "dim_employee = df_employee2.unionAll(df_employee_na)"
   ]
  },
  {
   "cell_type": "code",
   "execution_count": 15,
   "id": "ceed95b5-75f7-4f76-b6b7-8a1b4fdfa564",
   "metadata": {},
   "outputs": [],
   "source": [
    "#df_category2.write.format(\"delta\").mode(\"overwrite\").save(\"dim_category\")\n",
    "dim_employee.write.format(\"parquet\").mode(\"overwrite\").saveAsTable(name=\"dim_employee\")"
   ]
  },
  {
   "cell_type": "code",
   "execution_count": 16,
   "id": "d9e879f8-ba92-4943-9963-2653e247b3f2",
   "metadata": {},
   "outputs": [],
   "source": [
    "df_dim_employee = spark.read.parquet(\"spark-warehouse/dim_employee\")"
   ]
  },
  {
   "cell_type": "code",
   "execution_count": 17,
   "id": "37eec913-f99b-400b-b63f-8f2779dcd2a5",
   "metadata": {},
   "outputs": [
    {
     "data": {
      "text/plain": [
       "[Row(SalesRep='Kyle Lin', Department='Electronics', EmployeeRole='Sales Associate', EmployeeKey=0),\n",
       " Row(SalesRep='Charles Fields', Department='Apparel', EmployeeRole='Manager', EmployeeKey=1),\n",
       " Row(SalesRep='Wendy Castillo', Department='Home', EmployeeRole='Manager', EmployeeKey=2),\n",
       " Row(SalesRep='Wendy Castillo', Department='Electronics', EmployeeRole='Manager', EmployeeKey=3),\n",
       " Row(SalesRep='Charles Fields', Department='Home', EmployeeRole='Cashier', EmployeeKey=4),\n",
       " Row(SalesRep='Kyle Lin', Department='Home', EmployeeRole='Cashier', EmployeeKey=5),\n",
       " Row(SalesRep='John Harris', Department='Electronics', EmployeeRole='Manager', EmployeeKey=6),\n",
       " Row(SalesRep='John Harris', Department='Apparel', EmployeeRole='Manager', EmployeeKey=7),\n",
       " Row(SalesRep='Billy Perez', Department='Electronics', EmployeeRole='Cashier', EmployeeKey=8),\n",
       " Row(SalesRep='John Harris', Department='Home', EmployeeRole='Cashier', EmployeeKey=9),\n",
       " Row(SalesRep='Emily Vazquez', Department='Electronics', EmployeeRole='Sales Associate', EmployeeKey=10),\n",
       " Row(SalesRep='Martha Long', Department='Home', EmployeeRole='Sales Associate', EmployeeKey=11),\n",
       " Row(SalesRep='Emily Vazquez', Department='Home', EmployeeRole='Manager', EmployeeKey=12),\n",
       " Row(SalesRep='Charles Fields', Department='Apparel', EmployeeRole='Cashier', EmployeeKey=13),\n",
       " Row(SalesRep='Emily Vazquez', Department='Apparel', EmployeeRole='Cashier', EmployeeKey=14),\n",
       " Row(SalesRep='Martha Long', Department='Home', EmployeeRole='Cashier', EmployeeKey=15),\n",
       " Row(SalesRep='Kara Lewis', Department='Electronics', EmployeeRole='Manager', EmployeeKey=16),\n",
       " Row(SalesRep='Kelly Moore', Department='Apparel', EmployeeRole='Sales Associate', EmployeeKey=17),\n",
       " Row(SalesRep='James Austin', Department='Home', EmployeeRole='Manager', EmployeeKey=18),\n",
       " Row(SalesRep='Emily Vazquez', Department='Apparel', EmployeeRole='Manager', EmployeeKey=19),\n",
       " Row(SalesRep='Kyle Lin', Department='Electronics', EmployeeRole='Manager', EmployeeKey=20),\n",
       " Row(SalesRep='Martha Long', Department='Electronics', EmployeeRole='Cashier', EmployeeKey=21),\n",
       " Row(SalesRep='Charles Fields', Department='Home', EmployeeRole='Sales Associate', EmployeeKey=22),\n",
       " Row(SalesRep='James Austin', Department='Electronics', EmployeeRole='Cashier', EmployeeKey=23),\n",
       " Row(SalesRep='Billy Perez', Department='Apparel', EmployeeRole='Sales Associate', EmployeeKey=24),\n",
       " Row(SalesRep='N/A', Department='N/A', EmployeeRole='N/A', EmployeeKey=-1)]"
      ]
     },
     "execution_count": 17,
     "metadata": {},
     "output_type": "execute_result"
    }
   ],
   "source": [
    "df_dim_employee.show(30)"
   ]
  },
  {
   "cell_type": "code",
   "execution_count": null,
   "id": "8d9e7275-1f1e-48d0-b7eb-99ad7a7edeef",
   "metadata": {},
   "outputs": [],
   "source": []
  }
 ],
 "metadata": {
  "kernelspec": {
   "display_name": "Python 3 (ipykernel)",
   "language": "python",
   "name": "python3"
  },
  "language_info": {
   "codemirror_mode": {
    "name": "ipython",
    "version": 3
   },
   "file_extension": ".py",
   "mimetype": "text/x-python",
   "name": "python",
   "nbconvert_exporter": "python",
   "pygments_lexer": "ipython3",
   "version": "3.11.6"
  }
 },
 "nbformat": 4,
 "nbformat_minor": 5
}
