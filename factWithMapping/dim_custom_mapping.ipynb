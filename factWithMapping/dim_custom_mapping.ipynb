{
 "cells": [
  {
   "cell_type": "markdown",
   "id": "7f42f59d-1399-4a38-b23d-4d8cf8ecf60c",
   "metadata": {},
   "source": [
    "### Create Custom Mapping Dimension"
   ]
  },
  {
   "cell_type": "code",
   "execution_count": 1,
   "id": "478c4160-5cc8-473d-8610-1082b846357f",
   "metadata": {},
   "outputs": [],
   "source": [
    "from pyspark.sql import SparkSession\n",
    "from pyspark.sql.functions import (col, monotonically_increasing_id)"
   ]
  },
  {
   "cell_type": "code",
   "execution_count": 2,
   "id": "88d1939d-6343-4d6b-a9a1-86724e38bb02",
   "metadata": {},
   "outputs": [],
   "source": [
    "spark = SparkSession.builder.appName(\"fact_mapping\").getOrCreate()"
   ]
  },
  {
   "cell_type": "code",
   "execution_count": 3,
   "id": "081d82e2-8aed-48b3-be97-4c14b4a61895",
   "metadata": {},
   "outputs": [
    {
     "name": "stdout",
     "output_type": "stream",
     "text": [
      "+---------------+-----------+------------+-----------------+\n",
      "|ProductCategory|StoreRegion|CustomerType|     MappingLabel|\n",
      "+---------------+-----------+------------+-----------------+\n",
      "|         Tablet|       East|      Retail|        Side Head|\n",
      "|         Laptop|       West|      Retail|      Premium Box|\n",
      "|         Mobile|      North|   Wholesale|North Dist Mobile|\n",
      "|         Tablet|      South|      Retail|      Tablet Push|\n",
      "|         Laptop|      North|   Wholesale|    Laptop Supply|\n",
      "+---------------+-----------+------------+-----------------+\n",
      "\n"
     ]
    }
   ],
   "source": [
    "df_custom_mapping = spark.read.option(\"header\",True).option(\"inferSchema\",True).csv(\"source/Custom_Mapping_DIM.csv\")\n",
    "df_custom_mapping.show()"
   ]
  },
  {
   "cell_type": "code",
   "execution_count": 5,
   "id": "be507795-2b37-498a-94d2-7568e286648f",
   "metadata": {},
   "outputs": [],
   "source": [
    "df_custom_mapping = df_category.withColumn(\"MappingKey\", monotonically_increasing_id())"
   ]
  },
  {
   "cell_type": "markdown",
   "id": "71d8997b-e5f8-493e-8b40-092bf4b78fbf",
   "metadata": {},
   "source": [
    "#### Add Dimension Keys for Mapping Columns"
   ]
  },
  {
   "cell_type": "code",
   "execution_count": 11,
   "id": "96238755-e480-41db-a5ff-8f1edcb567ce",
   "metadata": {},
   "outputs": [],
   "source": [
    "df_dim_product_category = spark.read.parquet(\"spark-warehouse/dim_product_category\")\n",
    "df_dim_store_region = spark.read.parquet(\"spark-warehouse/dim_store_region\")\n",
    "df_dim_customer_type = spark.read.parquet(\"spark-warehouse/dim_customer_type\")"
   ]
  },
  {
   "cell_type": "code",
   "execution_count": 19,
   "id": "e7a59119-4190-4d02-aeca-950385203c28",
   "metadata": {},
   "outputs": [],
   "source": [
    "df_custom_mapping2 = df_custom_mapping.join(df_dim_product_category, \\\n",
    "    df_custom_mapping.ProductCategory == df_dim_product_category.ProductCategory, \\\n",
    "    \"inner\") \\\n",
    "    .join(df_dim_store_region, \\\n",
    "    df_custom_mapping.StoreRegion == df_dim_store_region.StoreRegion, \\\n",
    "    \"inner\") \\\n",
    "    .join(df_dim_customer_type, \\\n",
    "    df_custom_mapping.CustomerType == df_dim_customer_type.CustomerType, \\\n",
    "    \"inner\") \\\n",
    "    .select([col(\"MappingLabel\"), col(\"ProductCategoryKey\"),col(\"StoreRegionKey\"),col(\"CustomerTypeKey\")])"
   ]
  },
  {
   "cell_type": "code",
   "execution_count": 28,
   "id": "8db23744-1f4d-45e5-a2d5-487a3fe3cd36",
   "metadata": {},
   "outputs": [
    {
     "name": "stdout",
     "output_type": "stream",
     "text": [
      "+-----------------+------------------+--------------+---------------+\n",
      "|     MappingLabel|ProductCategoryKey|StoreRegionKey|CustomerTypeKey|\n",
      "+-----------------+------------------+--------------+---------------+\n",
      "|    Laptop Supply|                 0|             0|              1|\n",
      "|      Premium Box|                 0|             3|              0|\n",
      "|North Dist Mobile|                 1|             0|              1|\n",
      "|      Tablet Push|                 2|             1|              0|\n",
      "|        Side Head|                 2|             2|              0|\n",
      "+-----------------+------------------+--------------+---------------+\n",
      "\n"
     ]
    }
   ],
   "source": [
    "df_custom_mapping2.show()"
   ]
  },
  {
   "cell_type": "markdown",
   "id": "afddaae9-abbe-4e97-b58c-c7453f40eb57",
   "metadata": {},
   "source": [
    "#### Add Surrogate key and N/A for Mapping Table"
   ]
  },
  {
   "cell_type": "code",
   "execution_count": 29,
   "id": "4466933e-7928-4c7e-9556-a53570007379",
   "metadata": {},
   "outputs": [],
   "source": [
    "df_custom_mapping3 = df_custom_mapping2.withColumn(\"CustomMappingKey\",monotonically_increasing_id())"
   ]
  },
  {
   "cell_type": "code",
   "execution_count": 30,
   "id": "5db77f18-f3bb-46c0-8a1a-d96359840f83",
   "metadata": {},
   "outputs": [],
   "source": [
    "df_mapping_na = spark.createDataFrame([\n",
    "    (\"N/A\",-1,-1,-1,-1)\n",
    "],[\"MappingLabel\",\"ProductCategoryKey\",\"StoreRegionKey\",\"CustomerTypeKey\", \"CustomMappingKey\"])"
   ]
  },
  {
   "cell_type": "code",
   "execution_count": 31,
   "id": "72c5a2eb-f863-4d0c-952a-ca1f497197b8",
   "metadata": {},
   "outputs": [],
   "source": [
    "dim_custom_mapping = df_custom_mapping3.unionAll(df_mapping_na)"
   ]
  },
  {
   "cell_type": "code",
   "execution_count": 33,
   "id": "550ea87c-1720-4921-b98e-d760ed0547c2",
   "metadata": {},
   "outputs": [
    {
     "name": "stdout",
     "output_type": "stream",
     "text": [
      "+-----------------+------------------+--------------+---------------+----------------+\n",
      "|     MappingLabel|ProductCategoryKey|StoreRegionKey|CustomerTypeKey|CustomMappingKey|\n",
      "+-----------------+------------------+--------------+---------------+----------------+\n",
      "|    Laptop Supply|                 0|             0|              1|               0|\n",
      "|      Premium Box|                 0|             3|              0|               1|\n",
      "|North Dist Mobile|                 1|             0|              1|               2|\n",
      "|      Tablet Push|                 2|             1|              0|               3|\n",
      "|        Side Head|                 2|             2|              0|               4|\n",
      "|              N/A|                -1|            -1|             -1|              -1|\n",
      "+-----------------+------------------+--------------+---------------+----------------+\n",
      "\n"
     ]
    }
   ],
   "source": [
    "dim_custom_mapping.show()"
   ]
  },
  {
   "cell_type": "code",
   "execution_count": 35,
   "id": "cc9cdabf-5085-4849-875c-97e78b8d3bd2",
   "metadata": {},
   "outputs": [],
   "source": [
    "dim_custom_mapping.write.format(\"parquet\").mode(\"overwrite\").saveAsTable(name=\"dim_custom_mapping\")"
   ]
  },
  {
   "cell_type": "code",
   "execution_count": 36,
   "id": "569a95d0-8f8d-4691-9ecd-6bcc7c6a0371",
   "metadata": {},
   "outputs": [
    {
     "name": "stdout",
     "output_type": "stream",
     "text": [
      "+-----------------+------------------+--------------+---------------+----------------+\n",
      "|     MappingLabel|ProductCategoryKey|StoreRegionKey|CustomerTypeKey|CustomMappingKey|\n",
      "+-----------------+------------------+--------------+---------------+----------------+\n",
      "|    Laptop Supply|                 0|             0|              1|               0|\n",
      "|      Premium Box|                 0|             3|              0|               1|\n",
      "|North Dist Mobile|                 1|             0|              1|               2|\n",
      "|      Tablet Push|                 2|             1|              0|               3|\n",
      "|        Side Head|                 2|             2|              0|               4|\n",
      "|              N/A|                -1|            -1|             -1|              -1|\n",
      "+-----------------+------------------+--------------+---------------+----------------+\n",
      "\n"
     ]
    }
   ],
   "source": [
    "spark.read.parquet(\"spark-warehouse/dim_custom_mapping\").show()"
   ]
  },
  {
   "cell_type": "code",
   "execution_count": null,
   "id": "78950218-d246-4ad9-b635-cb13300a42a2",
   "metadata": {},
   "outputs": [],
   "source": []
  }
 ],
 "metadata": {
  "kernelspec": {
   "display_name": "Python 3 (ipykernel)",
   "language": "python",
   "name": "python3"
  },
  "language_info": {
   "codemirror_mode": {
    "name": "ipython",
    "version": 3
   },
   "file_extension": ".py",
   "mimetype": "text/x-python",
   "name": "python",
   "nbconvert_exporter": "python",
   "pygments_lexer": "ipython3",
   "version": "3.11.6"
  }
 },
 "nbformat": 4,
 "nbformat_minor": 5
}
