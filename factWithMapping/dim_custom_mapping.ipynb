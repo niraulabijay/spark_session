{
 "cells": [
  {
   "cell_type": "markdown",
   "id": "7f42f59d-1399-4a38-b23d-4d8cf8ecf60c",
   "metadata": {},
   "source": [
    "### Create Custom Mapping Dimension"
   ]
  },
  {
   "cell_type": "code",
   "execution_count": 6,
   "id": "478c4160-5cc8-473d-8610-1082b846357f",
   "metadata": {},
   "outputs": [],
   "source": [
    "from pyspark.sql import SparkSession\n",
    "from pyspark.sql.functions import (col, monotonically_increasing_id, count as sparkCount)"
   ]
  },
  {
   "cell_type": "code",
   "execution_count": 2,
   "id": "88d1939d-6343-4d6b-a9a1-86724e38bb02",
   "metadata": {},
   "outputs": [],
   "source": [
    "spark = SparkSession.builder.appName(\"fact_mapping\").getOrCreate()"
   ]
  },
  {
   "cell_type": "code",
   "execution_count": 26,
   "id": "081d82e2-8aed-48b3-be97-4c14b4a61895",
   "metadata": {},
   "outputs": [
    {
     "name": "stdout",
     "output_type": "stream",
     "text": [
      "+---------------+-----------+------------+-----------------+\n",
      "|ProductCategory|StoreRegion|CustomerType|     MappingLabel|\n",
      "+---------------+-----------+------------+-----------------+\n",
      "|         Tablet|       East|      Retail|        Side Head|\n",
      "|         Laptop|       West|      Retail|      Premium Box|\n",
      "|         Mobile|      North|   Wholesale|North Dist Mobile|\n",
      "|         Tablet|      South|      Retail|      Tablet Push|\n",
      "|         Laptop|      North|   Wholesale|    Laptop Supply|\n",
      "+---------------+-----------+------------+-----------------+\n",
      "\n"
     ]
    }
   ],
   "source": [
    "df_custom_mapping = spark.read.option(\"header\",True).option(\"inferSchema\",True).csv(\"source/Custom_Mapping_DIM.csv\")\n",
    "df_custom_mapping.show()"
   ]
  },
  {
   "cell_type": "markdown",
   "id": "f74e3366-fac7-4fdb-a5f5-f25641ce71d6",
   "metadata": {},
   "source": [
    "#### Ensure that mapping are unique in nature"
   ]
  },
  {
   "cell_type": "code",
   "execution_count": 27,
   "id": "3f6b7462-b734-4047-826f-633cc8598cc6",
   "metadata": {},
   "outputs": [],
   "source": [
    "df_custom_mapping_check = df_custom_mapping.groupBy([col(\"ProductCategory\"),col(\"StoreRegion\"),col(\"CustomerType\")]).agg(sparkCount(col(\"MappingLabel\")).alias(\"count\"))"
   ]
  },
  {
   "cell_type": "code",
   "execution_count": 28,
   "id": "b2946b19-13a9-4375-93ab-4ad90e2a4340",
   "metadata": {},
   "outputs": [],
   "source": [
    "count_duplicate = df_custom_mapping_check.filter(col(\"count\") > 1).count()"
   ]
  },
  {
   "cell_type": "code",
   "execution_count": 29,
   "id": "6f1e82a1-0b5e-4cfc-979b-e4aff998d3bc",
   "metadata": {},
   "outputs": [],
   "source": [
    "if count_duplicate > 0:\n",
    "    print(\"Handle Duplicate Mapping combinations\")"
   ]
  },
  {
   "cell_type": "markdown",
   "id": "afddaae9-abbe-4e97-b58c-c7453f40eb57",
   "metadata": {},
   "source": [
    "#### Add Surrogate key and N/A for Mapping Table"
   ]
  },
  {
   "cell_type": "code",
   "execution_count": 30,
   "id": "4466933e-7928-4c7e-9556-a53570007379",
   "metadata": {},
   "outputs": [],
   "source": [
    "df_custom_mapping3 = df_custom_mapping.withColumn(\"CustomMappingKey\",monotonically_increasing_id())"
   ]
  },
  {
   "cell_type": "code",
   "execution_count": 31,
   "id": "5db77f18-f3bb-46c0-8a1a-d96359840f83",
   "metadata": {},
   "outputs": [],
   "source": [
    "df_mapping_na = spark.createDataFrame([\n",
    "    (\"N/A\",\"N/A\",\"N/A\",\"N/A\",-1)\n",
    "],[\"MappingLabel\",\"ProductCategory\",\"StoreRegion\",\"CustomerType\", \"CustomMappingKey\"])"
   ]
  },
  {
   "cell_type": "code",
   "execution_count": 32,
   "id": "72c5a2eb-f863-4d0c-952a-ca1f497197b8",
   "metadata": {},
   "outputs": [],
   "source": [
    "dim_custom_mapping = df_custom_mapping3.unionAll(df_mapping_na)"
   ]
  },
  {
   "cell_type": "code",
   "execution_count": 33,
   "id": "550ea87c-1720-4921-b98e-d760ed0547c2",
   "metadata": {},
   "outputs": [
    {
     "name": "stdout",
     "output_type": "stream",
     "text": [
      "+---------------+-----------+------------+-----------------+----------------+\n",
      "|ProductCategory|StoreRegion|CustomerType|     MappingLabel|CustomMappingKey|\n",
      "+---------------+-----------+------------+-----------------+----------------+\n",
      "|         Tablet|       East|      Retail|        Side Head|               0|\n",
      "|         Laptop|       West|      Retail|      Premium Box|               1|\n",
      "|         Mobile|      North|   Wholesale|North Dist Mobile|               2|\n",
      "|         Tablet|      South|      Retail|      Tablet Push|               3|\n",
      "|         Laptop|      North|   Wholesale|    Laptop Supply|               4|\n",
      "|            N/A|        N/A|         N/A|              N/A|              -1|\n",
      "+---------------+-----------+------------+-----------------+----------------+\n",
      "\n"
     ]
    }
   ],
   "source": [
    "dim_custom_mapping.show()"
   ]
  },
  {
   "cell_type": "code",
   "execution_count": 39,
   "id": "cc9cdabf-5085-4849-875c-97e78b8d3bd2",
   "metadata": {},
   "outputs": [],
   "source": [
    "dim_custom_mapping.write.mode(\"overwrite\").parquet(\"warehouse/dim_custom_mapping\")"
   ]
  },
  {
   "cell_type": "code",
   "execution_count": 40,
   "id": "569a95d0-8f8d-4691-9ecd-6bcc7c6a0371",
   "metadata": {},
   "outputs": [
    {
     "name": "stdout",
     "output_type": "stream",
     "text": [
      "+---------------+-----------+------------+-----------------+----------------+\n",
      "|ProductCategory|StoreRegion|CustomerType|     MappingLabel|CustomMappingKey|\n",
      "+---------------+-----------+------------+-----------------+----------------+\n",
      "|         Tablet|       East|      Retail|        Side Head|               0|\n",
      "|         Laptop|       West|      Retail|      Premium Box|               1|\n",
      "|         Mobile|      North|   Wholesale|North Dist Mobile|               2|\n",
      "|         Tablet|      South|      Retail|      Tablet Push|               3|\n",
      "|         Laptop|      North|   Wholesale|    Laptop Supply|               4|\n",
      "|            N/A|        N/A|         N/A|              N/A|              -1|\n",
      "+---------------+-----------+------------+-----------------+----------------+\n",
      "\n"
     ]
    }
   ],
   "source": [
    "spark.read.parquet(\"dim_custom_mapping\").show()"
   ]
  },
  {
   "cell_type": "code",
   "execution_count": null,
   "id": "78950218-d246-4ad9-b635-cb13300a42a2",
   "metadata": {},
   "outputs": [],
   "source": []
  }
 ],
 "metadata": {
  "kernelspec": {
   "display_name": "Python 3 (ipykernel)",
   "language": "python",
   "name": "python3"
  },
  "language_info": {
   "codemirror_mode": {
    "name": "ipython",
    "version": 3
   },
   "file_extension": ".py",
   "mimetype": "text/x-python",
   "name": "python",
   "nbconvert_exporter": "python",
   "pygments_lexer": "ipython3",
   "version": "3.11.6"
  }
 },
 "nbformat": 4,
 "nbformat_minor": 5
}
