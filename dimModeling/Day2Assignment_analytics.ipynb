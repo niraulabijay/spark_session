{
 "cells": [
  {
   "cell_type": "code",
   "execution_count": 0,
   "metadata": {
    "application/vnd.databricks.v1+cell": {
     "cellMetadata": {
      "byteLimit": 2048000,
      "rowLimit": 10000
     },
     "inputWidgets": {},
     "nuid": "16d06787-8f7e-432a-b0d9-647582b2eed5",
     "showTitle": false,
     "tableResultSettingsMap": {},
     "title": ""
    }
   },
   "outputs": [],
   "source": [
    "from pyspark.sql import SparkSession\n",
    "from pyspark.sql.functions import (col, hash as hashFcn, upper, year, min as minValue, max as maxValue, sum as sparkSum, date_format, year, month, quarter, when, regexp_replace) "
   ]
  },
  {
   "cell_type": "code",
   "execution_count": 0,
   "metadata": {
    "application/vnd.databricks.v1+cell": {
     "cellMetadata": {
      "byteLimit": 2048000,
      "rowLimit": 10000
     },
     "inputWidgets": {},
     "nuid": "42e40699-bc14-491a-bc2e-1423cfe0e2dd",
     "showTitle": false,
     "tableResultSettingsMap": {},
     "title": ""
    }
   },
   "outputs": [],
   "source": [
    "spark = SparkSession.builder.appName(\"Day2\").getOrCreate()"
   ]
  },
  {
   "cell_type": "markdown",
   "metadata": {
    "application/vnd.databricks.v1+cell": {
     "cellMetadata": {},
     "inputWidgets": {},
     "nuid": "9ae65bc2-e362-4265-ad00-6d8c541b52e4",
     "showTitle": false,
     "tableResultSettingsMap": {},
     "title": ""
    }
   },
   "source": [
    "### Basic Inner Joins"
   ]
  },
  {
   "cell_type": "code",
   "execution_count": 0,
   "metadata": {
    "application/vnd.databricks.v1+cell": {
     "cellMetadata": {
      "byteLimit": 2048000,
      "rowLimit": 10000
     },
     "inputWidgets": {},
     "nuid": "682e1dcd-1aee-4ace-9262-ea0f578ad64c",
     "showTitle": false,
     "tableResultSettingsMap": {},
     "title": ""
    }
   },
   "outputs": [],
   "source": [
    "df_fact = spark.read.format(\"delta\").load(\"/FileStore/tables/FACT_sales\")"
   ]
  },
  {
   "cell_type": "code",
   "execution_count": 0,
   "metadata": {
    "application/vnd.databricks.v1+cell": {
     "cellMetadata": {
      "byteLimit": 2048000,
      "rowLimit": 10000
     },
     "inputWidgets": {},
     "nuid": "4c2e1f54-8b5c-4ce5-a17e-63f8a208bd80",
     "showTitle": false,
     "tableResultSettingsMap": {},
     "title": ""
    }
   },
   "outputs": [
    {
     "output_type": "display_data",
     "data": {
      "text/html": [
       "<style scoped>\n",
       "  .table-result-container {\n",
       "    max-height: 300px;\n",
       "    overflow: auto;\n",
       "  }\n",
       "  table, th, td {\n",
       "    border: 1px solid black;\n",
       "    border-collapse: collapse;\n",
       "  }\n",
       "  th, td {\n",
       "    padding: 5px;\n",
       "  }\n",
       "  th {\n",
       "    text-align: left;\n",
       "  }\n",
       "</style><div class='table-result-container'><table class='table-result'><thead style='background-color: white'><tr><th>UnitsSold</th><th>Revenue</th><th>DIM_RegionKey</th><th>DIM_CategoryKey</th><th>DIM_SubCategoryKey</th><th>DIM_SalesChannelKey</th><th>DIM_CustomerSegmentKey</th><th>DIM_SalesRepKey</th><th>DIM_StoreTypeKey</th><th>SalesDateKey</th></tr></thead><tbody><tr><td>10</td><td>1000</td><td>1869582694</td><td>1422188909</td><td>-1314911383</td><td>2000399776</td><td>-1594651443</td><td>1352887388</td><td>-1427273716</td><td>20230721</td></tr><tr><td>20</td><td>1500</td><td>-96241737</td><td>218386994</td><td>-686888261</td><td>1815579165</td><td>-7382621</td><td>-392921166</td><td>-1640598988</td><td>20240128</td></tr><tr><td>15</td><td>1200</td><td>-1592160435</td><td>-871983438</td><td>-1029118937</td><td>-2034590472</td><td>-951279011</td><td>591137949</td><td>-817774136</td><td>20250222</td></tr><tr><td>30</td><td>3000</td><td>-402154387</td><td>963552435</td><td>-167645305</td><td>2128323039</td><td>911933479</td><td>-1866580689</td><td>1735384348</td><td>20230124</td></tr><tr><td>12</td><td>1100</td><td>1869582694</td><td>1422188909</td><td>-1314911383</td><td>2000399776</td><td>-1594651443</td><td>1352887388</td><td>-1427273716</td><td>20250131</td></tr><tr><td>25</td><td>2500</td><td>-96241737</td><td>218386994</td><td>-686888261</td><td>1815579165</td><td>-7382621</td><td>-392921166</td><td>-1640598988</td><td>20230627</td></tr><tr><td>22</td><td>2200</td><td>-1592160435</td><td>-871983438</td><td>-1029118937</td><td>-2034590472</td><td>-951279011</td><td>591137949</td><td>-817774136</td><td>20220602</td></tr><tr><td>18</td><td>1800</td><td>-402154387</td><td>963552435</td><td>-167645305</td><td>2128323039</td><td>911933479</td><td>-1866580689</td><td>1735384348</td><td>20241229</td></tr><tr><td>10</td><td>1000</td><td>1869582694</td><td>1422188909</td><td>-1314911383</td><td>2000399776</td><td>-1594651443</td><td>1352887388</td><td>-1427273716</td><td>20250604</td></tr><tr><td>20</td><td>1500</td><td>-96241737</td><td>218386994</td><td>-686888261</td><td>1815579165</td><td>-7382621</td><td>-392921166</td><td>-1640598988</td><td>20240316</td></tr><tr><td>15</td><td>1200</td><td>-1592160435</td><td>-871983438</td><td>-1029118937</td><td>-2034590472</td><td>-951279011</td><td>591137949</td><td>-817774136</td><td>20241125</td></tr><tr><td>30</td><td>3000</td><td>-402154387</td><td>963552435</td><td>-167645305</td><td>2128323039</td><td>911933479</td><td>-1866580689</td><td>1735384348</td><td>20231029</td></tr><tr><td>12</td><td>1100</td><td>1869582694</td><td>1422188909</td><td>-1314911383</td><td>2000399776</td><td>-1594651443</td><td>1352887388</td><td>-1427273716</td><td>20200625</td></tr><tr><td>25</td><td>2500</td><td>-96241737</td><td>218386994</td><td>-686888261</td><td>1815579165</td><td>-7382621</td><td>-392921166</td><td>-1640598988</td><td>20221223</td></tr><tr><td>22</td><td>2200</td><td>-1592160435</td><td>-871983438</td><td>-1029118937</td><td>-2034590472</td><td>-951279011</td><td>591137949</td><td>-817774136</td><td>20220121</td></tr><tr><td>18</td><td>1800</td><td>-402154387</td><td>963552435</td><td>-167645305</td><td>2128323039</td><td>911933479</td><td>-1866580689</td><td>1735384348</td><td>20240427</td></tr><tr><td>10</td><td>1000</td><td>1869582694</td><td>1422188909</td><td>-1314911383</td><td>2000399776</td><td>-1594651443</td><td>1352887388</td><td>-1427273716</td><td>20230509</td></tr><tr><td>20</td><td>1500</td><td>-96241737</td><td>218386994</td><td>-686888261</td><td>1815579165</td><td>-7382621</td><td>-392921166</td><td>-1640598988</td><td>20220708</td></tr><tr><td>15</td><td>1200</td><td>-1592160435</td><td>-871983438</td><td>-1029118937</td><td>-2034590472</td><td>-951279011</td><td>591137949</td><td>-817774136</td><td>20210213</td></tr><tr><td>30</td><td>3000</td><td>-402154387</td><td>963552435</td><td>-167645305</td><td>2128323039</td><td>911933479</td><td>-1866580689</td><td>1735384348</td><td>20240612</td></tr><tr><td>12</td><td>1100</td><td>1869582694</td><td>1422188909</td><td>-1314911383</td><td>2000399776</td><td>-1594651443</td><td>1352887388</td><td>-1427273716</td><td>20230207</td></tr><tr><td>25</td><td>2500</td><td>-96241737</td><td>218386994</td><td>-686888261</td><td>1815579165</td><td>-7382621</td><td>-392921166</td><td>-1640598988</td><td>20220529</td></tr><tr><td>22</td><td>2200</td><td>-1592160435</td><td>-871983438</td><td>-1029118937</td><td>-2034590472</td><td>-951279011</td><td>591137949</td><td>-817774136</td><td>20250131</td></tr><tr><td>18</td><td>1800</td><td>-402154387</td><td>963552435</td><td>-167645305</td><td>2128323039</td><td>911933479</td><td>-1866580689</td><td>1735384348</td><td>20210702</td></tr><tr><td>10</td><td>1000</td><td>1869582694</td><td>1422188909</td><td>-1314911383</td><td>2000399776</td><td>-1594651443</td><td>1352887388</td><td>-1427273716</td><td>20210127</td></tr><tr><td>20</td><td>1500</td><td>-96241737</td><td>218386994</td><td>-686888261</td><td>1815579165</td><td>-7382621</td><td>-392921166</td><td>-1640598988</td><td>20211109</td></tr><tr><td>15</td><td>1200</td><td>-1592160435</td><td>-871983438</td><td>-1029118937</td><td>-2034590472</td><td>-951279011</td><td>591137949</td><td>-817774136</td><td>20230323</td></tr><tr><td>30</td><td>3000</td><td>-402154387</td><td>963552435</td><td>-167645305</td><td>2128323039</td><td>911933479</td><td>-1866580689</td><td>1735384348</td><td>20211108</td></tr><tr><td>12</td><td>1100</td><td>1869582694</td><td>1422188909</td><td>-1314911383</td><td>2000399776</td><td>-1594651443</td><td>1352887388</td><td>-1427273716</td><td>20211015</td></tr><tr><td>25</td><td>2500</td><td>-96241737</td><td>218386994</td><td>-686888261</td><td>1815579165</td><td>-7382621</td><td>-392921166</td><td>-1640598988</td><td>20211126</td></tr></tbody></table></div>"
      ]
     },
     "metadata": {
      "application/vnd.databricks.v1+output": {
       "addedWidgets": {},
       "aggData": [],
       "aggError": "",
       "aggOverflow": false,
       "aggSchema": [],
       "aggSeriesLimitReached": false,
       "aggType": "",
       "arguments": {},
       "columnCustomDisplayInfos": {},
       "data": [
        [
         10,
         1000,
         1869582694,
         1422188909,
         -1314911383,
         2000399776,
         -1594651443,
         1352887388,
         -1427273716,
         20230721
        ],
        [
         20,
         1500,
         -96241737,
         218386994,
         -686888261,
         1815579165,
         -7382621,
         -392921166,
         -1640598988,
         20240128
        ],
        [
         15,
         1200,
         -1592160435,
         -871983438,
         -1029118937,
         -2034590472,
         -951279011,
         591137949,
         -817774136,
         20250222
        ],
        [
         30,
         3000,
         -402154387,
         963552435,
         -167645305,
         2128323039,
         911933479,
         -1866580689,
         1735384348,
         20230124
        ],
        [
         12,
         1100,
         1869582694,
         1422188909,
         -1314911383,
         2000399776,
         -1594651443,
         1352887388,
         -1427273716,
         20250131
        ],
        [
         25,
         2500,
         -96241737,
         218386994,
         -686888261,
         1815579165,
         -7382621,
         -392921166,
         -1640598988,
         20230627
        ],
        [
         22,
         2200,
         -1592160435,
         -871983438,
         -1029118937,
         -2034590472,
         -951279011,
         591137949,
         -817774136,
         20220602
        ],
        [
         18,
         1800,
         -402154387,
         963552435,
         -167645305,
         2128323039,
         911933479,
         -1866580689,
         1735384348,
         20241229
        ],
        [
         10,
         1000,
         1869582694,
         1422188909,
         -1314911383,
         2000399776,
         -1594651443,
         1352887388,
         -1427273716,
         20250604
        ],
        [
         20,
         1500,
         -96241737,
         218386994,
         -686888261,
         1815579165,
         -7382621,
         -392921166,
         -1640598988,
         20240316
        ],
        [
         15,
         1200,
         -1592160435,
         -871983438,
         -1029118937,
         -2034590472,
         -951279011,
         591137949,
         -817774136,
         20241125
        ],
        [
         30,
         3000,
         -402154387,
         963552435,
         -167645305,
         2128323039,
         911933479,
         -1866580689,
         1735384348,
         20231029
        ],
        [
         12,
         1100,
         1869582694,
         1422188909,
         -1314911383,
         2000399776,
         -1594651443,
         1352887388,
         -1427273716,
         20200625
        ],
        [
         25,
         2500,
         -96241737,
         218386994,
         -686888261,
         1815579165,
         -7382621,
         -392921166,
         -1640598988,
         20221223
        ],
        [
         22,
         2200,
         -1592160435,
         -871983438,
         -1029118937,
         -2034590472,
         -951279011,
         591137949,
         -817774136,
         20220121
        ],
        [
         18,
         1800,
         -402154387,
         963552435,
         -167645305,
         2128323039,
         911933479,
         -1866580689,
         1735384348,
         20240427
        ],
        [
         10,
         1000,
         1869582694,
         1422188909,
         -1314911383,
         2000399776,
         -1594651443,
         1352887388,
         -1427273716,
         20230509
        ],
        [
         20,
         1500,
         -96241737,
         218386994,
         -686888261,
         1815579165,
         -7382621,
         -392921166,
         -1640598988,
         20220708
        ],
        [
         15,
         1200,
         -1592160435,
         -871983438,
         -1029118937,
         -2034590472,
         -951279011,
         591137949,
         -817774136,
         20210213
        ],
        [
         30,
         3000,
         -402154387,
         963552435,
         -167645305,
         2128323039,
         911933479,
         -1866580689,
         1735384348,
         20240612
        ],
        [
         12,
         1100,
         1869582694,
         1422188909,
         -1314911383,
         2000399776,
         -1594651443,
         1352887388,
         -1427273716,
         20230207
        ],
        [
         25,
         2500,
         -96241737,
         218386994,
         -686888261,
         1815579165,
         -7382621,
         -392921166,
         -1640598988,
         20220529
        ],
        [
         22,
         2200,
         -1592160435,
         -871983438,
         -1029118937,
         -2034590472,
         -951279011,
         591137949,
         -817774136,
         20250131
        ],
        [
         18,
         1800,
         -402154387,
         963552435,
         -167645305,
         2128323039,
         911933479,
         -1866580689,
         1735384348,
         20210702
        ],
        [
         10,
         1000,
         1869582694,
         1422188909,
         -1314911383,
         2000399776,
         -1594651443,
         1352887388,
         -1427273716,
         20210127
        ],
        [
         20,
         1500,
         -96241737,
         218386994,
         -686888261,
         1815579165,
         -7382621,
         -392921166,
         -1640598988,
         20211109
        ],
        [
         15,
         1200,
         -1592160435,
         -871983438,
         -1029118937,
         -2034590472,
         -951279011,
         591137949,
         -817774136,
         20230323
        ],
        [
         30,
         3000,
         -402154387,
         963552435,
         -167645305,
         2128323039,
         911933479,
         -1866580689,
         1735384348,
         20211108
        ],
        [
         12,
         1100,
         1869582694,
         1422188909,
         -1314911383,
         2000399776,
         -1594651443,
         1352887388,
         -1427273716,
         20211015
        ],
        [
         25,
         2500,
         -96241737,
         218386994,
         -686888261,
         1815579165,
         -7382621,
         -392921166,
         -1640598988,
         20211126
        ]
       ],
       "datasetInfos": [],
       "dbfsResultPath": null,
       "isJsonSchema": true,
       "metadata": {},
       "overflow": false,
       "plotOptions": {
        "customPlotOptions": {},
        "displayType": "table",
        "pivotAggregation": null,
        "pivotColumns": null,
        "xColumns": null,
        "yColumns": null
       },
       "removedWidgets": [],
       "schema": [
        {
         "metadata": "{}",
         "name": "UnitsSold",
         "type": "\"integer\""
        },
        {
         "metadata": "{}",
         "name": "Revenue",
         "type": "\"integer\""
        },
        {
         "metadata": "{}",
         "name": "DIM_RegionKey",
         "type": "\"long\""
        },
        {
         "metadata": "{}",
         "name": "DIM_CategoryKey",
         "type": "\"long\""
        },
        {
         "metadata": "{}",
         "name": "DIM_SubCategoryKey",
         "type": "\"long\""
        },
        {
         "metadata": "{}",
         "name": "DIM_SalesChannelKey",
         "type": "\"long\""
        },
        {
         "metadata": "{}",
         "name": "DIM_CustomerSegmentKey",
         "type": "\"long\""
        },
        {
         "metadata": "{}",
         "name": "DIM_SalesRepKey",
         "type": "\"long\""
        },
        {
         "metadata": "{}",
         "name": "DIM_StoreTypeKey",
         "type": "\"long\""
        },
        {
         "metadata": "{}",
         "name": "SalesDateKey",
         "type": "\"long\""
        }
       ],
       "type": "table"
      }
     },
     "output_type": "display_data"
    }
   ],
   "source": [
    "display(df_fact)"
   ]
  },
  {
   "cell_type": "code",
   "execution_count": 0,
   "metadata": {
    "application/vnd.databricks.v1+cell": {
     "cellMetadata": {
      "byteLimit": 2048000,
      "rowLimit": 10000
     },
     "inputWidgets": {},
     "nuid": "33cbbf3f-36a3-4e56-baa9-5cda13b4ea56",
     "showTitle": false,
     "tableResultSettingsMap": {},
     "title": ""
    }
   },
   "outputs": [],
   "source": [
    "df_dim_region = spark.read.format(\"delta\").load(\"/FileStore/tables/DIM_Region\")"
   ]
  },
  {
   "cell_type": "code",
   "execution_count": 0,
   "metadata": {
    "application/vnd.databricks.v1+cell": {
     "cellMetadata": {
      "byteLimit": 2048000,
      "rowLimit": 10000
     },
     "inputWidgets": {},
     "nuid": "a604a37d-1850-49a8-a291-2e142817874a",
     "showTitle": false,
     "tableResultSettingsMap": {},
     "title": ""
    }
   },
   "outputs": [],
   "source": [
    "df_fact2 = df_fact.join(df_dim_region, df_dim_region.RegionKey == df_fact.DIM_RegionKey, \"inner\")"
   ]
  },
  {
   "cell_type": "code",
   "execution_count": 0,
   "metadata": {
    "application/vnd.databricks.v1+cell": {
     "cellMetadata": {
      "byteLimit": 2048000,
      "rowLimit": 10000
     },
     "inputWidgets": {},
     "nuid": "f23be613-f4d5-4105-b88c-43d12b0d7720",
     "showTitle": false,
     "tableResultSettingsMap": {},
     "title": ""
    },
    "jupyter": {
     "outputs_hidden": true
    }
   },
   "outputs": [
    {
     "output_type": "display_data",
     "data": {
      "text/html": [
       "<style scoped>\n",
       "  .table-result-container {\n",
       "    max-height: 300px;\n",
       "    overflow: auto;\n",
       "  }\n",
       "  table, th, td {\n",
       "    border: 1px solid black;\n",
       "    border-collapse: collapse;\n",
       "  }\n",
       "  th, td {\n",
       "    padding: 5px;\n",
       "  }\n",
       "  th {\n",
       "    text-align: left;\n",
       "  }\n",
       "</style><div class='table-result-container'><table class='table-result'><thead style='background-color: white'><tr><th>UnitsSold</th><th>Revenue</th><th>DIM_RegionKey</th><th>DIM_CategoryKey</th><th>DIM_SubCategoryKey</th><th>DIM_SalesChannelKey</th><th>DIM_CustomerSegmentKey</th><th>DIM_SalesRepKey</th><th>DIM_StoreTypeKey</th><th>SalesDateKey</th><th>Region</th><th>RegionKey</th></tr></thead><tbody><tr><td>10</td><td>1000</td><td>1869582694</td><td>1422188909</td><td>-1314911383</td><td>2000399776</td><td>-1594651443</td><td>1352887388</td><td>-1427273716</td><td>20230721</td><td>North</td><td>1869582694</td></tr><tr><td>20</td><td>1500</td><td>-96241737</td><td>218386994</td><td>-686888261</td><td>1815579165</td><td>-7382621</td><td>-392921166</td><td>-1640598988</td><td>20240128</td><td>South</td><td>-96241737</td></tr><tr><td>15</td><td>1200</td><td>-1592160435</td><td>-871983438</td><td>-1029118937</td><td>-2034590472</td><td>-951279011</td><td>591137949</td><td>-817774136</td><td>20250222</td><td>East</td><td>-1592160435</td></tr><tr><td>30</td><td>3000</td><td>-402154387</td><td>963552435</td><td>-167645305</td><td>2128323039</td><td>911933479</td><td>-1866580689</td><td>1735384348</td><td>20230124</td><td>West</td><td>-402154387</td></tr><tr><td>12</td><td>1100</td><td>1869582694</td><td>1422188909</td><td>-1314911383</td><td>2000399776</td><td>-1594651443</td><td>1352887388</td><td>-1427273716</td><td>20250131</td><td>North</td><td>1869582694</td></tr><tr><td>25</td><td>2500</td><td>-96241737</td><td>218386994</td><td>-686888261</td><td>1815579165</td><td>-7382621</td><td>-392921166</td><td>-1640598988</td><td>20230627</td><td>South</td><td>-96241737</td></tr><tr><td>22</td><td>2200</td><td>-1592160435</td><td>-871983438</td><td>-1029118937</td><td>-2034590472</td><td>-951279011</td><td>591137949</td><td>-817774136</td><td>20220602</td><td>East</td><td>-1592160435</td></tr><tr><td>18</td><td>1800</td><td>-402154387</td><td>963552435</td><td>-167645305</td><td>2128323039</td><td>911933479</td><td>-1866580689</td><td>1735384348</td><td>20241229</td><td>West</td><td>-402154387</td></tr><tr><td>10</td><td>1000</td><td>1869582694</td><td>1422188909</td><td>-1314911383</td><td>2000399776</td><td>-1594651443</td><td>1352887388</td><td>-1427273716</td><td>20250604</td><td>North</td><td>1869582694</td></tr><tr><td>20</td><td>1500</td><td>-96241737</td><td>218386994</td><td>-686888261</td><td>1815579165</td><td>-7382621</td><td>-392921166</td><td>-1640598988</td><td>20240316</td><td>South</td><td>-96241737</td></tr><tr><td>15</td><td>1200</td><td>-1592160435</td><td>-871983438</td><td>-1029118937</td><td>-2034590472</td><td>-951279011</td><td>591137949</td><td>-817774136</td><td>20241125</td><td>East</td><td>-1592160435</td></tr><tr><td>30</td><td>3000</td><td>-402154387</td><td>963552435</td><td>-167645305</td><td>2128323039</td><td>911933479</td><td>-1866580689</td><td>1735384348</td><td>20231029</td><td>West</td><td>-402154387</td></tr><tr><td>12</td><td>1100</td><td>1869582694</td><td>1422188909</td><td>-1314911383</td><td>2000399776</td><td>-1594651443</td><td>1352887388</td><td>-1427273716</td><td>20200625</td><td>North</td><td>1869582694</td></tr><tr><td>25</td><td>2500</td><td>-96241737</td><td>218386994</td><td>-686888261</td><td>1815579165</td><td>-7382621</td><td>-392921166</td><td>-1640598988</td><td>20221223</td><td>South</td><td>-96241737</td></tr><tr><td>22</td><td>2200</td><td>-1592160435</td><td>-871983438</td><td>-1029118937</td><td>-2034590472</td><td>-951279011</td><td>591137949</td><td>-817774136</td><td>20220121</td><td>East</td><td>-1592160435</td></tr><tr><td>18</td><td>1800</td><td>-402154387</td><td>963552435</td><td>-167645305</td><td>2128323039</td><td>911933479</td><td>-1866580689</td><td>1735384348</td><td>20240427</td><td>West</td><td>-402154387</td></tr><tr><td>10</td><td>1000</td><td>1869582694</td><td>1422188909</td><td>-1314911383</td><td>2000399776</td><td>-1594651443</td><td>1352887388</td><td>-1427273716</td><td>20230509</td><td>North</td><td>1869582694</td></tr><tr><td>20</td><td>1500</td><td>-96241737</td><td>218386994</td><td>-686888261</td><td>1815579165</td><td>-7382621</td><td>-392921166</td><td>-1640598988</td><td>20220708</td><td>South</td><td>-96241737</td></tr><tr><td>15</td><td>1200</td><td>-1592160435</td><td>-871983438</td><td>-1029118937</td><td>-2034590472</td><td>-951279011</td><td>591137949</td><td>-817774136</td><td>20210213</td><td>East</td><td>-1592160435</td></tr><tr><td>30</td><td>3000</td><td>-402154387</td><td>963552435</td><td>-167645305</td><td>2128323039</td><td>911933479</td><td>-1866580689</td><td>1735384348</td><td>20240612</td><td>West</td><td>-402154387</td></tr><tr><td>12</td><td>1100</td><td>1869582694</td><td>1422188909</td><td>-1314911383</td><td>2000399776</td><td>-1594651443</td><td>1352887388</td><td>-1427273716</td><td>20230207</td><td>North</td><td>1869582694</td></tr><tr><td>25</td><td>2500</td><td>-96241737</td><td>218386994</td><td>-686888261</td><td>1815579165</td><td>-7382621</td><td>-392921166</td><td>-1640598988</td><td>20220529</td><td>South</td><td>-96241737</td></tr><tr><td>22</td><td>2200</td><td>-1592160435</td><td>-871983438</td><td>-1029118937</td><td>-2034590472</td><td>-951279011</td><td>591137949</td><td>-817774136</td><td>20250131</td><td>East</td><td>-1592160435</td></tr><tr><td>18</td><td>1800</td><td>-402154387</td><td>963552435</td><td>-167645305</td><td>2128323039</td><td>911933479</td><td>-1866580689</td><td>1735384348</td><td>20210702</td><td>West</td><td>-402154387</td></tr><tr><td>10</td><td>1000</td><td>1869582694</td><td>1422188909</td><td>-1314911383</td><td>2000399776</td><td>-1594651443</td><td>1352887388</td><td>-1427273716</td><td>20210127</td><td>North</td><td>1869582694</td></tr><tr><td>20</td><td>1500</td><td>-96241737</td><td>218386994</td><td>-686888261</td><td>1815579165</td><td>-7382621</td><td>-392921166</td><td>-1640598988</td><td>20211109</td><td>South</td><td>-96241737</td></tr><tr><td>15</td><td>1200</td><td>-1592160435</td><td>-871983438</td><td>-1029118937</td><td>-2034590472</td><td>-951279011</td><td>591137949</td><td>-817774136</td><td>20230323</td><td>East</td><td>-1592160435</td></tr><tr><td>30</td><td>3000</td><td>-402154387</td><td>963552435</td><td>-167645305</td><td>2128323039</td><td>911933479</td><td>-1866580689</td><td>1735384348</td><td>20211108</td><td>West</td><td>-402154387</td></tr><tr><td>12</td><td>1100</td><td>1869582694</td><td>1422188909</td><td>-1314911383</td><td>2000399776</td><td>-1594651443</td><td>1352887388</td><td>-1427273716</td><td>20211015</td><td>North</td><td>1869582694</td></tr><tr><td>25</td><td>2500</td><td>-96241737</td><td>218386994</td><td>-686888261</td><td>1815579165</td><td>-7382621</td><td>-392921166</td><td>-1640598988</td><td>20211126</td><td>South</td><td>-96241737</td></tr></tbody></table></div>"
      ]
     },
     "metadata": {
      "application/vnd.databricks.v1+output": {
       "addedWidgets": {},
       "aggData": [],
       "aggError": "",
       "aggOverflow": false,
       "aggSchema": [],
       "aggSeriesLimitReached": false,
       "aggType": "",
       "arguments": {},
       "columnCustomDisplayInfos": {},
       "data": [
        [
         10,
         1000,
         1869582694,
         1422188909,
         -1314911383,
         2000399776,
         -1594651443,
         1352887388,
         -1427273716,
         20230721,
         "North",
         1869582694
        ],
        [
         20,
         1500,
         -96241737,
         218386994,
         -686888261,
         1815579165,
         -7382621,
         -392921166,
         -1640598988,
         20240128,
         "South",
         -96241737
        ],
        [
         15,
         1200,
         -1592160435,
         -871983438,
         -1029118937,
         -2034590472,
         -951279011,
         591137949,
         -817774136,
         20250222,
         "East",
         -1592160435
        ],
        [
         30,
         3000,
         -402154387,
         963552435,
         -167645305,
         2128323039,
         911933479,
         -1866580689,
         1735384348,
         20230124,
         "West",
         -402154387
        ],
        [
         12,
         1100,
         1869582694,
         1422188909,
         -1314911383,
         2000399776,
         -1594651443,
         1352887388,
         -1427273716,
         20250131,
         "North",
         1869582694
        ],
        [
         25,
         2500,
         -96241737,
         218386994,
         -686888261,
         1815579165,
         -7382621,
         -392921166,
         -1640598988,
         20230627,
         "South",
         -96241737
        ],
        [
         22,
         2200,
         -1592160435,
         -871983438,
         -1029118937,
         -2034590472,
         -951279011,
         591137949,
         -817774136,
         20220602,
         "East",
         -1592160435
        ],
        [
         18,
         1800,
         -402154387,
         963552435,
         -167645305,
         2128323039,
         911933479,
         -1866580689,
         1735384348,
         20241229,
         "West",
         -402154387
        ],
        [
         10,
         1000,
         1869582694,
         1422188909,
         -1314911383,
         2000399776,
         -1594651443,
         1352887388,
         -1427273716,
         20250604,
         "North",
         1869582694
        ],
        [
         20,
         1500,
         -96241737,
         218386994,
         -686888261,
         1815579165,
         -7382621,
         -392921166,
         -1640598988,
         20240316,
         "South",
         -96241737
        ],
        [
         15,
         1200,
         -1592160435,
         -871983438,
         -1029118937,
         -2034590472,
         -951279011,
         591137949,
         -817774136,
         20241125,
         "East",
         -1592160435
        ],
        [
         30,
         3000,
         -402154387,
         963552435,
         -167645305,
         2128323039,
         911933479,
         -1866580689,
         1735384348,
         20231029,
         "West",
         -402154387
        ],
        [
         12,
         1100,
         1869582694,
         1422188909,
         -1314911383,
         2000399776,
         -1594651443,
         1352887388,
         -1427273716,
         20200625,
         "North",
         1869582694
        ],
        [
         25,
         2500,
         -96241737,
         218386994,
         -686888261,
         1815579165,
         -7382621,
         -392921166,
         -1640598988,
         20221223,
         "South",
         -96241737
        ],
        [
         22,
         2200,
         -1592160435,
         -871983438,
         -1029118937,
         -2034590472,
         -951279011,
         591137949,
         -817774136,
         20220121,
         "East",
         -1592160435
        ],
        [
         18,
         1800,
         -402154387,
         963552435,
         -167645305,
         2128323039,
         911933479,
         -1866580689,
         1735384348,
         20240427,
         "West",
         -402154387
        ],
        [
         10,
         1000,
         1869582694,
         1422188909,
         -1314911383,
         2000399776,
         -1594651443,
         1352887388,
         -1427273716,
         20230509,
         "North",
         1869582694
        ],
        [
         20,
         1500,
         -96241737,
         218386994,
         -686888261,
         1815579165,
         -7382621,
         -392921166,
         -1640598988,
         20220708,
         "South",
         -96241737
        ],
        [
         15,
         1200,
         -1592160435,
         -871983438,
         -1029118937,
         -2034590472,
         -951279011,
         591137949,
         -817774136,
         20210213,
         "East",
         -1592160435
        ],
        [
         30,
         3000,
         -402154387,
         963552435,
         -167645305,
         2128323039,
         911933479,
         -1866580689,
         1735384348,
         20240612,
         "West",
         -402154387
        ],
        [
         12,
         1100,
         1869582694,
         1422188909,
         -1314911383,
         2000399776,
         -1594651443,
         1352887388,
         -1427273716,
         20230207,
         "North",
         1869582694
        ],
        [
         25,
         2500,
         -96241737,
         218386994,
         -686888261,
         1815579165,
         -7382621,
         -392921166,
         -1640598988,
         20220529,
         "South",
         -96241737
        ],
        [
         22,
         2200,
         -1592160435,
         -871983438,
         -1029118937,
         -2034590472,
         -951279011,
         591137949,
         -817774136,
         20250131,
         "East",
         -1592160435
        ],
        [
         18,
         1800,
         -402154387,
         963552435,
         -167645305,
         2128323039,
         911933479,
         -1866580689,
         1735384348,
         20210702,
         "West",
         -402154387
        ],
        [
         10,
         1000,
         1869582694,
         1422188909,
         -1314911383,
         2000399776,
         -1594651443,
         1352887388,
         -1427273716,
         20210127,
         "North",
         1869582694
        ],
        [
         20,
         1500,
         -96241737,
         218386994,
         -686888261,
         1815579165,
         -7382621,
         -392921166,
         -1640598988,
         20211109,
         "South",
         -96241737
        ],
        [
         15,
         1200,
         -1592160435,
         -871983438,
         -1029118937,
         -2034590472,
         -951279011,
         591137949,
         -817774136,
         20230323,
         "East",
         -1592160435
        ],
        [
         30,
         3000,
         -402154387,
         963552435,
         -167645305,
         2128323039,
         911933479,
         -1866580689,
         1735384348,
         20211108,
         "West",
         -402154387
        ],
        [
         12,
         1100,
         1869582694,
         1422188909,
         -1314911383,
         2000399776,
         -1594651443,
         1352887388,
         -1427273716,
         20211015,
         "North",
         1869582694
        ],
        [
         25,
         2500,
         -96241737,
         218386994,
         -686888261,
         1815579165,
         -7382621,
         -392921166,
         -1640598988,
         20211126,
         "South",
         -96241737
        ]
       ],
       "datasetInfos": [],
       "dbfsResultPath": null,
       "isJsonSchema": true,
       "metadata": {},
       "overflow": false,
       "plotOptions": {
        "customPlotOptions": {},
        "displayType": "table",
        "pivotAggregation": null,
        "pivotColumns": null,
        "xColumns": null,
        "yColumns": null
       },
       "removedWidgets": [],
       "schema": [
        {
         "metadata": "{}",
         "name": "UnitsSold",
         "type": "\"integer\""
        },
        {
         "metadata": "{}",
         "name": "Revenue",
         "type": "\"integer\""
        },
        {
         "metadata": "{}",
         "name": "DIM_RegionKey",
         "type": "\"long\""
        },
        {
         "metadata": "{}",
         "name": "DIM_CategoryKey",
         "type": "\"long\""
        },
        {
         "metadata": "{}",
         "name": "DIM_SubCategoryKey",
         "type": "\"long\""
        },
        {
         "metadata": "{}",
         "name": "DIM_SalesChannelKey",
         "type": "\"long\""
        },
        {
         "metadata": "{}",
         "name": "DIM_CustomerSegmentKey",
         "type": "\"long\""
        },
        {
         "metadata": "{}",
         "name": "DIM_SalesRepKey",
         "type": "\"long\""
        },
        {
         "metadata": "{}",
         "name": "DIM_StoreTypeKey",
         "type": "\"long\""
        },
        {
         "metadata": "{}",
         "name": "SalesDateKey",
         "type": "\"long\""
        },
        {
         "metadata": "{}",
         "name": "Region",
         "type": "\"string\""
        },
        {
         "metadata": "{}",
         "name": "RegionKey",
         "type": "\"long\""
        }
       ],
       "type": "table"
      }
     },
     "output_type": "display_data"
    }
   ],
   "source": [
    "display(df_fact2)"
   ]
  },
  {
   "cell_type": "code",
   "execution_count": 0,
   "metadata": {
    "application/vnd.databricks.v1+cell": {
     "cellMetadata": {
      "byteLimit": 2048000,
      "rowLimit": 10000
     },
     "inputWidgets": {},
     "nuid": "517940c1-1c28-40b6-a759-6f2763310afe",
     "showTitle": false,
     "tableResultSettingsMap": {},
     "title": ""
    }
   },
   "outputs": [],
   "source": [
    "df_dim_product_category = spark.read.format(\"delta\").load(\"/FileStore/tables/DIM_Category\")\n",
    "\n",
    "df_fact3 = df_fact.join(df_dim_product_category, df_dim_product_category.CategoryKey == df_fact.DIM_CategoryKey, \"inner\")"
   ]
  },
  {
   "cell_type": "code",
   "execution_count": 0,
   "metadata": {
    "application/vnd.databricks.v1+cell": {
     "cellMetadata": {
      "byteLimit": 2048000,
      "rowLimit": 10000
     },
     "inputWidgets": {},
     "nuid": "0d23b815-1a9a-48a5-b189-436dfbd119e8",
     "showTitle": false,
     "tableResultSettingsMap": {},
     "title": ""
    },
    "jupyter": {
     "outputs_hidden": true
    }
   },
   "outputs": [
    {
     "output_type": "display_data",
     "data": {
      "text/html": [
       "<style scoped>\n",
       "  .table-result-container {\n",
       "    max-height: 300px;\n",
       "    overflow: auto;\n",
       "  }\n",
       "  table, th, td {\n",
       "    border: 1px solid black;\n",
       "    border-collapse: collapse;\n",
       "  }\n",
       "  th, td {\n",
       "    padding: 5px;\n",
       "  }\n",
       "  th {\n",
       "    text-align: left;\n",
       "  }\n",
       "</style><div class='table-result-container'><table class='table-result'><thead style='background-color: white'><tr><th>UnitsSold</th><th>Revenue</th><th>DIM_RegionKey</th><th>DIM_CategoryKey</th><th>DIM_SubCategoryKey</th><th>DIM_SalesChannelKey</th><th>DIM_CustomerSegmentKey</th><th>DIM_SalesRepKey</th><th>DIM_StoreTypeKey</th><th>SalesDateKey</th><th>Title</th><th>CategoryKey</th></tr></thead><tbody><tr><td>10</td><td>1000</td><td>1869582694</td><td>1422188909</td><td>-1314911383</td><td>2000399776</td><td>-1594651443</td><td>1352887388</td><td>-1427273716</td><td>20230721</td><td>Electronics</td><td>1422188909</td></tr><tr><td>20</td><td>1500</td><td>-96241737</td><td>218386994</td><td>-686888261</td><td>1815579165</td><td>-7382621</td><td>-392921166</td><td>-1640598988</td><td>20240128</td><td>Clothing</td><td>218386994</td></tr><tr><td>15</td><td>1200</td><td>-1592160435</td><td>-871983438</td><td>-1029118937</td><td>-2034590472</td><td>-951279011</td><td>591137949</td><td>-817774136</td><td>20250222</td><td>Furniture</td><td>-871983438</td></tr><tr><td>30</td><td>3000</td><td>-402154387</td><td>963552435</td><td>-167645305</td><td>2128323039</td><td>911933479</td><td>-1866580689</td><td>1735384348</td><td>20230124</td><td>Groceries</td><td>963552435</td></tr><tr><td>12</td><td>1100</td><td>1869582694</td><td>1422188909</td><td>-1314911383</td><td>2000399776</td><td>-1594651443</td><td>1352887388</td><td>-1427273716</td><td>20250131</td><td>Electronics</td><td>1422188909</td></tr><tr><td>25</td><td>2500</td><td>-96241737</td><td>218386994</td><td>-686888261</td><td>1815579165</td><td>-7382621</td><td>-392921166</td><td>-1640598988</td><td>20230627</td><td>Clothing</td><td>218386994</td></tr><tr><td>22</td><td>2200</td><td>-1592160435</td><td>-871983438</td><td>-1029118937</td><td>-2034590472</td><td>-951279011</td><td>591137949</td><td>-817774136</td><td>20220602</td><td>Furniture</td><td>-871983438</td></tr><tr><td>18</td><td>1800</td><td>-402154387</td><td>963552435</td><td>-167645305</td><td>2128323039</td><td>911933479</td><td>-1866580689</td><td>1735384348</td><td>20241229</td><td>Groceries</td><td>963552435</td></tr><tr><td>10</td><td>1000</td><td>1869582694</td><td>1422188909</td><td>-1314911383</td><td>2000399776</td><td>-1594651443</td><td>1352887388</td><td>-1427273716</td><td>20250604</td><td>Electronics</td><td>1422188909</td></tr><tr><td>20</td><td>1500</td><td>-96241737</td><td>218386994</td><td>-686888261</td><td>1815579165</td><td>-7382621</td><td>-392921166</td><td>-1640598988</td><td>20240316</td><td>Clothing</td><td>218386994</td></tr><tr><td>15</td><td>1200</td><td>-1592160435</td><td>-871983438</td><td>-1029118937</td><td>-2034590472</td><td>-951279011</td><td>591137949</td><td>-817774136</td><td>20241125</td><td>Furniture</td><td>-871983438</td></tr><tr><td>30</td><td>3000</td><td>-402154387</td><td>963552435</td><td>-167645305</td><td>2128323039</td><td>911933479</td><td>-1866580689</td><td>1735384348</td><td>20231029</td><td>Groceries</td><td>963552435</td></tr><tr><td>12</td><td>1100</td><td>1869582694</td><td>1422188909</td><td>-1314911383</td><td>2000399776</td><td>-1594651443</td><td>1352887388</td><td>-1427273716</td><td>20200625</td><td>Electronics</td><td>1422188909</td></tr><tr><td>25</td><td>2500</td><td>-96241737</td><td>218386994</td><td>-686888261</td><td>1815579165</td><td>-7382621</td><td>-392921166</td><td>-1640598988</td><td>20221223</td><td>Clothing</td><td>218386994</td></tr><tr><td>22</td><td>2200</td><td>-1592160435</td><td>-871983438</td><td>-1029118937</td><td>-2034590472</td><td>-951279011</td><td>591137949</td><td>-817774136</td><td>20220121</td><td>Furniture</td><td>-871983438</td></tr><tr><td>18</td><td>1800</td><td>-402154387</td><td>963552435</td><td>-167645305</td><td>2128323039</td><td>911933479</td><td>-1866580689</td><td>1735384348</td><td>20240427</td><td>Groceries</td><td>963552435</td></tr><tr><td>10</td><td>1000</td><td>1869582694</td><td>1422188909</td><td>-1314911383</td><td>2000399776</td><td>-1594651443</td><td>1352887388</td><td>-1427273716</td><td>20230509</td><td>Electronics</td><td>1422188909</td></tr><tr><td>20</td><td>1500</td><td>-96241737</td><td>218386994</td><td>-686888261</td><td>1815579165</td><td>-7382621</td><td>-392921166</td><td>-1640598988</td><td>20220708</td><td>Clothing</td><td>218386994</td></tr><tr><td>15</td><td>1200</td><td>-1592160435</td><td>-871983438</td><td>-1029118937</td><td>-2034590472</td><td>-951279011</td><td>591137949</td><td>-817774136</td><td>20210213</td><td>Furniture</td><td>-871983438</td></tr><tr><td>30</td><td>3000</td><td>-402154387</td><td>963552435</td><td>-167645305</td><td>2128323039</td><td>911933479</td><td>-1866580689</td><td>1735384348</td><td>20240612</td><td>Groceries</td><td>963552435</td></tr><tr><td>12</td><td>1100</td><td>1869582694</td><td>1422188909</td><td>-1314911383</td><td>2000399776</td><td>-1594651443</td><td>1352887388</td><td>-1427273716</td><td>20230207</td><td>Electronics</td><td>1422188909</td></tr><tr><td>25</td><td>2500</td><td>-96241737</td><td>218386994</td><td>-686888261</td><td>1815579165</td><td>-7382621</td><td>-392921166</td><td>-1640598988</td><td>20220529</td><td>Clothing</td><td>218386994</td></tr><tr><td>22</td><td>2200</td><td>-1592160435</td><td>-871983438</td><td>-1029118937</td><td>-2034590472</td><td>-951279011</td><td>591137949</td><td>-817774136</td><td>20250131</td><td>Furniture</td><td>-871983438</td></tr><tr><td>18</td><td>1800</td><td>-402154387</td><td>963552435</td><td>-167645305</td><td>2128323039</td><td>911933479</td><td>-1866580689</td><td>1735384348</td><td>20210702</td><td>Groceries</td><td>963552435</td></tr><tr><td>10</td><td>1000</td><td>1869582694</td><td>1422188909</td><td>-1314911383</td><td>2000399776</td><td>-1594651443</td><td>1352887388</td><td>-1427273716</td><td>20210127</td><td>Electronics</td><td>1422188909</td></tr><tr><td>20</td><td>1500</td><td>-96241737</td><td>218386994</td><td>-686888261</td><td>1815579165</td><td>-7382621</td><td>-392921166</td><td>-1640598988</td><td>20211109</td><td>Clothing</td><td>218386994</td></tr><tr><td>15</td><td>1200</td><td>-1592160435</td><td>-871983438</td><td>-1029118937</td><td>-2034590472</td><td>-951279011</td><td>591137949</td><td>-817774136</td><td>20230323</td><td>Furniture</td><td>-871983438</td></tr><tr><td>30</td><td>3000</td><td>-402154387</td><td>963552435</td><td>-167645305</td><td>2128323039</td><td>911933479</td><td>-1866580689</td><td>1735384348</td><td>20211108</td><td>Groceries</td><td>963552435</td></tr><tr><td>12</td><td>1100</td><td>1869582694</td><td>1422188909</td><td>-1314911383</td><td>2000399776</td><td>-1594651443</td><td>1352887388</td><td>-1427273716</td><td>20211015</td><td>Electronics</td><td>1422188909</td></tr><tr><td>25</td><td>2500</td><td>-96241737</td><td>218386994</td><td>-686888261</td><td>1815579165</td><td>-7382621</td><td>-392921166</td><td>-1640598988</td><td>20211126</td><td>Clothing</td><td>218386994</td></tr></tbody></table></div>"
      ]
     },
     "metadata": {
      "application/vnd.databricks.v1+output": {
       "addedWidgets": {},
       "aggData": [],
       "aggError": "",
       "aggOverflow": false,
       "aggSchema": [],
       "aggSeriesLimitReached": false,
       "aggType": "",
       "arguments": {},
       "columnCustomDisplayInfos": {},
       "data": [
        [
         10,
         1000,
         1869582694,
         1422188909,
         -1314911383,
         2000399776,
         -1594651443,
         1352887388,
         -1427273716,
         20230721,
         "Electronics",
         1422188909
        ],
        [
         20,
         1500,
         -96241737,
         218386994,
         -686888261,
         1815579165,
         -7382621,
         -392921166,
         -1640598988,
         20240128,
         "Clothing",
         218386994
        ],
        [
         15,
         1200,
         -1592160435,
         -871983438,
         -1029118937,
         -2034590472,
         -951279011,
         591137949,
         -817774136,
         20250222,
         "Furniture",
         -871983438
        ],
        [
         30,
         3000,
         -402154387,
         963552435,
         -167645305,
         2128323039,
         911933479,
         -1866580689,
         1735384348,
         20230124,
         "Groceries",
         963552435
        ],
        [
         12,
         1100,
         1869582694,
         1422188909,
         -1314911383,
         2000399776,
         -1594651443,
         1352887388,
         -1427273716,
         20250131,
         "Electronics",
         1422188909
        ],
        [
         25,
         2500,
         -96241737,
         218386994,
         -686888261,
         1815579165,
         -7382621,
         -392921166,
         -1640598988,
         20230627,
         "Clothing",
         218386994
        ],
        [
         22,
         2200,
         -1592160435,
         -871983438,
         -1029118937,
         -2034590472,
         -951279011,
         591137949,
         -817774136,
         20220602,
         "Furniture",
         -871983438
        ],
        [
         18,
         1800,
         -402154387,
         963552435,
         -167645305,
         2128323039,
         911933479,
         -1866580689,
         1735384348,
         20241229,
         "Groceries",
         963552435
        ],
        [
         10,
         1000,
         1869582694,
         1422188909,
         -1314911383,
         2000399776,
         -1594651443,
         1352887388,
         -1427273716,
         20250604,
         "Electronics",
         1422188909
        ],
        [
         20,
         1500,
         -96241737,
         218386994,
         -686888261,
         1815579165,
         -7382621,
         -392921166,
         -1640598988,
         20240316,
         "Clothing",
         218386994
        ],
        [
         15,
         1200,
         -1592160435,
         -871983438,
         -1029118937,
         -2034590472,
         -951279011,
         591137949,
         -817774136,
         20241125,
         "Furniture",
         -871983438
        ],
        [
         30,
         3000,
         -402154387,
         963552435,
         -167645305,
         2128323039,
         911933479,
         -1866580689,
         1735384348,
         20231029,
         "Groceries",
         963552435
        ],
        [
         12,
         1100,
         1869582694,
         1422188909,
         -1314911383,
         2000399776,
         -1594651443,
         1352887388,
         -1427273716,
         20200625,
         "Electronics",
         1422188909
        ],
        [
         25,
         2500,
         -96241737,
         218386994,
         -686888261,
         1815579165,
         -7382621,
         -392921166,
         -1640598988,
         20221223,
         "Clothing",
         218386994
        ],
        [
         22,
         2200,
         -1592160435,
         -871983438,
         -1029118937,
         -2034590472,
         -951279011,
         591137949,
         -817774136,
         20220121,
         "Furniture",
         -871983438
        ],
        [
         18,
         1800,
         -402154387,
         963552435,
         -167645305,
         2128323039,
         911933479,
         -1866580689,
         1735384348,
         20240427,
         "Groceries",
         963552435
        ],
        [
         10,
         1000,
         1869582694,
         1422188909,
         -1314911383,
         2000399776,
         -1594651443,
         1352887388,
         -1427273716,
         20230509,
         "Electronics",
         1422188909
        ],
        [
         20,
         1500,
         -96241737,
         218386994,
         -686888261,
         1815579165,
         -7382621,
         -392921166,
         -1640598988,
         20220708,
         "Clothing",
         218386994
        ],
        [
         15,
         1200,
         -1592160435,
         -871983438,
         -1029118937,
         -2034590472,
         -951279011,
         591137949,
         -817774136,
         20210213,
         "Furniture",
         -871983438
        ],
        [
         30,
         3000,
         -402154387,
         963552435,
         -167645305,
         2128323039,
         911933479,
         -1866580689,
         1735384348,
         20240612,
         "Groceries",
         963552435
        ],
        [
         12,
         1100,
         1869582694,
         1422188909,
         -1314911383,
         2000399776,
         -1594651443,
         1352887388,
         -1427273716,
         20230207,
         "Electronics",
         1422188909
        ],
        [
         25,
         2500,
         -96241737,
         218386994,
         -686888261,
         1815579165,
         -7382621,
         -392921166,
         -1640598988,
         20220529,
         "Clothing",
         218386994
        ],
        [
         22,
         2200,
         -1592160435,
         -871983438,
         -1029118937,
         -2034590472,
         -951279011,
         591137949,
         -817774136,
         20250131,
         "Furniture",
         -871983438
        ],
        [
         18,
         1800,
         -402154387,
         963552435,
         -167645305,
         2128323039,
         911933479,
         -1866580689,
         1735384348,
         20210702,
         "Groceries",
         963552435
        ],
        [
         10,
         1000,
         1869582694,
         1422188909,
         -1314911383,
         2000399776,
         -1594651443,
         1352887388,
         -1427273716,
         20210127,
         "Electronics",
         1422188909
        ],
        [
         20,
         1500,
         -96241737,
         218386994,
         -686888261,
         1815579165,
         -7382621,
         -392921166,
         -1640598988,
         20211109,
         "Clothing",
         218386994
        ],
        [
         15,
         1200,
         -1592160435,
         -871983438,
         -1029118937,
         -2034590472,
         -951279011,
         591137949,
         -817774136,
         20230323,
         "Furniture",
         -871983438
        ],
        [
         30,
         3000,
         -402154387,
         963552435,
         -167645305,
         2128323039,
         911933479,
         -1866580689,
         1735384348,
         20211108,
         "Groceries",
         963552435
        ],
        [
         12,
         1100,
         1869582694,
         1422188909,
         -1314911383,
         2000399776,
         -1594651443,
         1352887388,
         -1427273716,
         20211015,
         "Electronics",
         1422188909
        ],
        [
         25,
         2500,
         -96241737,
         218386994,
         -686888261,
         1815579165,
         -7382621,
         -392921166,
         -1640598988,
         20211126,
         "Clothing",
         218386994
        ]
       ],
       "datasetInfos": [],
       "dbfsResultPath": null,
       "isJsonSchema": true,
       "metadata": {},
       "overflow": false,
       "plotOptions": {
        "customPlotOptions": {},
        "displayType": "table",
        "pivotAggregation": null,
        "pivotColumns": null,
        "xColumns": null,
        "yColumns": null
       },
       "removedWidgets": [],
       "schema": [
        {
         "metadata": "{}",
         "name": "UnitsSold",
         "type": "\"integer\""
        },
        {
         "metadata": "{}",
         "name": "Revenue",
         "type": "\"integer\""
        },
        {
         "metadata": "{}",
         "name": "DIM_RegionKey",
         "type": "\"long\""
        },
        {
         "metadata": "{}",
         "name": "DIM_CategoryKey",
         "type": "\"long\""
        },
        {
         "metadata": "{}",
         "name": "DIM_SubCategoryKey",
         "type": "\"long\""
        },
        {
         "metadata": "{}",
         "name": "DIM_SalesChannelKey",
         "type": "\"long\""
        },
        {
         "metadata": "{}",
         "name": "DIM_CustomerSegmentKey",
         "type": "\"long\""
        },
        {
         "metadata": "{}",
         "name": "DIM_SalesRepKey",
         "type": "\"long\""
        },
        {
         "metadata": "{}",
         "name": "DIM_StoreTypeKey",
         "type": "\"long\""
        },
        {
         "metadata": "{}",
         "name": "SalesDateKey",
         "type": "\"long\""
        },
        {
         "metadata": "{}",
         "name": "Title",
         "type": "\"string\""
        },
        {
         "metadata": "{}",
         "name": "CategoryKey",
         "type": "\"long\""
        }
       ],
       "type": "table"
      }
     },
     "output_type": "display_data"
    }
   ],
   "source": [
    "display(df_fact3)"
   ]
  },
  {
   "cell_type": "markdown",
   "metadata": {
    "application/vnd.databricks.v1+cell": {
     "cellMetadata": {},
     "inputWidgets": {},
     "nuid": "a6d9da6f-9799-400c-a71b-153653788411",
     "showTitle": false,
     "tableResultSettingsMap": {},
     "title": ""
    }
   },
   "source": [
    "### Analytics"
   ]
  },
  {
   "cell_type": "code",
   "execution_count": 0,
   "metadata": {
    "application/vnd.databricks.v1+cell": {
     "cellMetadata": {
      "byteLimit": 2048000,
      "rowLimit": 10000
     },
     "inputWidgets": {},
     "nuid": "a3251d0f-c2b9-4e81-8184-dc5cae2ab65d",
     "showTitle": false,
     "tableResultSettingsMap": {},
     "title": ""
    }
   },
   "outputs": [
    {
     "output_type": "stream",
     "name": "stdout",
     "output_type": "stream",
     "text": [
      "dbfs:/FileStore/tables/DIM_Category/\ndbfs:/FileStore/tables/DIM_Region/\ndbfs:/FileStore/tables/DIM_SubCategory/\ndbfs:/FileStore/tables/DIM_customer_segment/\ndbfs:/FileStore/tables/DIM_date/\ndbfs:/FileStore/tables/DIM_sales_channel/\ndbfs:/FileStore/tables/DIM_sales_rep/\ndbfs:/FileStore/tables/DIM_store_type/\ndbfs:/FileStore/tables/FACT_sales/\ndbfs:/FileStore/tables/Read_CSV_Example.ipynb\ndbfs:/FileStore/tables/df_DIM_sales_rep/\ndbfs:/FileStore/tables/fact_sales-1.csv\ndbfs:/FileStore/tables/fact_sales-2.csv\ndbfs:/FileStore/tables/fact_sales.csv\ndbfs:/FileStore/tables/students.csv\n"
     ]
    }
   ],
   "source": [
    "files = dbutils.fs.ls(\"FileStore/tables\")\n",
    "for file in files:\n",
    "    print(file.path)"
   ]
  },
  {
   "cell_type": "code",
   "execution_count": 0,
   "metadata": {
    "application/vnd.databricks.v1+cell": {
     "cellMetadata": {
      "byteLimit": 2048000,
      "rowLimit": 10000
     },
     "inputWidgets": {},
     "nuid": "699d38aa-7ff9-4ac8-893a-0da9fdd10275",
     "showTitle": false,
     "tableResultSettingsMap": {},
     "title": ""
    }
   },
   "outputs": [
    {
     "output_type": "display_data",
     "data": {
      "text/html": [
       "<style scoped>\n",
       "  .table-result-container {\n",
       "    max-height: 300px;\n",
       "    overflow: auto;\n",
       "  }\n",
       "  table, th, td {\n",
       "    border: 1px solid black;\n",
       "    border-collapse: collapse;\n",
       "  }\n",
       "  th, td {\n",
       "    padding: 5px;\n",
       "  }\n",
       "  th {\n",
       "    text-align: left;\n",
       "  }\n",
       "</style><div class='table-result-container'><table class='table-result'><thead style='background-color: white'><tr><th>Name</th><th>TotalUnitSold</th><th>TotalRevenue</th></tr></thead><tbody><tr><td>Diana</td><td>174</td><td>17400</td></tr><tr><td>Charlie</td><td>126</td><td>11400</td></tr><tr><td>Bob</td><td>180</td><td>16000</td></tr><tr><td>Alice</td><td>88</td><td>8400</td></tr></tbody></table></div>"
      ]
     },
     "metadata": {
      "application/vnd.databricks.v1+output": {
       "addedWidgets": {},
       "aggData": [],
       "aggError": "",
       "aggOverflow": false,
       "aggSchema": [],
       "aggSeriesLimitReached": false,
       "aggType": "",
       "arguments": {},
       "columnCustomDisplayInfos": {},
       "data": [
        [
         "Diana",
         174,
         17400
        ],
        [
         "Charlie",
         126,
         11400
        ],
        [
         "Bob",
         180,
         16000
        ],
        [
         "Alice",
         88,
         8400
        ]
       ],
       "datasetInfos": [],
       "dbfsResultPath": null,
       "isJsonSchema": true,
       "metadata": {},
       "overflow": false,
       "plotOptions": {
        "customPlotOptions": {},
        "displayType": "table",
        "pivotAggregation": null,
        "pivotColumns": null,
        "xColumns": null,
        "yColumns": null
       },
       "removedWidgets": [],
       "schema": [
        {
         "metadata": "{}",
         "name": "Name",
         "type": "\"string\""
        },
        {
         "metadata": "{}",
         "name": "TotalUnitSold",
         "type": "\"long\""
        },
        {
         "metadata": "{}",
         "name": "TotalRevenue",
         "type": "\"long\""
        }
       ],
       "type": "table"
      }
     },
     "output_type": "display_data"
    }
   ],
   "source": [
    "# Total Sales Made By Each SalesRep\n",
    "df_sales_rep = spark.read.format(\"delta\").load(\"/FileStore/tables/DIM_sales_rep\")\n",
    "\n",
    "df_sales_by_customer = df_fact.join(df_sales_rep, df_sales_rep.SalesRepKey == df_fact.DIM_SalesRepKey, \"inner\").groupBy(\"Name\").agg(sparkSum(col(\"UnitsSold\")).alias(\"TotalUnitSold\"),sparkSum(col(\"Revenue\")).alias(\"TotalRevenue\")).select([\"Name\",\"TotalUnitSold\",\"TotalRevenue\"])\n",
    "\n",
    "display(df_sales_by_customer)\n"
   ]
  },
  {
   "cell_type": "code",
   "execution_count": 0,
   "metadata": {
    "application/vnd.databricks.v1+cell": {
     "cellMetadata": {
      "byteLimit": 2048000,
      "rowLimit": 10000
     },
     "inputWidgets": {},
     "nuid": "2328ef0d-bdd2-46a6-92c3-6ca1b6750a75",
     "showTitle": false,
     "tableResultSettingsMap": {},
     "title": ""
    }
   },
   "outputs": [
    {
     "output_type": "display_data",
     "data": {
      "text/html": [
       "<style scoped>\n",
       "  .table-result-container {\n",
       "    max-height: 300px;\n",
       "    overflow: auto;\n",
       "  }\n",
       "  table, th, td {\n",
       "    border: 1px solid black;\n",
       "    border-collapse: collapse;\n",
       "  }\n",
       "  th, td {\n",
       "    padding: 5px;\n",
       "  }\n",
       "  th {\n",
       "    text-align: left;\n",
       "  }\n",
       "</style><div class='table-result-container'><table class='table-result'><thead style='background-color: white'><tr><th>StoreType</th><th>Year</th><th>TotalUnitSold</th><th>TotalRevenue</th></tr></thead><tbody><tr><td>Urban</td><td>2021</td><td>22</td><td>2100</td></tr><tr><td>Urban</td><td>2020</td><td>12</td><td>1100</td></tr><tr><td>Rural</td><td>2024</td><td>15</td><td>1200</td></tr><tr><td>Suburban</td><td>2024</td><td>40</td><td>3000</td></tr><tr><td>Rural</td><td>2025</td><td>37</td><td>3400</td></tr><tr><td>Metro</td><td>2024</td><td>66</td><td>6600</td></tr><tr><td>Suburban</td><td>2023</td><td>25</td><td>2500</td></tr><tr><td>Urban</td><td>2025</td><td>22</td><td>2100</td></tr><tr><td>Suburban</td><td>2022</td><td>70</td><td>6500</td></tr><tr><td>Suburban</td><td>2021</td><td>45</td><td>4000</td></tr><tr><td>Metro</td><td>2021</td><td>48</td><td>4800</td></tr><tr><td>Metro</td><td>2023</td><td>60</td><td>6000</td></tr><tr><td>Rural</td><td>2021</td><td>15</td><td>1200</td></tr><tr><td>Urban</td><td>2023</td><td>32</td><td>3100</td></tr><tr><td>Rural</td><td>2022</td><td>44</td><td>4400</td></tr><tr><td>Rural</td><td>2023</td><td>15</td><td>1200</td></tr></tbody></table></div>"
      ]
     },
     "metadata": {
      "application/vnd.databricks.v1+output": {
       "addedWidgets": {},
       "aggData": [],
       "aggError": "",
       "aggOverflow": false,
       "aggSchema": [],
       "aggSeriesLimitReached": false,
       "aggType": "",
       "arguments": {},
       "columnCustomDisplayInfos": {},
       "data": [
        [
         "Urban",
         2021,
         22,
         2100
        ],
        [
         "Urban",
         2020,
         12,
         1100
        ],
        [
         "Rural",
         2024,
         15,
         1200
        ],
        [
         "Suburban",
         2024,
         40,
         3000
        ],
        [
         "Rural",
         2025,
         37,
         3400
        ],
        [
         "Metro",
         2024,
         66,
         6600
        ],
        [
         "Suburban",
         2023,
         25,
         2500
        ],
        [
         "Urban",
         2025,
         22,
         2100
        ],
        [
         "Suburban",
         2022,
         70,
         6500
        ],
        [
         "Suburban",
         2021,
         45,
         4000
        ],
        [
         "Metro",
         2021,
         48,
         4800
        ],
        [
         "Metro",
         2023,
         60,
         6000
        ],
        [
         "Rural",
         2021,
         15,
         1200
        ],
        [
         "Urban",
         2023,
         32,
         3100
        ],
        [
         "Rural",
         2022,
         44,
         4400
        ],
        [
         "Rural",
         2023,
         15,
         1200
        ]
       ],
       "datasetInfos": [],
       "dbfsResultPath": null,
       "isJsonSchema": true,
       "metadata": {},
       "overflow": false,
       "plotOptions": {
        "customPlotOptions": {},
        "displayType": "table",
        "pivotAggregation": null,
        "pivotColumns": null,
        "xColumns": null,
        "yColumns": null
       },
       "removedWidgets": [],
       "schema": [
        {
         "metadata": "{}",
         "name": "StoreType",
         "type": "\"string\""
        },
        {
         "metadata": "{}",
         "name": "Year",
         "type": "\"integer\""
        },
        {
         "metadata": "{}",
         "name": "TotalUnitSold",
         "type": "\"long\""
        },
        {
         "metadata": "{}",
         "name": "TotalRevenue",
         "type": "\"long\""
        }
       ],
       "type": "table"
      }
     },
     "output_type": "display_data"
    }
   ],
   "source": [
    "# Total Sales By Store Type in each year\n",
    "df_store_type = spark.read.format(\"delta\").load(\"/FileStore/tables/DIM_store_type\")\n",
    "df_date = spark.read.format(\"delta\").load(\"/FileStore/tables/DIM_date\")\n",
    "\n",
    "df_sales_by_store_type = df_fact.join(df_store_type, df_store_type.StoreTypeKey == df_fact.DIM_StoreTypeKey, \"inner\") \\\n",
    "    .join(df_date, df_date.DateKey == df_fact.SalesDateKey, \"inner\") \\\n",
    "    .groupBy(\"Name\",\"Year\") \\\n",
    "    .agg(sparkSum(col(\"UnitsSold\")).alias(\"TotalUnitSold\"), sparkSum(col(\"Revenue\")).alias(\"TotalRevenue\")) \\\n",
    "    .select([col(\"Name\").alias(\"StoreType\"),\"Year\",\"TotalUnitSold\",\"TotalRevenue\"])\n",
    "\n",
    "display(df_sales_by_store_type)\n"
   ]
  },
  {
   "cell_type": "code",
   "execution_count": 0,
   "metadata": {
    "application/vnd.databricks.v1+cell": {
     "cellMetadata": {
      "byteLimit": 2048000,
      "rowLimit": 10000
     },
     "inputWidgets": {},
     "nuid": "69df037f-86fd-4343-b511-49d0f76819e1",
     "showTitle": false,
     "tableResultSettingsMap": {},
     "title": ""
    }
   },
   "outputs": [
    {
     "output_type": "display_data",
     "data": {
      "text/html": [
       "<style scoped>\n",
       "  .table-result-container {\n",
       "    max-height: 300px;\n",
       "    overflow: auto;\n",
       "  }\n",
       "  table, th, td {\n",
       "    border: 1px solid black;\n",
       "    border-collapse: collapse;\n",
       "  }\n",
       "  th, td {\n",
       "    padding: 5px;\n",
       "  }\n",
       "  th {\n",
       "    text-align: left;\n",
       "  }\n",
       "</style><div class='table-result-container'><table class='table-result'><thead style='background-color: white'><tr><th>StoreType</th><th>SubCategory</th><th>TotalUnitSold</th><th>TotalRevenue</th></tr></thead><tbody><tr><td>Online</td><td>Mobile</td><td>88</td><td>8400</td></tr><tr><td>Wholesale</td><td>Vegetables</td><td>174</td><td>17400</td></tr></tbody></table></div>"
      ]
     },
     "metadata": {
      "application/vnd.databricks.v1+output": {
       "addedWidgets": {},
       "aggData": [],
       "aggError": "",
       "aggOverflow": false,
       "aggSchema": [],
       "aggSeriesLimitReached": false,
       "aggType": "",
       "arguments": {},
       "columnCustomDisplayInfos": {},
       "data": [
        [
         "Online",
         "Mobile",
         88,
         8400
        ],
        [
         "Wholesale",
         "Vegetables",
         174,
         17400
        ]
       ],
       "datasetInfos": [],
       "dbfsResultPath": null,
       "isJsonSchema": true,
       "metadata": {},
       "overflow": false,
       "plotOptions": {
        "customPlotOptions": {},
        "displayType": "table",
        "pivotAggregation": null,
        "pivotColumns": null,
        "xColumns": null,
        "yColumns": null
       },
       "removedWidgets": [],
       "schema": [
        {
         "metadata": "{}",
         "name": "StoreType",
         "type": "\"string\""
        },
        {
         "metadata": "{}",
         "name": "SubCategory",
         "type": "\"string\""
        },
        {
         "metadata": "{}",
         "name": "TotalUnitSold",
         "type": "\"long\""
        },
        {
         "metadata": "{}",
         "name": "TotalRevenue",
         "type": "\"long\""
        }
       ],
       "type": "table"
      }
     },
     "output_type": "display_data"
    }
   ],
   "source": [
    "# Sales by saleschannel where product subcategory is Mobile or vegetable\n",
    "\n",
    "df_saleschannel = spark.read.format(\"delta\").load(\"/FileStore/tables/DIM_sales_channel\")\n",
    "df_subcategory = spark.read.format(\"delta\").load(\"/FileStore/tables/DIM_SubCategory\")\n",
    "\n",
    "df_sales_by_saleschannel_subcat_mobile = df_fact.join(df_saleschannel.alias(\"storeType\"), df_saleschannel.SalesChannelKey == df_fact.DIM_SalesChannelKey, \"inner\") \\\n",
    "    .join(df_subcategory.alias(\"subCategory\"), df_subcategory.SubCategoryKey == df_fact.DIM_SubCategoryKey, \"inner\") \\\n",
    "    .groupBy(col(\"storeType.Name\"),col(\"subCategory.Title\")) \\\n",
    "    .agg(sparkSum(col(\"UnitsSold\")).alias(\"TotalUnitSold\"), sparkSum(col(\"Revenue\")).alias(\"TotalRevenue\")) \\\n",
    "    .filter((col(\"subCategory.Title\") == \"Mobile\") | (col(\"subCategory.Title\") == \"Vegetables\")) \\\n",
    "    .select([col(\"storeType.Name\").alias(\"StoreType\"),col(\"subCategory.Title\").alias(\"SubCategory\"),\"TotalUnitSold\",\"TotalRevenue\"])\n",
    "\n",
    "display(df_sales_by_saleschannel_subcat_mobile)"
   ]
  }
 ],
 "metadata": {
  "application/vnd.databricks.v1+notebook": {
   "computePreferences": null,
   "dashboards": [],
   "environmentMetadata": {
    "base_environment": "",
    "environment_version": "1"
   },
   "inputWidgetPreferences": null,
   "language": "python",
   "notebookMetadata": {
    "pythonIndentUnit": 4
   },
   "notebookName": "Day2Assignment_analytics",
   "widgets": {}
  }
 },
 "nbformat": 4,
 "nbformat_minor": 0
}