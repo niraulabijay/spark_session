{
 "cells": [
  {
   "cell_type": "code",
   "execution_count": 0,
   "metadata": {
    "application/vnd.databricks.v1+cell": {
     "cellMetadata": {
      "byteLimit": 2048000,
      "rowLimit": 10000
     },
     "inputWidgets": {},
     "nuid": "3c6e3cb4-e944-42ef-98cf-065b5993de74",
     "showTitle": false,
     "tableResultSettingsMap": {},
     "title": ""
    }
   },
   "outputs": [],
   "source": [
    "from pyspark.sql import SparkSession\n",
    "from pyspark.sql.functions import (col, hash as hashFcn, upper, year, min as minValue, max as maxValue, date_format, year, month, quarter, when, regexp_replace) \n",
    "from pyspark.sql.types import (StructType, StructField, StringType, IntegerType, LongType, DoubleType, DateType)\n",
    "from datetime import datetime, timedelta"
   ]
  },
  {
   "cell_type": "code",
   "execution_count": 0,
   "metadata": {
    "application/vnd.databricks.v1+cell": {
     "cellMetadata": {
      "byteLimit": 2048000,
      "rowLimit": 10000
     },
     "inputWidgets": {},
     "nuid": "bd8568a6-0a50-49b8-badb-6160702a93ed",
     "showTitle": false,
     "tableResultSettingsMap": {},
     "title": ""
    }
   },
   "outputs": [],
   "source": [
    "spark = SparkSession.builder.appName(\"Day2\").getOrCreate()"
   ]
  },
  {
   "cell_type": "code",
   "execution_count": 0,
   "metadata": {
    "application/vnd.databricks.v1+cell": {
     "cellMetadata": {
      "byteLimit": 2048000,
      "rowLimit": 10000
     },
     "inputWidgets": {},
     "nuid": "24aa57fe-3a53-416c-8ad5-ea8aec960456",
     "showTitle": false,
     "tableResultSettingsMap": {},
     "title": ""
    }
   },
   "outputs": [],
   "source": [
    "df_sales = spark.read.option(\"header\", True).option(\"inferSchema\", True).csv(\"/FileStore/tables/fact_sales-2.csv\")"
   ]
  },
  {
   "cell_type": "code",
   "execution_count": 0,
   "metadata": {
    "application/vnd.databricks.v1+cell": {
     "cellMetadata": {
      "byteLimit": 2048000,
      "rowLimit": 10000
     },
     "collapsed": true,
     "inputWidgets": {},
     "nuid": "30e1be37-b83b-45f7-b6a7-8ab2003121c4",
     "showTitle": false,
     "tableResultSettingsMap": {},
     "title": ""
    }
   },
   "outputs": [
    {
     "output_type": "display_data",
     "data": {
      "text/html": [
       "<style scoped>\n",
       "  .table-result-container {\n",
       "    max-height: 300px;\n",
       "    overflow: auto;\n",
       "  }\n",
       "  table, th, td {\n",
       "    border: 1px solid black;\n",
       "    border-collapse: collapse;\n",
       "  }\n",
       "  th, td {\n",
       "    padding: 5px;\n",
       "  }\n",
       "  th {\n",
       "    text-align: left;\n",
       "  }\n",
       "</style><div class='table-result-container'><table class='table-result'><thead style='background-color: white'><tr><th>Region</th><th>ProductCategory</th><th>ProductSubCategory</th><th>SalesChannel</th><th>CustomerSegment</th><th>SalesRep</th><th>StoreType</th><th>SalesDate</th><th>UnitsSold</th><th>Revenue</th></tr></thead><tbody><tr><td>North</td><td>Electronics</td><td>Mobile</td><td>Online</td><td>Consumer</td><td>Alice</td><td>Urban</td><td>2023-07-21</td><td>10</td><td>1000</td></tr><tr><td>South</td><td>Clothing</td><td>Shirt</td><td>Offline</td><td>Corporate</td><td>Bob</td><td>Suburban</td><td>2024-01-28</td><td>20</td><td>1500</td></tr><tr><td>East</td><td>Furniture</td><td>Table</td><td>Retail</td><td>Home Office</td><td>Charlie</td><td>Rural</td><td>2025-02-22</td><td>15</td><td>1200</td></tr><tr><td>West</td><td>Groceries</td><td>Vegetables</td><td>Wholesale</td><td>Small Business</td><td>Diana</td><td>Metro</td><td>2023-01-24</td><td>30</td><td>3000</td></tr><tr><td>North</td><td>Electronics</td><td>Mobile</td><td>Online</td><td>Consumer</td><td>Alice</td><td>Urban</td><td>2025-01-31</td><td>12</td><td>1100</td></tr><tr><td>South</td><td>Clothing</td><td>Shirt</td><td>Offline</td><td>Corporate</td><td>Bob</td><td>Suburban</td><td>2023-06-27</td><td>25</td><td>2500</td></tr><tr><td>East</td><td>Furniture</td><td>Table</td><td>Retail</td><td>Home Office</td><td>Charlie</td><td>Rural</td><td>2022-06-02</td><td>22</td><td>2200</td></tr><tr><td>West</td><td>Groceries</td><td>Vegetables</td><td>Wholesale</td><td>Small Business</td><td>Diana</td><td>Metro</td><td>2024-12-29</td><td>18</td><td>1800</td></tr><tr><td>North</td><td>Electronics</td><td>Mobile</td><td>Online</td><td>Consumer</td><td>Alice</td><td>Urban</td><td>2025-06-04</td><td>10</td><td>1000</td></tr><tr><td>South</td><td>Clothing</td><td>Shirt</td><td>Offline</td><td>Corporate</td><td>Bob</td><td>Suburban</td><td>2024-03-16</td><td>20</td><td>1500</td></tr><tr><td>East</td><td>Furniture</td><td>Table</td><td>Retail</td><td>Home Office</td><td>Charlie</td><td>Rural</td><td>2024-11-25</td><td>15</td><td>1200</td></tr><tr><td>West</td><td>Groceries</td><td>Vegetables</td><td>Wholesale</td><td>Small Business</td><td>Diana</td><td>Metro</td><td>2023-10-29</td><td>30</td><td>3000</td></tr><tr><td>North</td><td>Electronics</td><td>Mobile</td><td>Online</td><td>Consumer</td><td>Alice</td><td>Urban</td><td>2020-06-25</td><td>12</td><td>1100</td></tr><tr><td>South</td><td>Clothing</td><td>Shirt</td><td>Offline</td><td>Corporate</td><td>Bob</td><td>Suburban</td><td>2022-12-23</td><td>25</td><td>2500</td></tr><tr><td>East</td><td>Furniture</td><td>Table</td><td>Retail</td><td>Home Office</td><td>Charlie</td><td>Rural</td><td>2022-01-21</td><td>22</td><td>2200</td></tr><tr><td>West</td><td>Groceries</td><td>Vegetables</td><td>Wholesale</td><td>Small Business</td><td>Diana</td><td>Metro</td><td>2024-04-27</td><td>18</td><td>1800</td></tr><tr><td>North</td><td>Electronics</td><td>Mobile</td><td>Online</td><td>Consumer</td><td>Alice</td><td>Urban</td><td>2023-05-09</td><td>10</td><td>1000</td></tr><tr><td>South</td><td>Clothing</td><td>Shirt</td><td>Offline</td><td>Corporate</td><td>Bob</td><td>Suburban</td><td>2022-07-08</td><td>20</td><td>1500</td></tr><tr><td>East</td><td>Furniture</td><td>Table</td><td>Retail</td><td>Home Office</td><td>Charlie</td><td>Rural</td><td>2021-02-13</td><td>15</td><td>1200</td></tr><tr><td>West</td><td>Groceries</td><td>Vegetables</td><td>Wholesale</td><td>Small Business</td><td>Diana</td><td>Metro</td><td>2024-06-12</td><td>30</td><td>3000</td></tr><tr><td>North</td><td>Electronics</td><td>Mobile</td><td>Online</td><td>Consumer</td><td>Alice</td><td>Urban</td><td>2023-02-07</td><td>12</td><td>1100</td></tr><tr><td>South</td><td>Clothing</td><td>Shirt</td><td>Offline</td><td>Corporate</td><td>Bob</td><td>Suburban</td><td>2022-05-29</td><td>25</td><td>2500</td></tr><tr><td>East</td><td>Furniture</td><td>Table</td><td>Retail</td><td>Home Office</td><td>Charlie</td><td>Rural</td><td>2025-01-31</td><td>22</td><td>2200</td></tr><tr><td>West</td><td>Groceries</td><td>Vegetables</td><td>Wholesale</td><td>Small Business</td><td>Diana</td><td>Metro</td><td>2021-07-02</td><td>18</td><td>1800</td></tr><tr><td>North</td><td>Electronics</td><td>Mobile</td><td>Online</td><td>Consumer</td><td>Alice</td><td>Urban</td><td>2021-01-27</td><td>10</td><td>1000</td></tr><tr><td>South</td><td>Clothing</td><td>Shirt</td><td>Offline</td><td>Corporate</td><td>Bob</td><td>Suburban</td><td>2021-11-09</td><td>20</td><td>1500</td></tr><tr><td>East</td><td>Furniture</td><td>Table</td><td>Retail</td><td>Home Office</td><td>Charlie</td><td>Rural</td><td>2023-03-23</td><td>15</td><td>1200</td></tr><tr><td>West</td><td>Groceries</td><td>Vegetables</td><td>Wholesale</td><td>Small Business</td><td>Diana</td><td>Metro</td><td>2021-11-08</td><td>30</td><td>3000</td></tr><tr><td>North</td><td>Electronics</td><td>Mobile</td><td>Online</td><td>Consumer</td><td>Alice</td><td>Urban</td><td>2021-10-15</td><td>12</td><td>1100</td></tr><tr><td>South</td><td>Clothing</td><td>Shirt</td><td>Offline</td><td>Corporate</td><td>Bob</td><td>Suburban</td><td>2021-11-26</td><td>25</td><td>2500</td></tr></tbody></table></div>"
      ]
     },
     "metadata": {
      "application/vnd.databricks.v1+output": {
       "addedWidgets": {},
       "aggData": [],
       "aggError": "",
       "aggOverflow": false,
       "aggSchema": [],
       "aggSeriesLimitReached": false,
       "aggType": "",
       "arguments": {},
       "columnCustomDisplayInfos": {},
       "data": [
        [
         "North",
         "Electronics",
         "Mobile",
         "Online",
         "Consumer",
         "Alice",
         "Urban",
         "2023-07-21",
         10,
         1000
        ],
        [
         "South",
         "Clothing",
         "Shirt",
         "Offline",
         "Corporate",
         "Bob",
         "Suburban",
         "2024-01-28",
         20,
         1500
        ],
        [
         "East",
         "Furniture",
         "Table",
         "Retail",
         "Home Office",
         "Charlie",
         "Rural",
         "2025-02-22",
         15,
         1200
        ],
        [
         "West",
         "Groceries",
         "Vegetables",
         "Wholesale",
         "Small Business",
         "Diana",
         "Metro",
         "2023-01-24",
         30,
         3000
        ],
        [
         "North",
         "Electronics",
         "Mobile",
         "Online",
         "Consumer",
         "Alice",
         "Urban",
         "2025-01-31",
         12,
         1100
        ],
        [
         "South",
         "Clothing",
         "Shirt",
         "Offline",
         "Corporate",
         "Bob",
         "Suburban",
         "2023-06-27",
         25,
         2500
        ],
        [
         "East",
         "Furniture",
         "Table",
         "Retail",
         "Home Office",
         "Charlie",
         "Rural",
         "2022-06-02",
         22,
         2200
        ],
        [
         "West",
         "Groceries",
         "Vegetables",
         "Wholesale",
         "Small Business",
         "Diana",
         "Metro",
         "2024-12-29",
         18,
         1800
        ],
        [
         "North",
         "Electronics",
         "Mobile",
         "Online",
         "Consumer",
         "Alice",
         "Urban",
         "2025-06-04",
         10,
         1000
        ],
        [
         "South",
         "Clothing",
         "Shirt",
         "Offline",
         "Corporate",
         "Bob",
         "Suburban",
         "2024-03-16",
         20,
         1500
        ],
        [
         "East",
         "Furniture",
         "Table",
         "Retail",
         "Home Office",
         "Charlie",
         "Rural",
         "2024-11-25",
         15,
         1200
        ],
        [
         "West",
         "Groceries",
         "Vegetables",
         "Wholesale",
         "Small Business",
         "Diana",
         "Metro",
         "2023-10-29",
         30,
         3000
        ],
        [
         "North",
         "Electronics",
         "Mobile",
         "Online",
         "Consumer",
         "Alice",
         "Urban",
         "2020-06-25",
         12,
         1100
        ],
        [
         "South",
         "Clothing",
         "Shirt",
         "Offline",
         "Corporate",
         "Bob",
         "Suburban",
         "2022-12-23",
         25,
         2500
        ],
        [
         "East",
         "Furniture",
         "Table",
         "Retail",
         "Home Office",
         "Charlie",
         "Rural",
         "2022-01-21",
         22,
         2200
        ],
        [
         "West",
         "Groceries",
         "Vegetables",
         "Wholesale",
         "Small Business",
         "Diana",
         "Metro",
         "2024-04-27",
         18,
         1800
        ],
        [
         "North",
         "Electronics",
         "Mobile",
         "Online",
         "Consumer",
         "Alice",
         "Urban",
         "2023-05-09",
         10,
         1000
        ],
        [
         "South",
         "Clothing",
         "Shirt",
         "Offline",
         "Corporate",
         "Bob",
         "Suburban",
         "2022-07-08",
         20,
         1500
        ],
        [
         "East",
         "Furniture",
         "Table",
         "Retail",
         "Home Office",
         "Charlie",
         "Rural",
         "2021-02-13",
         15,
         1200
        ],
        [
         "West",
         "Groceries",
         "Vegetables",
         "Wholesale",
         "Small Business",
         "Diana",
         "Metro",
         "2024-06-12",
         30,
         3000
        ],
        [
         "North",
         "Electronics",
         "Mobile",
         "Online",
         "Consumer",
         "Alice",
         "Urban",
         "2023-02-07",
         12,
         1100
        ],
        [
         "South",
         "Clothing",
         "Shirt",
         "Offline",
         "Corporate",
         "Bob",
         "Suburban",
         "2022-05-29",
         25,
         2500
        ],
        [
         "East",
         "Furniture",
         "Table",
         "Retail",
         "Home Office",
         "Charlie",
         "Rural",
         "2025-01-31",
         22,
         2200
        ],
        [
         "West",
         "Groceries",
         "Vegetables",
         "Wholesale",
         "Small Business",
         "Diana",
         "Metro",
         "2021-07-02",
         18,
         1800
        ],
        [
         "North",
         "Electronics",
         "Mobile",
         "Online",
         "Consumer",
         "Alice",
         "Urban",
         "2021-01-27",
         10,
         1000
        ],
        [
         "South",
         "Clothing",
         "Shirt",
         "Offline",
         "Corporate",
         "Bob",
         "Suburban",
         "2021-11-09",
         20,
         1500
        ],
        [
         "East",
         "Furniture",
         "Table",
         "Retail",
         "Home Office",
         "Charlie",
         "Rural",
         "2023-03-23",
         15,
         1200
        ],
        [
         "West",
         "Groceries",
         "Vegetables",
         "Wholesale",
         "Small Business",
         "Diana",
         "Metro",
         "2021-11-08",
         30,
         3000
        ],
        [
         "North",
         "Electronics",
         "Mobile",
         "Online",
         "Consumer",
         "Alice",
         "Urban",
         "2021-10-15",
         12,
         1100
        ],
        [
         "South",
         "Clothing",
         "Shirt",
         "Offline",
         "Corporate",
         "Bob",
         "Suburban",
         "2021-11-26",
         25,
         2500
        ]
       ],
       "datasetInfos": [],
       "dbfsResultPath": null,
       "isJsonSchema": true,
       "metadata": {},
       "overflow": false,
       "plotOptions": {
        "customPlotOptions": {},
        "displayType": "table",
        "pivotAggregation": null,
        "pivotColumns": null,
        "xColumns": null,
        "yColumns": null
       },
       "removedWidgets": [],
       "schema": [
        {
         "metadata": "{}",
         "name": "Region",
         "type": "\"string\""
        },
        {
         "metadata": "{}",
         "name": "ProductCategory",
         "type": "\"string\""
        },
        {
         "metadata": "{}",
         "name": "ProductSubCategory",
         "type": "\"string\""
        },
        {
         "metadata": "{}",
         "name": "SalesChannel",
         "type": "\"string\""
        },
        {
         "metadata": "{}",
         "name": "CustomerSegment",
         "type": "\"string\""
        },
        {
         "metadata": "{}",
         "name": "SalesRep",
         "type": "\"string\""
        },
        {
         "metadata": "{}",
         "name": "StoreType",
         "type": "\"string\""
        },
        {
         "metadata": "{\"__detected_date_formats\":\"M/d/yyyy\"}",
         "name": "SalesDate",
         "type": "\"date\""
        },
        {
         "metadata": "{}",
         "name": "UnitsSold",
         "type": "\"integer\""
        },
        {
         "metadata": "{}",
         "name": "Revenue",
         "type": "\"integer\""
        }
       ],
       "type": "table"
      }
     },
     "output_type": "display_data"
    }
   ],
   "source": [
    "display(df_sales)"
   ]
  },
  {
   "cell_type": "markdown",
   "metadata": {
    "application/vnd.databricks.v1+cell": {
     "cellMetadata": {},
     "inputWidgets": {},
     "nuid": "8131ff4c-3329-4530-aaec-028f7a5ae9ae",
     "showTitle": false,
     "tableResultSettingsMap": {},
     "title": ""
    }
   },
   "source": [
    "##### Create Dimension Region "
   ]
  },
  {
   "cell_type": "code",
   "execution_count": 0,
   "metadata": {
    "application/vnd.databricks.v1+cell": {
     "cellMetadata": {
      "byteLimit": 2048000,
      "rowLimit": 10000
     },
     "inputWidgets": {},
     "nuid": "9d952bbb-2d5e-4a42-80c1-3652a33c9fbd",
     "showTitle": false,
     "tableResultSettingsMap": {},
     "title": ""
    }
   },
   "outputs": [],
   "source": [
    "df_region = df_sales.select([\n",
    "    col(\"Region\")\n",
    "]).distinct()"
   ]
  },
  {
   "cell_type": "code",
   "execution_count": 0,
   "metadata": {
    "application/vnd.databricks.v1+cell": {
     "cellMetadata": {
      "byteLimit": 2048000,
      "rowLimit": 10000
     },
     "inputWidgets": {},
     "nuid": "4631b397-fcbe-4197-be0e-f448798d610c",
     "showTitle": false,
     "tableResultSettingsMap": {},
     "title": ""
    }
   },
   "outputs": [
    {
     "output_type": "display_data",
     "data": {
      "text/html": [
       "<style scoped>\n",
       "  .table-result-container {\n",
       "    max-height: 300px;\n",
       "    overflow: auto;\n",
       "  }\n",
       "  table, th, td {\n",
       "    border: 1px solid black;\n",
       "    border-collapse: collapse;\n",
       "  }\n",
       "  th, td {\n",
       "    padding: 5px;\n",
       "  }\n",
       "  th {\n",
       "    text-align: left;\n",
       "  }\n",
       "</style><div class='table-result-container'><table class='table-result'><thead style='background-color: white'><tr><th>Region</th></tr></thead><tbody><tr><td>South</td></tr><tr><td>East</td></tr><tr><td>West</td></tr><tr><td>North</td></tr></tbody></table></div>"
      ]
     },
     "metadata": {
      "application/vnd.databricks.v1+output": {
       "addedWidgets": {},
       "aggData": [],
       "aggError": "",
       "aggOverflow": false,
       "aggSchema": [],
       "aggSeriesLimitReached": false,
       "aggType": "",
       "arguments": {},
       "columnCustomDisplayInfos": {},
       "data": [
        [
         "South"
        ],
        [
         "East"
        ],
        [
         "West"
        ],
        [
         "North"
        ]
       ],
       "datasetInfos": [],
       "dbfsResultPath": null,
       "isJsonSchema": true,
       "metadata": {},
       "overflow": false,
       "plotOptions": {
        "customPlotOptions": {},
        "displayType": "table",
        "pivotAggregation": null,
        "pivotColumns": null,
        "xColumns": null,
        "yColumns": null
       },
       "removedWidgets": [],
       "schema": [
        {
         "metadata": "{}",
         "name": "Region",
         "type": "\"string\""
        }
       ],
       "type": "table"
      }
     },
     "output_type": "display_data"
    }
   ],
   "source": [
    "display(df_region)"
   ]
  },
  {
   "cell_type": "code",
   "execution_count": 0,
   "metadata": {
    "application/vnd.databricks.v1+cell": {
     "cellMetadata": {
      "byteLimit": 2048000,
      "rowLimit": 10000
     },
     "inputWidgets": {},
     "nuid": "a61239c2-63d3-4255-947c-26380937e48b",
     "showTitle": false,
     "tableResultSettingsMap": {},
     "title": ""
    }
   },
   "outputs": [],
   "source": [
    "df_regionAll = df_region.withColumn(\"RegionKey\",hashFcn(upper(col(\"Region\"))).cast(\"bigint\"))"
   ]
  },
  {
   "cell_type": "code",
   "execution_count": 0,
   "metadata": {
    "application/vnd.databricks.v1+cell": {
     "cellMetadata": {
      "byteLimit": 2048000,
      "rowLimit": 10000
     },
     "inputWidgets": {},
     "nuid": "9365c873-4a81-4795-9b78-0a454ce9eb86",
     "showTitle": false,
     "tableResultSettingsMap": {},
     "title": ""
    }
   },
   "outputs": [],
   "source": [
    "# add default N/A row for unknown/null values\n",
    "df_na_region = spark.createDataFrame([\n",
    "    (\"N/A\", -1)\n",
    "],[\"Region\",\"RegionKey\"])\n",
    "df_DIM_region = df_regionAll.unionAll(df_na_region)"
   ]
  },
  {
   "cell_type": "code",
   "execution_count": 0,
   "metadata": {
    "application/vnd.databricks.v1+cell": {
     "cellMetadata": {
      "byteLimit": 2048000,
      "rowLimit": 10000
     },
     "inputWidgets": {},
     "nuid": "acdc164e-102f-4fb2-b48c-d2fefccb73b2",
     "showTitle": false,
     "tableResultSettingsMap": {},
     "title": ""
    }
   },
   "outputs": [],
   "source": [
    "# save region dim as delta table\n",
    "df_DIM_region.write.format(\"delta\").mode(\"overwrite\").save(\"/FileStore/tables/DIM_Region\")"
   ]
  },
  {
   "cell_type": "code",
   "execution_count": 0,
   "metadata": {
    "application/vnd.databricks.v1+cell": {
     "cellMetadata": {
      "byteLimit": 2048000,
      "rowLimit": 10000
     },
     "inputWidgets": {},
     "nuid": "79e68141-db82-4751-abda-0852dbe61e40",
     "showTitle": false,
     "tableResultSettingsMap": {},
     "title": ""
    }
   },
   "outputs": [],
   "source": [
    "# read data from delta to see if it works\n",
    "delta_dim_region = spark.read.format(\"delta\").load(\"/FileStore/tables/DIM_Region\")"
   ]
  },
  {
   "cell_type": "code",
   "execution_count": 0,
   "metadata": {
    "application/vnd.databricks.v1+cell": {
     "cellMetadata": {
      "byteLimit": 2048000,
      "rowLimit": 10000
     },
     "collapsed": true,
     "inputWidgets": {},
     "nuid": "68162423-609e-40e1-9b3c-10af36b381a0",
     "showTitle": false,
     "tableResultSettingsMap": {},
     "title": ""
    }
   },
   "outputs": [
    {
     "output_type": "display_data",
     "data": {
      "text/html": [
       "<style scoped>\n",
       "  .table-result-container {\n",
       "    max-height: 300px;\n",
       "    overflow: auto;\n",
       "  }\n",
       "  table, th, td {\n",
       "    border: 1px solid black;\n",
       "    border-collapse: collapse;\n",
       "  }\n",
       "  th, td {\n",
       "    padding: 5px;\n",
       "  }\n",
       "  th {\n",
       "    text-align: left;\n",
       "  }\n",
       "</style><div class='table-result-container'><table class='table-result'><thead style='background-color: white'><tr><th>Region</th><th>RegionKey</th></tr></thead><tbody><tr><td>South</td><td>-96241737</td></tr><tr><td>East</td><td>-1592160435</td></tr><tr><td>West</td><td>-402154387</td></tr><tr><td>North</td><td>1869582694</td></tr><tr><td>N/A</td><td>-1</td></tr></tbody></table></div>"
      ]
     },
     "metadata": {
      "application/vnd.databricks.v1+output": {
       "addedWidgets": {},
       "aggData": [],
       "aggError": "",
       "aggOverflow": false,
       "aggSchema": [],
       "aggSeriesLimitReached": false,
       "aggType": "",
       "arguments": {},
       "columnCustomDisplayInfos": {},
       "data": [
        [
         "South",
         -96241737
        ],
        [
         "East",
         -1592160435
        ],
        [
         "West",
         -402154387
        ],
        [
         "North",
         1869582694
        ],
        [
         "N/A",
         -1
        ]
       ],
       "datasetInfos": [],
       "dbfsResultPath": null,
       "isJsonSchema": true,
       "metadata": {},
       "overflow": false,
       "plotOptions": {
        "customPlotOptions": {},
        "displayType": "table",
        "pivotAggregation": null,
        "pivotColumns": null,
        "xColumns": null,
        "yColumns": null
       },
       "removedWidgets": [],
       "schema": [
        {
         "metadata": "{}",
         "name": "Region",
         "type": "\"string\""
        },
        {
         "metadata": "{}",
         "name": "RegionKey",
         "type": "\"long\""
        }
       ],
       "type": "table"
      }
     },
     "output_type": "display_data"
    }
   ],
   "source": [
    "display(delta_dim_region)"
   ]
  },
  {
   "cell_type": "markdown",
   "metadata": {
    "application/vnd.databricks.v1+cell": {
     "cellMetadata": {},
     "inputWidgets": {},
     "nuid": "843ea1fd-308e-44c8-b462-19e370faae5a",
     "showTitle": false,
     "tableResultSettingsMap": {},
     "title": ""
    }
   },
   "source": [
    "##### Create Dimension ProductCategory"
   ]
  },
  {
   "cell_type": "code",
   "execution_count": 0,
   "metadata": {
    "application/vnd.databricks.v1+cell": {
     "cellMetadata": {
      "byteLimit": 2048000,
      "rowLimit": 10000
     },
     "inputWidgets": {},
     "nuid": "522b7086-d5f7-409c-80f6-fa198f688936",
     "showTitle": false,
     "tableResultSettingsMap": {},
     "title": ""
    }
   },
   "outputs": [],
   "source": [
    "df_category = df_sales.select([\n",
    "    col(\"ProductCategory\").alias(\"Title\")\n",
    "]).distinct()"
   ]
  },
  {
   "cell_type": "code",
   "execution_count": 0,
   "metadata": {
    "application/vnd.databricks.v1+cell": {
     "cellMetadata": {
      "byteLimit": 2048000,
      "rowLimit": 10000
     },
     "inputWidgets": {},
     "nuid": "97f99ed9-7d70-4e18-a7ae-00765c47c454",
     "showTitle": false,
     "tableResultSettingsMap": {},
     "title": ""
    }
   },
   "outputs": [],
   "source": [
    "df_category2 = df_category.withColumn(\"CategoryKey\", hashFcn(upper(col(\"Title\"))).cast(\"bigint\"))"
   ]
  },
  {
   "cell_type": "code",
   "execution_count": 0,
   "metadata": {
    "application/vnd.databricks.v1+cell": {
     "cellMetadata": {
      "byteLimit": 2048000,
      "rowLimit": 10000
     },
     "inputWidgets": {},
     "nuid": "6b957be9-9389-4d13-83b3-67a72e869eea",
     "showTitle": false,
     "tableResultSettingsMap": {},
     "title": ""
    }
   },
   "outputs": [],
   "source": [
    "#handle n/a\n",
    "df_cat_na = spark.createDataFrame([\n",
    "    (\"N/A\",-1)\n",
    "],[\"Title\",\"CategoryKey\"])\n",
    "df_DIM_category = df_category2.unionAll(df_cat_na)"
   ]
  },
  {
   "cell_type": "code",
   "execution_count": 0,
   "metadata": {
    "application/vnd.databricks.v1+cell": {
     "cellMetadata": {
      "byteLimit": 2048000,
      "rowLimit": 10000
     },
     "inputWidgets": {},
     "nuid": "a8d8a571-897a-4ebe-9b0f-14ff3a192253",
     "showTitle": false,
     "tableResultSettingsMap": {},
     "title": ""
    }
   },
   "outputs": [
    {
     "output_type": "display_data",
     "data": {
      "text/html": [
       "<style scoped>\n",
       "  .table-result-container {\n",
       "    max-height: 300px;\n",
       "    overflow: auto;\n",
       "  }\n",
       "  table, th, td {\n",
       "    border: 1px solid black;\n",
       "    border-collapse: collapse;\n",
       "  }\n",
       "  th, td {\n",
       "    padding: 5px;\n",
       "  }\n",
       "  th {\n",
       "    text-align: left;\n",
       "  }\n",
       "</style><div class='table-result-container'><table class='table-result'><thead style='background-color: white'><tr><th>Title</th><th>CategoryKey</th></tr></thead><tbody><tr><td>Groceries</td><td>963552435</td></tr><tr><td>Electronics</td><td>1422188909</td></tr><tr><td>Clothing</td><td>218386994</td></tr><tr><td>Furniture</td><td>-871983438</td></tr><tr><td>N/A</td><td>-1</td></tr></tbody></table></div>"
      ]
     },
     "metadata": {
      "application/vnd.databricks.v1+output": {
       "addedWidgets": {},
       "aggData": [],
       "aggError": "",
       "aggOverflow": false,
       "aggSchema": [],
       "aggSeriesLimitReached": false,
       "aggType": "",
       "arguments": {},
       "columnCustomDisplayInfos": {},
       "data": [
        [
         "Groceries",
         963552435
        ],
        [
         "Electronics",
         1422188909
        ],
        [
         "Clothing",
         218386994
        ],
        [
         "Furniture",
         -871983438
        ],
        [
         "N/A",
         -1
        ]
       ],
       "datasetInfos": [],
       "dbfsResultPath": null,
       "isJsonSchema": true,
       "metadata": {},
       "overflow": false,
       "plotOptions": {
        "customPlotOptions": {},
        "displayType": "table",
        "pivotAggregation": null,
        "pivotColumns": null,
        "xColumns": null,
        "yColumns": null
       },
       "removedWidgets": [],
       "schema": [
        {
         "metadata": "{}",
         "name": "Title",
         "type": "\"string\""
        },
        {
         "metadata": "{}",
         "name": "CategoryKey",
         "type": "\"long\""
        }
       ],
       "type": "table"
      }
     },
     "output_type": "display_data"
    }
   ],
   "source": [
    "display(df_DIM_category)"
   ]
  },
  {
   "cell_type": "code",
   "execution_count": 0,
   "metadata": {
    "application/vnd.databricks.v1+cell": {
     "cellMetadata": {
      "byteLimit": 2048000,
      "rowLimit": 10000
     },
     "inputWidgets": {},
     "nuid": "ee56ce35-6354-4a1f-a8b0-05a6349428ec",
     "showTitle": false,
     "tableResultSettingsMap": {},
     "title": ""
    }
   },
   "outputs": [],
   "source": [
    "df_DIM_category.write.format(\"delta\").mode(\"overwrite\").save(\"/FileStore/tables/DIM_Category\")"
   ]
  },
  {
   "cell_type": "code",
   "execution_count": 0,
   "metadata": {
    "application/vnd.databricks.v1+cell": {
     "cellMetadata": {
      "byteLimit": 2048000,
      "rowLimit": 10000
     },
     "inputWidgets": {},
     "nuid": "22680c49-4b27-4065-aa26-38cebbe10b51",
     "showTitle": false,
     "tableResultSettingsMap": {},
     "title": ""
    }
   },
   "outputs": [],
   "source": [
    "df_subcategory = df_sales.select([\n",
    "    col(\"ProductSubCategory\").alias(\"Title\")\n",
    "]).distinct()"
   ]
  },
  {
   "cell_type": "code",
   "execution_count": 0,
   "metadata": {
    "application/vnd.databricks.v1+cell": {
     "cellMetadata": {
      "byteLimit": 2048000,
      "rowLimit": 10000
     },
     "inputWidgets": {},
     "nuid": "d355c38f-3e8a-42f1-a24e-5b990fa98b69",
     "showTitle": false,
     "tableResultSettingsMap": {},
     "title": ""
    }
   },
   "outputs": [],
   "source": [
    "df_subcategory2 = df_subcategory.withColumn(\"SubCategoryKey\",hashFcn(upper(col(\"Title\"))).cast(\"bigint\"))"
   ]
  },
  {
   "cell_type": "code",
   "execution_count": 0,
   "metadata": {
    "application/vnd.databricks.v1+cell": {
     "cellMetadata": {
      "byteLimit": 2048000,
      "rowLimit": 10000
     },
     "inputWidgets": {},
     "nuid": "6df54409-e49d-4f81-8b19-d1f828dbd89f",
     "showTitle": false,
     "tableResultSettingsMap": {},
     "title": ""
    }
   },
   "outputs": [],
   "source": [
    "#handle unknown\n",
    "df_na_subcat = spark.createDataFrame([\n",
    "    (\"N/A\",-1)\n",
    "],[\"Title\",\"SubCategoryKey\"])\n",
    "df_DIM_subcategory = df_subcategory2.unionAll(df_na_subcat)"
   ]
  },
  {
   "cell_type": "code",
   "execution_count": 0,
   "metadata": {
    "application/vnd.databricks.v1+cell": {
     "cellMetadata": {
      "byteLimit": 2048000,
      "rowLimit": 10000
     },
     "inputWidgets": {},
     "nuid": "6f9ab34a-5230-4964-97a0-44ec9bdd989a",
     "showTitle": false,
     "tableResultSettingsMap": {},
     "title": ""
    }
   },
   "outputs": [
    {
     "output_type": "display_data",
     "data": {
      "text/html": [
       "<style scoped>\n",
       "  .table-result-container {\n",
       "    max-height: 300px;\n",
       "    overflow: auto;\n",
       "  }\n",
       "  table, th, td {\n",
       "    border: 1px solid black;\n",
       "    border-collapse: collapse;\n",
       "  }\n",
       "  th, td {\n",
       "    padding: 5px;\n",
       "  }\n",
       "  th {\n",
       "    text-align: left;\n",
       "  }\n",
       "</style><div class='table-result-container'><table class='table-result'><thead style='background-color: white'><tr><th>Title</th><th>SubCategoryKey</th></tr></thead><tbody><tr><td>Vegetables</td><td>-167645305</td></tr><tr><td>Table</td><td>-1029118937</td></tr><tr><td>Shirt</td><td>-686888261</td></tr><tr><td>Mobile</td><td>-1314911383</td></tr><tr><td>N/A</td><td>-1</td></tr></tbody></table></div>"
      ]
     },
     "metadata": {
      "application/vnd.databricks.v1+output": {
       "addedWidgets": {},
       "aggData": [],
       "aggError": "",
       "aggOverflow": false,
       "aggSchema": [],
       "aggSeriesLimitReached": false,
       "aggType": "",
       "arguments": {},
       "columnCustomDisplayInfos": {},
       "data": [
        [
         "Vegetables",
         -167645305
        ],
        [
         "Table",
         -1029118937
        ],
        [
         "Shirt",
         -686888261
        ],
        [
         "Mobile",
         -1314911383
        ],
        [
         "N/A",
         -1
        ]
       ],
       "datasetInfos": [],
       "dbfsResultPath": null,
       "isJsonSchema": true,
       "metadata": {},
       "overflow": false,
       "plotOptions": {
        "customPlotOptions": {},
        "displayType": "table",
        "pivotAggregation": null,
        "pivotColumns": null,
        "xColumns": null,
        "yColumns": null
       },
       "removedWidgets": [],
       "schema": [
        {
         "metadata": "{}",
         "name": "Title",
         "type": "\"string\""
        },
        {
         "metadata": "{}",
         "name": "SubCategoryKey",
         "type": "\"long\""
        }
       ],
       "type": "table"
      }
     },
     "output_type": "display_data"
    }
   ],
   "source": [
    "display(df_DIM_subcategory)"
   ]
  },
  {
   "cell_type": "code",
   "execution_count": 0,
   "metadata": {
    "application/vnd.databricks.v1+cell": {
     "cellMetadata": {
      "byteLimit": 2048000,
      "rowLimit": 10000
     },
     "inputWidgets": {},
     "nuid": "8fc9d230-dd95-406f-8d97-2840c889aec1",
     "showTitle": false,
     "tableResultSettingsMap": {},
     "title": ""
    }
   },
   "outputs": [],
   "source": [
    "# write to delta table\n",
    "df_DIM_subcategory.write.format(\"delta\").mode(\"overwrite\").save(\"/FileStore/tables/DIM_SubCategory\")"
   ]
  },
  {
   "cell_type": "markdown",
   "metadata": {
    "application/vnd.databricks.v1+cell": {
     "cellMetadata": {},
     "inputWidgets": {},
     "nuid": "666627b6-3bcb-4c42-80a3-68b2d20303ff",
     "showTitle": false,
     "tableResultSettingsMap": {},
     "title": ""
    }
   },
   "source": [
    "##### Create Dimension SalesChannel,CustomerSegment,SalesRep,StoreType"
   ]
  },
  {
   "cell_type": "code",
   "execution_count": 0,
   "metadata": {
    "application/vnd.databricks.v1+cell": {
     "cellMetadata": {
      "byteLimit": 2048000,
      "rowLimit": 10000
     },
     "inputWidgets": {},
     "nuid": "7e446917-8a82-49be-83b6-d00fd635bcc1",
     "showTitle": false,
     "tableResultSettingsMap": {},
     "title": ""
    }
   },
   "outputs": [],
   "source": [
    "df_sales_channel = df_sales.select([\n",
    "    col(\"SalesChannel\").alias(\"Name\")\n",
    "]).distinct()\n",
    "\n",
    "df_customer_segment = df_sales.select([\n",
    "    col(\"CustomerSegment\").alias(\"Segment\")\n",
    "]).distinct()\n",
    "\n",
    "df_sales_rep = df_sales.select([\n",
    "    col(\"SalesRep\").alias(\"Name\")\n",
    "]).distinct()\n",
    "\n",
    "df_store_type = df_sales.select([\n",
    "    col(\"StoreType\").alias(\"Name\")\n",
    "]).distinct()"
   ]
  },
  {
   "cell_type": "code",
   "execution_count": 0,
   "metadata": {
    "application/vnd.databricks.v1+cell": {
     "cellMetadata": {
      "byteLimit": 2048000,
      "rowLimit": 10000
     },
     "inputWidgets": {},
     "nuid": "6da7e94e-99f9-4ffb-a5e4-fc1d0b344fd0",
     "showTitle": false,
     "tableResultSettingsMap": {},
     "title": ""
    }
   },
   "outputs": [],
   "source": [
    "df_sales_channel2 = df_sales_channel.withColumn(\"SalesChannelKey\",hashFcn(upper(col(\"Name\"))).cast(\"bigint\"))\n",
    "\n",
    "df_customer_segment2 = df_customer_segment.withColumn(\"CustomerSegmentKey\",hashFcn(upper(col(\"Segment\"))).cast(\"bigint\"))\n",
    "\n",
    "df_sales_rep2 = df_sales_rep.withColumn(\"SalesRepKey\",hashFcn(upper(col(\"Name\"))).cast(\"bigint\"))\n",
    "\n",
    "df_store_type2 = df_store_type.withColumn(\"StoreTypeKey\",hashFcn(upper(col(\"Name\"))).cast(\"bigint\"))"
   ]
  },
  {
   "cell_type": "code",
   "execution_count": 0,
   "metadata": {
    "application/vnd.databricks.v1+cell": {
     "cellMetadata": {
      "byteLimit": 2048000,
      "rowLimit": 10000
     },
     "inputWidgets": {},
     "nuid": "7e82929f-3d28-4e6a-86e8-09b18be37df1",
     "showTitle": false,
     "tableResultSettingsMap": {},
     "title": ""
    }
   },
   "outputs": [],
   "source": [
    "df_sales_channel_na = spark.createDataFrame([\n",
    "    (\"N/A\",-1)\n",
    "],[\"Name\",\"SalesChannelKey\"])\n",
    "df_DIM_sales_channel = df_sales_channel2.unionAll(df_sales_channel_na)\n",
    "\n",
    "df_customer_segment_na = spark.createDataFrame([\n",
    "    (\"N/A\",-1)\n",
    "],[\"Segment\",\"CsutomerSegmentKey\"])\n",
    "df_DIM_customer_segment = df_customer_segment2.unionAll(df_customer_segment_na)\n",
    "\n",
    "df_sales_rep_na = spark.createDataFrame([\n",
    "    (\"N/A\",-1)\n",
    "],[\"Name\",\"SalesRepKey\"])\n",
    "df_DIM_sales_rep = df_sales_rep2.unionAll(df_sales_rep_na)\n",
    "\n",
    "df_store_type_na = spark.createDataFrame([\n",
    "    (\"N/A\",-1)\n",
    "],[\"Name\",\"StoreTypeKey\"])\n",
    "df_DIM_store_type = df_store_type2.unionAll(df_store_type_na)"
   ]
  },
  {
   "cell_type": "code",
   "execution_count": 0,
   "metadata": {
    "application/vnd.databricks.v1+cell": {
     "cellMetadata": {
      "byteLimit": 2048000,
      "rowLimit": 10000
     },
     "inputWidgets": {},
     "nuid": "81b11971-82fc-4178-a309-a3c7e54b8cb1",
     "showTitle": false,
     "tableResultSettingsMap": {},
     "title": ""
    },
    "jupyter": {
     "outputs_hidden": true
    }
   },
   "outputs": [
    {
     "output_type": "display_data",
     "data": {
      "text/html": [
       "<style scoped>\n",
       "  .table-result-container {\n",
       "    max-height: 300px;\n",
       "    overflow: auto;\n",
       "  }\n",
       "  table, th, td {\n",
       "    border: 1px solid black;\n",
       "    border-collapse: collapse;\n",
       "  }\n",
       "  th, td {\n",
       "    padding: 5px;\n",
       "  }\n",
       "  th {\n",
       "    text-align: left;\n",
       "  }\n",
       "</style><div class='table-result-container'><table class='table-result'><thead style='background-color: white'><tr><th>Name</th><th>SalesChannelKey</th></tr></thead><tbody><tr><td>Wholesale</td><td>2128323039</td></tr><tr><td>Online</td><td>2000399776</td></tr><tr><td>Retail</td><td>-2034590472</td></tr><tr><td>Offline</td><td>1815579165</td></tr><tr><td>N/A</td><td>-1</td></tr></tbody></table></div>"
      ]
     },
     "metadata": {
      "application/vnd.databricks.v1+output": {
       "addedWidgets": {},
       "aggData": [],
       "aggError": "",
       "aggOverflow": false,
       "aggSchema": [],
       "aggSeriesLimitReached": false,
       "aggType": "",
       "arguments": {},
       "columnCustomDisplayInfos": {},
       "data": [
        [
         "Wholesale",
         2128323039
        ],
        [
         "Online",
         2000399776
        ],
        [
         "Retail",
         -2034590472
        ],
        [
         "Offline",
         1815579165
        ],
        [
         "N/A",
         -1
        ]
       ],
       "datasetInfos": [],
       "dbfsResultPath": null,
       "isJsonSchema": true,
       "metadata": {},
       "overflow": false,
       "plotOptions": {
        "customPlotOptions": {},
        "displayType": "table",
        "pivotAggregation": null,
        "pivotColumns": null,
        "xColumns": null,
        "yColumns": null
       },
       "removedWidgets": [],
       "schema": [
        {
         "metadata": "{}",
         "name": "Name",
         "type": "\"string\""
        },
        {
         "metadata": "{}",
         "name": "SalesChannelKey",
         "type": "\"long\""
        }
       ],
       "type": "table"
      }
     },
     "output_type": "display_data"
    },
    {
     "output_type": "display_data",
     "data": {
      "text/html": [
       "<style scoped>\n",
       "  .table-result-container {\n",
       "    max-height: 300px;\n",
       "    overflow: auto;\n",
       "  }\n",
       "  table, th, td {\n",
       "    border: 1px solid black;\n",
       "    border-collapse: collapse;\n",
       "  }\n",
       "  th, td {\n",
       "    padding: 5px;\n",
       "  }\n",
       "  th {\n",
       "    text-align: left;\n",
       "  }\n",
       "</style><div class='table-result-container'><table class='table-result'><thead style='background-color: white'><tr><th>Segment</th><th>CustomerSegmentKey</th></tr></thead><tbody><tr><td>Consumer</td><td>-1594651443</td></tr><tr><td>Home Office</td><td>-951279011</td></tr><tr><td>Corporate</td><td>-7382621</td></tr><tr><td>Small Business</td><td>911933479</td></tr><tr><td>N/A</td><td>-1</td></tr></tbody></table></div>"
      ]
     },
     "metadata": {
      "application/vnd.databricks.v1+output": {
       "addedWidgets": {},
       "aggData": [],
       "aggError": "",
       "aggOverflow": false,
       "aggSchema": [],
       "aggSeriesLimitReached": false,
       "aggType": "",
       "arguments": {},
       "columnCustomDisplayInfos": {},
       "data": [
        [
         "Consumer",
         -1594651443
        ],
        [
         "Home Office",
         -951279011
        ],
        [
         "Corporate",
         -7382621
        ],
        [
         "Small Business",
         911933479
        ],
        [
         "N/A",
         -1
        ]
       ],
       "datasetInfos": [],
       "dbfsResultPath": null,
       "isJsonSchema": true,
       "metadata": {},
       "overflow": false,
       "plotOptions": {
        "customPlotOptions": {},
        "displayType": "table",
        "pivotAggregation": null,
        "pivotColumns": null,
        "xColumns": null,
        "yColumns": null
       },
       "removedWidgets": [],
       "schema": [
        {
         "metadata": "{}",
         "name": "Segment",
         "type": "\"string\""
        },
        {
         "metadata": "{}",
         "name": "CustomerSegmentKey",
         "type": "\"long\""
        }
       ],
       "type": "table"
      }
     },
     "output_type": "display_data"
    },
    {
     "output_type": "display_data",
     "data": {
      "text/html": [
       "<style scoped>\n",
       "  .table-result-container {\n",
       "    max-height: 300px;\n",
       "    overflow: auto;\n",
       "  }\n",
       "  table, th, td {\n",
       "    border: 1px solid black;\n",
       "    border-collapse: collapse;\n",
       "  }\n",
       "  th, td {\n",
       "    padding: 5px;\n",
       "  }\n",
       "  th {\n",
       "    text-align: left;\n",
       "  }\n",
       "</style><div class='table-result-container'><table class='table-result'><thead style='background-color: white'><tr><th>Name</th><th>SalesRepKey</th></tr></thead><tbody><tr><td>Diana</td><td>-1866580689</td></tr><tr><td>Charlie</td><td>591137949</td></tr><tr><td>Bob</td><td>-392921166</td></tr><tr><td>Alice</td><td>1352887388</td></tr><tr><td>N/A</td><td>-1</td></tr></tbody></table></div>"
      ]
     },
     "metadata": {
      "application/vnd.databricks.v1+output": {
       "addedWidgets": {},
       "aggData": [],
       "aggError": "",
       "aggOverflow": false,
       "aggSchema": [],
       "aggSeriesLimitReached": false,
       "aggType": "",
       "arguments": {},
       "columnCustomDisplayInfos": {},
       "data": [
        [
         "Diana",
         -1866580689
        ],
        [
         "Charlie",
         591137949
        ],
        [
         "Bob",
         -392921166
        ],
        [
         "Alice",
         1352887388
        ],
        [
         "N/A",
         -1
        ]
       ],
       "datasetInfos": [],
       "dbfsResultPath": null,
       "isJsonSchema": true,
       "metadata": {},
       "overflow": false,
       "plotOptions": {
        "customPlotOptions": {},
        "displayType": "table",
        "pivotAggregation": null,
        "pivotColumns": null,
        "xColumns": null,
        "yColumns": null
       },
       "removedWidgets": [],
       "schema": [
        {
         "metadata": "{}",
         "name": "Name",
         "type": "\"string\""
        },
        {
         "metadata": "{}",
         "name": "SalesRepKey",
         "type": "\"long\""
        }
       ],
       "type": "table"
      }
     },
     "output_type": "display_data"
    },
    {
     "output_type": "display_data",
     "data": {
      "text/html": [
       "<style scoped>\n",
       "  .table-result-container {\n",
       "    max-height: 300px;\n",
       "    overflow: auto;\n",
       "  }\n",
       "  table, th, td {\n",
       "    border: 1px solid black;\n",
       "    border-collapse: collapse;\n",
       "  }\n",
       "  th, td {\n",
       "    padding: 5px;\n",
       "  }\n",
       "  th {\n",
       "    text-align: left;\n",
       "  }\n",
       "</style><div class='table-result-container'><table class='table-result'><thead style='background-color: white'><tr><th>Name</th><th>StoreTypeKey</th></tr></thead><tbody><tr><td>Urban</td><td>-1427273716</td></tr><tr><td>Suburban</td><td>-1640598988</td></tr><tr><td>Rural</td><td>-817774136</td></tr><tr><td>Metro</td><td>1735384348</td></tr><tr><td>N/A</td><td>-1</td></tr></tbody></table></div>"
      ]
     },
     "metadata": {
      "application/vnd.databricks.v1+output": {
       "addedWidgets": {},
       "aggData": [],
       "aggError": "",
       "aggOverflow": false,
       "aggSchema": [],
       "aggSeriesLimitReached": false,
       "aggType": "",
       "arguments": {},
       "columnCustomDisplayInfos": {},
       "data": [
        [
         "Urban",
         -1427273716
        ],
        [
         "Suburban",
         -1640598988
        ],
        [
         "Rural",
         -817774136
        ],
        [
         "Metro",
         1735384348
        ],
        [
         "N/A",
         -1
        ]
       ],
       "datasetInfos": [],
       "dbfsResultPath": null,
       "isJsonSchema": true,
       "metadata": {},
       "overflow": false,
       "plotOptions": {
        "customPlotOptions": {},
        "displayType": "table",
        "pivotAggregation": null,
        "pivotColumns": null,
        "xColumns": null,
        "yColumns": null
       },
       "removedWidgets": [],
       "schema": [
        {
         "metadata": "{}",
         "name": "Name",
         "type": "\"string\""
        },
        {
         "metadata": "{}",
         "name": "StoreTypeKey",
         "type": "\"long\""
        }
       ],
       "type": "table"
      }
     },
     "output_type": "display_data"
    }
   ],
   "source": [
    "display(df_DIM_sales_channel)\n",
    "display(df_DIM_customer_segment)\n",
    "display(df_DIM_sales_rep)\n",
    "display(df_DIM_store_type)"
   ]
  },
  {
   "cell_type": "code",
   "execution_count": 0,
   "metadata": {
    "application/vnd.databricks.v1+cell": {
     "cellMetadata": {
      "byteLimit": 2048000,
      "rowLimit": 10000
     },
     "inputWidgets": {},
     "nuid": "98984672-2936-4586-aa8c-9e349bbeda1d",
     "showTitle": false,
     "tableResultSettingsMap": {},
     "title": ""
    }
   },
   "outputs": [],
   "source": [
    "df_DIM_sales_channel.write.format(\"delta\").mode(\"overwrite\").save(\"/FileStore/tables/DIM_sales_channel\")\n",
    "\n",
    "df_DIM_customer_segment.write.format(\"delta\").mode(\"overwrite\").save(\"/FileStore/tables/DIM_customer_segment\")\n",
    "\n",
    "df_DIM_sales_rep.write.format(\"delta\").mode(\"overwrite\").save(\"/FileStore/tables/DIM_sales_rep\")\n",
    "\n",
    "df_DIM_store_type.write.format(\"delta\").mode(\"overwrite\").save(\"/FileStore/tables/DIM_store_type\")"
   ]
  },
  {
   "cell_type": "markdown",
   "metadata": {
    "application/vnd.databricks.v1+cell": {
     "cellMetadata": {},
     "inputWidgets": {},
     "nuid": "e1edc546-c2a6-4df8-94c5-a97cb02324cd",
     "showTitle": false,
     "tableResultSettingsMap": {},
     "title": ""
    }
   },
   "source": [
    "##### Create Date Dimension"
   ]
  },
  {
   "cell_type": "code",
   "execution_count": 0,
   "metadata": {
    "application/vnd.databricks.v1+cell": {
     "cellMetadata": {
      "byteLimit": 2048000,
      "rowLimit": 10000
     },
     "inputWidgets": {},
     "nuid": "b46b4f85-29ed-4729-a2a8-169a7328fd04",
     "showTitle": false,
     "tableResultSettingsMap": {},
     "title": ""
    }
   },
   "outputs": [],
   "source": [
    "# extract unique year from fact sales\n",
    "df_unique_years = df_sales.select([\n",
    "    year(col('SalesDate')).alias('Year').cast(\"int\")\n",
    "]).distinct()\n",
    "#display(unique_years)"
   ]
  },
  {
   "cell_type": "code",
   "execution_count": 0,
   "metadata": {
    "application/vnd.databricks.v1+cell": {
     "cellMetadata": {
      "byteLimit": 2048000,
      "rowLimit": 10000
     },
     "inputWidgets": {},
     "nuid": "85ac128c-aa08-4d7c-bd42-0ef6dbdfad9f",
     "showTitle": false,
     "tableResultSettingsMap": {},
     "title": ""
    }
   },
   "outputs": [],
   "source": [
    "# Get min and max years\n",
    "aggYear = df_unique_years.agg(\n",
    "   minValue(col(\"Year\")).alias(\"MinYear\"),\n",
    "   maxValue(col(\"Year\")).alias(\"MaxYear\"), \n",
    ")\n",
    "minYear = aggYear.collect()[0][0]\n",
    "maxYear = aggYear.collect()[0][1]\n"
   ]
  },
  {
   "cell_type": "code",
   "execution_count": 0,
   "metadata": {
    "application/vnd.databricks.v1+cell": {
     "cellMetadata": {
      "byteLimit": 2048000,
      "rowLimit": 10000
     },
     "inputWidgets": {},
     "nuid": "66793c86-5255-4ddf-9ccc-78a24a8f9781",
     "showTitle": false,
     "tableResultSettingsMap": {},
     "title": ""
    }
   },
   "outputs": [],
   "source": [
    "date_schema = StructType([\n",
    "    StructField(\"DateKey\", LongType(), True),\n",
    "    StructField(\"Date\", DateType(), True),\n",
    "])\n",
    "\n",
    "# had to use datetime library for date manipulation\n",
    "\n",
    "start_date = datetime(minYear, 1, 1) \n",
    "end_date = datetime(maxYear, 12, 31) \n",
    "\n",
    "date_rows = []\n",
    "current_date = start_date\n",
    "while current_date <= end_date:\n",
    "    date_key = int(current_date.strftime('%Y%m%d'))\n",
    "    date_rows.append((date_key, current_date.date())) \n",
    "    current_date += timedelta(days=1)\n",
    "\n",
    "df_date = spark.createDataFrame(date_rows, date_schema)\n",
    "\n",
    "df_DIM_date = df_date.withColumn(\"MonthName\", date_format(col(\"Date\"),\"MMMM\")) \\\n",
    "                  .withColumn(\"Year\", year(col(\"Date\"))) \\\n",
    "                  .withColumn(\"Quarter\", quarter(col(\"Date\"))) \\\n",
    "                  .withColumn(\"semester\", when(month(col(\"Date\")) >= 8, \"Fall\").when(month(col(\"Date\")) <= 5, \"Spring\").otherwise(\"Summer\"))"
   ]
  },
  {
   "cell_type": "code",
   "execution_count": 0,
   "metadata": {
    "application/vnd.databricks.v1+cell": {
     "cellMetadata": {
      "byteLimit": 2048000,
      "rowLimit": 10000
     },
     "inputWidgets": {},
     "nuid": "9207a696-3f99-425a-b41f-304a14f08ce4",
     "showTitle": false,
     "tableResultSettingsMap": {},
     "title": ""
    }
   },
   "outputs": [],
   "source": [
    "df_DIM_date.write.format(\"delta\").mode(\"overwrite\").save(\"/FileStore/tables/DIM_date\")"
   ]
  },
  {
   "cell_type": "markdown",
   "metadata": {
    "application/vnd.databricks.v1+cell": {
     "cellMetadata": {},
     "inputWidgets": {},
     "nuid": "e8f0914d-9ef9-43ba-abea-dbaa43d79df0",
     "showTitle": false,
     "tableResultSettingsMap": {},
     "title": ""
    }
   },
   "source": [
    "#### Create Fact Table With DIM Keys"
   ]
  },
  {
   "cell_type": "code",
   "execution_count": 0,
   "metadata": {
    "application/vnd.databricks.v1+cell": {
     "cellMetadata": {
      "byteLimit": 2048000,
      "rowLimit": 10000
     },
     "inputWidgets": {},
     "nuid": "21d66c09-754b-463b-b8aa-49229f31452e",
     "showTitle": false,
     "tableResultSettingsMap": {},
     "title": ""
    }
   },
   "outputs": [],
   "source": [
    "df_fact2 = df_sales.withColumn(\"DIM_RegionKey\", when(col(\"Region\").isNull(), -1) \\\n",
    "                              .otherwise(hashFcn(upper(col(\"Region\")))).cast(\"bigint\")) \\\n",
    "                  .withColumn(\"DIM_CategoryKey\", when(col(\"ProductCategory\").isNull(), -1) \\\n",
    "                              .otherwise(hashFcn(upper(col(\"ProductCategory\")))).cast(\"bigint\")) \\\n",
    "                  .withColumn(\"DIM_SubCategoryKey\", when(col(\"ProductSubCategory\").isNull(), -1) \\\n",
    "                              .otherwise(hashFcn(upper(col(\"ProductSubCategory\")))).cast(\"bigint\")) \\\n",
    "                  .withColumn(\"DIM_SalesChannelKey\", when(col(\"SalesChannel\").isNull(), -1) \\\n",
    "                              .otherwise(hashFcn(upper(col(\"SalesChannel\")))).cast(\"bigint\")) \\\n",
    "                  .withColumn(\"DIM_CustomerSegmentKey\", when(col(\"CustomerSegment\").isNull(), -1) \\\n",
    "                              .otherwise(hashFcn(upper(col(\"CustomerSegment\")))).cast(\"bigint\")) \\\n",
    "                  .withColumn(\"DIM_SalesRepKey\", when(col(\"SalesRep\").isNull(), -1) \\\n",
    "                              .otherwise(hashFcn(upper(col(\"SalesRep\")))).cast(\"bigint\")) \\\n",
    "                  .withColumn(\"DIM_StoreTypeKey\", when(col(\"StoreType\").isNull(), -1) \\\n",
    "                              .otherwise(hashFcn(upper(col(\"StoreType\")))).cast(\"bigint\")) \\\n",
    "                  .withColumn(\"SalesDateKey\", when(col(\"SalesDate\").isNull(), -1) \\\n",
    "                              .otherwise(regexp_replace(col(\"SalesDate\"),\"-\",\"\")).cast(\"bigint\")) \\\n",
    "                              .drop(col(\"Region\")) \\\n",
    "                              .drop(col(\"ProductCategory\")) \\\n",
    "                              .drop(col(\"ProductSubCategory\")) \\\n",
    "                              .drop(col(\"SalesChannel\")) \\\n",
    "                              .drop(col(\"CustomerSegment\")) \\\n",
    "                              .drop(col(\"SalesRep\")) \\\n",
    "                              .drop(col(\"StoreType\")) \\\n",
    "                              .drop(col(\"SalesDate\")) \n"
   ]
  },
  {
   "cell_type": "code",
   "execution_count": 0,
   "metadata": {
    "application/vnd.databricks.v1+cell": {
     "cellMetadata": {
      "byteLimit": 2048000,
      "rowLimit": 10000
     },
     "inputWidgets": {},
     "nuid": "41ba10f8-4f87-46f4-9c6c-d5e03f92f77d",
     "showTitle": false,
     "tableResultSettingsMap": {},
     "title": ""
    },
    "jupyter": {
     "outputs_hidden": true
    }
   },
   "outputs": [
    {
     "output_type": "display_data",
     "data": {
      "text/html": [
       "<style scoped>\n",
       "  .table-result-container {\n",
       "    max-height: 300px;\n",
       "    overflow: auto;\n",
       "  }\n",
       "  table, th, td {\n",
       "    border: 1px solid black;\n",
       "    border-collapse: collapse;\n",
       "  }\n",
       "  th, td {\n",
       "    padding: 5px;\n",
       "  }\n",
       "  th {\n",
       "    text-align: left;\n",
       "  }\n",
       "</style><div class='table-result-container'><table class='table-result'><thead style='background-color: white'><tr><th>UnitsSold</th><th>Revenue</th><th>DIM_RegionKey</th><th>DIM_CategoryKey</th><th>DIM_SubCategoryKey</th><th>DIM_SalesChannelKey</th><th>DIM_CustomerSegmentKey</th><th>DIM_SalesRepKey</th><th>DIM_StoreTypeKey</th><th>SalesDateKey</th></tr></thead><tbody><tr><td>10</td><td>1000</td><td>1869582694</td><td>1422188909</td><td>-1314911383</td><td>2000399776</td><td>-1594651443</td><td>1352887388</td><td>-1427273716</td><td>20230721</td></tr><tr><td>20</td><td>1500</td><td>-96241737</td><td>218386994</td><td>-686888261</td><td>1815579165</td><td>-7382621</td><td>-392921166</td><td>-1640598988</td><td>20240128</td></tr><tr><td>15</td><td>1200</td><td>-1592160435</td><td>-871983438</td><td>-1029118937</td><td>-2034590472</td><td>-951279011</td><td>591137949</td><td>-817774136</td><td>20250222</td></tr><tr><td>30</td><td>3000</td><td>-402154387</td><td>963552435</td><td>-167645305</td><td>2128323039</td><td>911933479</td><td>-1866580689</td><td>1735384348</td><td>20230124</td></tr><tr><td>12</td><td>1100</td><td>1869582694</td><td>1422188909</td><td>-1314911383</td><td>2000399776</td><td>-1594651443</td><td>1352887388</td><td>-1427273716</td><td>20250131</td></tr><tr><td>25</td><td>2500</td><td>-96241737</td><td>218386994</td><td>-686888261</td><td>1815579165</td><td>-7382621</td><td>-392921166</td><td>-1640598988</td><td>20230627</td></tr><tr><td>22</td><td>2200</td><td>-1592160435</td><td>-871983438</td><td>-1029118937</td><td>-2034590472</td><td>-951279011</td><td>591137949</td><td>-817774136</td><td>20220602</td></tr><tr><td>18</td><td>1800</td><td>-402154387</td><td>963552435</td><td>-167645305</td><td>2128323039</td><td>911933479</td><td>-1866580689</td><td>1735384348</td><td>20241229</td></tr><tr><td>10</td><td>1000</td><td>1869582694</td><td>1422188909</td><td>-1314911383</td><td>2000399776</td><td>-1594651443</td><td>1352887388</td><td>-1427273716</td><td>20250604</td></tr><tr><td>20</td><td>1500</td><td>-96241737</td><td>218386994</td><td>-686888261</td><td>1815579165</td><td>-7382621</td><td>-392921166</td><td>-1640598988</td><td>20240316</td></tr><tr><td>15</td><td>1200</td><td>-1592160435</td><td>-871983438</td><td>-1029118937</td><td>-2034590472</td><td>-951279011</td><td>591137949</td><td>-817774136</td><td>20241125</td></tr><tr><td>30</td><td>3000</td><td>-402154387</td><td>963552435</td><td>-167645305</td><td>2128323039</td><td>911933479</td><td>-1866580689</td><td>1735384348</td><td>20231029</td></tr><tr><td>12</td><td>1100</td><td>1869582694</td><td>1422188909</td><td>-1314911383</td><td>2000399776</td><td>-1594651443</td><td>1352887388</td><td>-1427273716</td><td>20200625</td></tr><tr><td>25</td><td>2500</td><td>-96241737</td><td>218386994</td><td>-686888261</td><td>1815579165</td><td>-7382621</td><td>-392921166</td><td>-1640598988</td><td>20221223</td></tr><tr><td>22</td><td>2200</td><td>-1592160435</td><td>-871983438</td><td>-1029118937</td><td>-2034590472</td><td>-951279011</td><td>591137949</td><td>-817774136</td><td>20220121</td></tr><tr><td>18</td><td>1800</td><td>-402154387</td><td>963552435</td><td>-167645305</td><td>2128323039</td><td>911933479</td><td>-1866580689</td><td>1735384348</td><td>20240427</td></tr><tr><td>10</td><td>1000</td><td>1869582694</td><td>1422188909</td><td>-1314911383</td><td>2000399776</td><td>-1594651443</td><td>1352887388</td><td>-1427273716</td><td>20230509</td></tr><tr><td>20</td><td>1500</td><td>-96241737</td><td>218386994</td><td>-686888261</td><td>1815579165</td><td>-7382621</td><td>-392921166</td><td>-1640598988</td><td>20220708</td></tr><tr><td>15</td><td>1200</td><td>-1592160435</td><td>-871983438</td><td>-1029118937</td><td>-2034590472</td><td>-951279011</td><td>591137949</td><td>-817774136</td><td>20210213</td></tr><tr><td>30</td><td>3000</td><td>-402154387</td><td>963552435</td><td>-167645305</td><td>2128323039</td><td>911933479</td><td>-1866580689</td><td>1735384348</td><td>20240612</td></tr><tr><td>12</td><td>1100</td><td>1869582694</td><td>1422188909</td><td>-1314911383</td><td>2000399776</td><td>-1594651443</td><td>1352887388</td><td>-1427273716</td><td>20230207</td></tr><tr><td>25</td><td>2500</td><td>-96241737</td><td>218386994</td><td>-686888261</td><td>1815579165</td><td>-7382621</td><td>-392921166</td><td>-1640598988</td><td>20220529</td></tr><tr><td>22</td><td>2200</td><td>-1592160435</td><td>-871983438</td><td>-1029118937</td><td>-2034590472</td><td>-951279011</td><td>591137949</td><td>-817774136</td><td>20250131</td></tr><tr><td>18</td><td>1800</td><td>-402154387</td><td>963552435</td><td>-167645305</td><td>2128323039</td><td>911933479</td><td>-1866580689</td><td>1735384348</td><td>20210702</td></tr><tr><td>10</td><td>1000</td><td>1869582694</td><td>1422188909</td><td>-1314911383</td><td>2000399776</td><td>-1594651443</td><td>1352887388</td><td>-1427273716</td><td>20210127</td></tr><tr><td>20</td><td>1500</td><td>-96241737</td><td>218386994</td><td>-686888261</td><td>1815579165</td><td>-7382621</td><td>-392921166</td><td>-1640598988</td><td>20211109</td></tr><tr><td>15</td><td>1200</td><td>-1592160435</td><td>-871983438</td><td>-1029118937</td><td>-2034590472</td><td>-951279011</td><td>591137949</td><td>-817774136</td><td>20230323</td></tr><tr><td>30</td><td>3000</td><td>-402154387</td><td>963552435</td><td>-167645305</td><td>2128323039</td><td>911933479</td><td>-1866580689</td><td>1735384348</td><td>20211108</td></tr><tr><td>12</td><td>1100</td><td>1869582694</td><td>1422188909</td><td>-1314911383</td><td>2000399776</td><td>-1594651443</td><td>1352887388</td><td>-1427273716</td><td>20211015</td></tr><tr><td>25</td><td>2500</td><td>-96241737</td><td>218386994</td><td>-686888261</td><td>1815579165</td><td>-7382621</td><td>-392921166</td><td>-1640598988</td><td>20211126</td></tr></tbody></table></div>"
      ]
     },
     "metadata": {
      "application/vnd.databricks.v1+output": {
       "addedWidgets": {},
       "aggData": [],
       "aggError": "",
       "aggOverflow": false,
       "aggSchema": [],
       "aggSeriesLimitReached": false,
       "aggType": "",
       "arguments": {},
       "columnCustomDisplayInfos": {},
       "data": [
        [
         10,
         1000,
         1869582694,
         1422188909,
         -1314911383,
         2000399776,
         -1594651443,
         1352887388,
         -1427273716,
         20230721
        ],
        [
         20,
         1500,
         -96241737,
         218386994,
         -686888261,
         1815579165,
         -7382621,
         -392921166,
         -1640598988,
         20240128
        ],
        [
         15,
         1200,
         -1592160435,
         -871983438,
         -1029118937,
         -2034590472,
         -951279011,
         591137949,
         -817774136,
         20250222
        ],
        [
         30,
         3000,
         -402154387,
         963552435,
         -167645305,
         2128323039,
         911933479,
         -1866580689,
         1735384348,
         20230124
        ],
        [
         12,
         1100,
         1869582694,
         1422188909,
         -1314911383,
         2000399776,
         -1594651443,
         1352887388,
         -1427273716,
         20250131
        ],
        [
         25,
         2500,
         -96241737,
         218386994,
         -686888261,
         1815579165,
         -7382621,
         -392921166,
         -1640598988,
         20230627
        ],
        [
         22,
         2200,
         -1592160435,
         -871983438,
         -1029118937,
         -2034590472,
         -951279011,
         591137949,
         -817774136,
         20220602
        ],
        [
         18,
         1800,
         -402154387,
         963552435,
         -167645305,
         2128323039,
         911933479,
         -1866580689,
         1735384348,
         20241229
        ],
        [
         10,
         1000,
         1869582694,
         1422188909,
         -1314911383,
         2000399776,
         -1594651443,
         1352887388,
         -1427273716,
         20250604
        ],
        [
         20,
         1500,
         -96241737,
         218386994,
         -686888261,
         1815579165,
         -7382621,
         -392921166,
         -1640598988,
         20240316
        ],
        [
         15,
         1200,
         -1592160435,
         -871983438,
         -1029118937,
         -2034590472,
         -951279011,
         591137949,
         -817774136,
         20241125
        ],
        [
         30,
         3000,
         -402154387,
         963552435,
         -167645305,
         2128323039,
         911933479,
         -1866580689,
         1735384348,
         20231029
        ],
        [
         12,
         1100,
         1869582694,
         1422188909,
         -1314911383,
         2000399776,
         -1594651443,
         1352887388,
         -1427273716,
         20200625
        ],
        [
         25,
         2500,
         -96241737,
         218386994,
         -686888261,
         1815579165,
         -7382621,
         -392921166,
         -1640598988,
         20221223
        ],
        [
         22,
         2200,
         -1592160435,
         -871983438,
         -1029118937,
         -2034590472,
         -951279011,
         591137949,
         -817774136,
         20220121
        ],
        [
         18,
         1800,
         -402154387,
         963552435,
         -167645305,
         2128323039,
         911933479,
         -1866580689,
         1735384348,
         20240427
        ],
        [
         10,
         1000,
         1869582694,
         1422188909,
         -1314911383,
         2000399776,
         -1594651443,
         1352887388,
         -1427273716,
         20230509
        ],
        [
         20,
         1500,
         -96241737,
         218386994,
         -686888261,
         1815579165,
         -7382621,
         -392921166,
         -1640598988,
         20220708
        ],
        [
         15,
         1200,
         -1592160435,
         -871983438,
         -1029118937,
         -2034590472,
         -951279011,
         591137949,
         -817774136,
         20210213
        ],
        [
         30,
         3000,
         -402154387,
         963552435,
         -167645305,
         2128323039,
         911933479,
         -1866580689,
         1735384348,
         20240612
        ],
        [
         12,
         1100,
         1869582694,
         1422188909,
         -1314911383,
         2000399776,
         -1594651443,
         1352887388,
         -1427273716,
         20230207
        ],
        [
         25,
         2500,
         -96241737,
         218386994,
         -686888261,
         1815579165,
         -7382621,
         -392921166,
         -1640598988,
         20220529
        ],
        [
         22,
         2200,
         -1592160435,
         -871983438,
         -1029118937,
         -2034590472,
         -951279011,
         591137949,
         -817774136,
         20250131
        ],
        [
         18,
         1800,
         -402154387,
         963552435,
         -167645305,
         2128323039,
         911933479,
         -1866580689,
         1735384348,
         20210702
        ],
        [
         10,
         1000,
         1869582694,
         1422188909,
         -1314911383,
         2000399776,
         -1594651443,
         1352887388,
         -1427273716,
         20210127
        ],
        [
         20,
         1500,
         -96241737,
         218386994,
         -686888261,
         1815579165,
         -7382621,
         -392921166,
         -1640598988,
         20211109
        ],
        [
         15,
         1200,
         -1592160435,
         -871983438,
         -1029118937,
         -2034590472,
         -951279011,
         591137949,
         -817774136,
         20230323
        ],
        [
         30,
         3000,
         -402154387,
         963552435,
         -167645305,
         2128323039,
         911933479,
         -1866580689,
         1735384348,
         20211108
        ],
        [
         12,
         1100,
         1869582694,
         1422188909,
         -1314911383,
         2000399776,
         -1594651443,
         1352887388,
         -1427273716,
         20211015
        ],
        [
         25,
         2500,
         -96241737,
         218386994,
         -686888261,
         1815579165,
         -7382621,
         -392921166,
         -1640598988,
         20211126
        ]
       ],
       "datasetInfos": [],
       "dbfsResultPath": null,
       "isJsonSchema": true,
       "metadata": {},
       "overflow": false,
       "plotOptions": {
        "customPlotOptions": {},
        "displayType": "table",
        "pivotAggregation": null,
        "pivotColumns": null,
        "xColumns": null,
        "yColumns": null
       },
       "removedWidgets": [],
       "schema": [
        {
         "metadata": "{}",
         "name": "UnitsSold",
         "type": "\"integer\""
        },
        {
         "metadata": "{}",
         "name": "Revenue",
         "type": "\"integer\""
        },
        {
         "metadata": "{}",
         "name": "DIM_RegionKey",
         "type": "\"long\""
        },
        {
         "metadata": "{}",
         "name": "DIM_CategoryKey",
         "type": "\"long\""
        },
        {
         "metadata": "{}",
         "name": "DIM_SubCategoryKey",
         "type": "\"long\""
        },
        {
         "metadata": "{}",
         "name": "DIM_SalesChannelKey",
         "type": "\"long\""
        },
        {
         "metadata": "{}",
         "name": "DIM_CustomerSegmentKey",
         "type": "\"long\""
        },
        {
         "metadata": "{}",
         "name": "DIM_SalesRepKey",
         "type": "\"long\""
        },
        {
         "metadata": "{}",
         "name": "DIM_StoreTypeKey",
         "type": "\"long\""
        },
        {
         "metadata": "{}",
         "name": "SalesDateKey",
         "type": "\"long\""
        }
       ],
       "type": "table"
      }
     },
     "output_type": "display_data"
    }
   ],
   "source": [
    "display(df_fact2)"
   ]
  },
  {
   "cell_type": "code",
   "execution_count": 0,
   "metadata": {
    "application/vnd.databricks.v1+cell": {
     "cellMetadata": {
      "byteLimit": 2048000,
      "rowLimit": 10000
     },
     "inputWidgets": {},
     "nuid": "e6521c09-816b-4682-9339-3fbbdfcd900f",
     "showTitle": false,
     "tableResultSettingsMap": {},
     "title": ""
    }
   },
   "outputs": [],
   "source": [
    "df_fact2.write.format(\"delta\").mode(\"overwrite\").save(\"/FileStore/tables/FACT_sales\")"
   ]
  }
 ],
 "metadata": {
  "application/vnd.databricks.v1+notebook": {
   "computePreferences": null,
   "dashboards": [],
   "environmentMetadata": {
    "base_environment": "",
    "environment_version": "1"
   },
   "inputWidgetPreferences": null,
   "language": "python",
   "notebookMetadata": {
    "pythonIndentUnit": 4
   },
   "notebookName": "Day2Assignment_dim_fact",
   "widgets": {}
  }
 },
 "nbformat": 4,
 "nbformat_minor": 0
}